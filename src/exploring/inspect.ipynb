{
 "cells": [
  {
   "cell_type": "code",
   "execution_count": 1,
   "metadata": {},
   "outputs": [
    {
     "name": "stderr",
     "output_type": "stream",
     "text": [
      "c:\\Users\\Mattias\\anaconda3\\envs\\classifier_env\\lib\\site-packages\\dask\\dataframe\\__init__.py:31: FutureWarning: The legacy Dask DataFrame implementation is deprecated and will be removed in a future version. Set the configuration option `dataframe.query-planning` to `True` or None to enable the new Dask Dataframe implementation and silence this warning.\n",
      "  warnings.warn(\n"
     ]
    }
   ],
   "source": [
    "from dask_image.imread import imread\n",
    "import dask.array as da\n",
    "import os\n",
    "import numpy as np\n",
    "import joblib\n",
    "import dask  # Import Dask first\n",
    "dask.config.set({'dataframe.query-planning': False})  # Disable query-planning\n",
    "\n",
    "import dask.dataframe as dd  # Now import dask.dataframe\n",
    "import pandas as pd\n",
    "import dask.dataframe as dd\n",
    "from spatialdata import read_zarr"
   ]
  },
  {
   "cell_type": "code",
   "execution_count": 2,
   "metadata": {},
   "outputs": [
    {
     "name": "stderr",
     "output_type": "stream",
     "text": [
      "c:\\Users\\Mattias\\anaconda3\\envs\\classifier_env\\lib\\site-packages\\zarr\\creation.py:614: UserWarning: ignoring keyword argument 'read_only'\n",
      "  compressor, fill_value = _kwargs_compat(compressor, fill_value, kwargs)\n"
     ]
    },
    {
     "data": {
      "text/plain": [
       "SpatialData object, with associated Zarr store: C:\\Users\\Mattias\\Documents\\projects\\HOGENT\\Bach_proef\\Bachelor_proef_VIB\\Testdata_MACSima\\Testdata_CA.zarr\n",
       "├── Images\n",
       "│     ├── 'channel_0': DataArray[cyx] (1, 4500, 7000)\n",
       "│     ├── 'channel_1': DataArray[cyx] (1, 4500, 7000)\n",
       "│     ├── 'channel_2': DataArray[cyx] (1, 4500, 7000)\n",
       "│     ├── 'channel_3': DataArray[cyx] (1, 4500, 7000)\n",
       "│     ├── 'channel_4': DataArray[cyx] (1, 4500, 7000)\n",
       "│     ├── 'channel_5': DataArray[cyx] (1, 4500, 7000)\n",
       "│     ├── 'channel_6': DataArray[cyx] (1, 4500, 7000)\n",
       "│     ├── 'channel_7': DataArray[cyx] (1, 4500, 7000)\n",
       "│     ├── 'channel_8': DataArray[cyx] (1, 4500, 7000)\n",
       "│     ├── 'channel_9': DataArray[cyx] (1, 4500, 7000)\n",
       "│     ├── 'channel_10': DataArray[cyx] (1, 4500, 7000)\n",
       "│     ├── 'channel_11': DataArray[cyx] (1, 4500, 7000)\n",
       "│     ├── 'channel_12': DataArray[cyx] (1, 4500, 7000)\n",
       "│     ├── 'channel_13': DataArray[cyx] (1, 4500, 7000)\n",
       "│     ├── 'channel_14': DataArray[cyx] (1, 4500, 7000)\n",
       "│     ├── 'channel_15': DataArray[cyx] (1, 4500, 7000)\n",
       "│     ├── 'channel_16': DataArray[cyx] (1, 4500, 7000)\n",
       "│     ├── 'channel_17': DataArray[cyx] (1, 4500, 7000)\n",
       "│     ├── 'channel_18': DataArray[cyx] (1, 4500, 7000)\n",
       "│     ├── 'channel_19': DataArray[cyx] (1, 4500, 7000)\n",
       "│     ├── 'channel_20': DataArray[cyx] (1, 4500, 7000)\n",
       "│     ├── 'channel_21': DataArray[cyx] (1, 4500, 7000)\n",
       "│     ├── 'channel_22': DataArray[cyx] (1, 4500, 7000)\n",
       "│     ├── 'channel_23': DataArray[cyx] (1, 4500, 7000)\n",
       "│     ├── 'channel_24': DataArray[cyx] (1, 4500, 7000)\n",
       "│     ├── 'channel_25': DataArray[cyx] (1, 4500, 7000)\n",
       "│     ├── 'channel_26': DataArray[cyx] (1, 4500, 7000)\n",
       "│     ├── 'channel_27': DataArray[cyx] (1, 4500, 7000)\n",
       "│     ├── 'channel_28': DataArray[cyx] (1, 4500, 7000)\n",
       "│     ├── 'channel_29': DataArray[cyx] (1, 4500, 7000)\n",
       "│     ├── 'channel_30': DataArray[cyx] (1, 4500, 7000)\n",
       "│     ├── 'channel_31': DataArray[cyx] (1, 4500, 7000)\n",
       "│     ├── 'channel_32': DataArray[cyx] (1, 4500, 7000)\n",
       "│     ├── 'channel_33': DataArray[cyx] (1, 4500, 7000)\n",
       "│     ├── 'channel_34': DataArray[cyx] (1, 4500, 7000)\n",
       "│     ├── 'channel_35': DataArray[cyx] (1, 4500, 7000)\n",
       "│     ├── 'channel_36': DataArray[cyx] (1, 4500, 7000)\n",
       "│     ├── 'channel_37': DataArray[cyx] (1, 4500, 7000)\n",
       "│     ├── 'channel_38': DataArray[cyx] (1, 4500, 7000)\n",
       "│     ├── 'channel_39': DataArray[cyx] (1, 4500, 7000)\n",
       "│     ├── 'channel_40': DataArray[cyx] (1, 4500, 7000)\n",
       "│     ├── 'channel_41': DataArray[cyx] (1, 4500, 7000)\n",
       "│     ├── 'channel_42': DataArray[cyx] (1, 4500, 7000)\n",
       "│     ├── 'channel_43': DataArray[cyx] (1, 4500, 7000)\n",
       "│     ├── 'channel_44': DataArray[cyx] (1, 4500, 7000)\n",
       "│     ├── 'channel_45': DataArray[cyx] (1, 4500, 7000)\n",
       "│     ├── 'channel_46': DataArray[cyx] (1, 4500, 7000)\n",
       "│     ├── 'channel_47': DataArray[cyx] (1, 4500, 7000)\n",
       "│     ├── 'channel_48': DataArray[cyx] (1, 4500, 7000)\n",
       "│     ├── 'channel_49': DataArray[cyx] (1, 4500, 7000)\n",
       "│     ├── 'channel_50': DataArray[cyx] (1, 4500, 7000)\n",
       "│     ├── 'channel_51': DataArray[cyx] (1, 4500, 7000)\n",
       "│     ├── 'channel_52': DataArray[cyx] (1, 4500, 7000)\n",
       "│     ├── 'channel_53': DataArray[cyx] (1, 4500, 7000)\n",
       "│     ├── 'channel_54': DataArray[cyx] (1, 4500, 7000)\n",
       "│     ├── 'channel_55': DataArray[cyx] (1, 4500, 7000)\n",
       "│     ├── 'channel_56': DataArray[cyx] (1, 4500, 7000)\n",
       "│     ├── 'channel_57': DataArray[cyx] (1, 4500, 7000)\n",
       "│     ├── 'channel_58': DataArray[cyx] (1, 4500, 7000)\n",
       "│     ├── 'channel_59': DataArray[cyx] (1, 4500, 7000)\n",
       "│     ├── 'channel_60': DataArray[cyx] (1, 4500, 7000)\n",
       "│     ├── 'channel_61': DataArray[cyx] (1, 4500, 7000)\n",
       "│     ├── 'channel_62': DataArray[cyx] (1, 4500, 7000)\n",
       "│     ├── 'channel_63': DataArray[cyx] (1, 4500, 7000)\n",
       "│     ├── 'channel_64': DataArray[cyx] (1, 4500, 7000)\n",
       "│     ├── 'channel_65': DataArray[cyx] (1, 4500, 7000)\n",
       "│     ├── 'channel_66': DataArray[cyx] (1, 4500, 7000)\n",
       "│     ├── 'channel_67': DataArray[cyx] (1, 4500, 7000)\n",
       "│     ├── 'channel_68': DataArray[cyx] (1, 4500, 7000)\n",
       "│     ├── 'channel_69': DataArray[cyx] (1, 4500, 7000)\n",
       "│     ├── 'channel_70': DataArray[cyx] (1, 4500, 7000)\n",
       "│     ├── 'channel_71': DataArray[cyx] (1, 4500, 7000)\n",
       "│     ├── 'channel_72': DataArray[cyx] (1, 4500, 7000)\n",
       "│     ├── 'channel_73': DataArray[cyx] (1, 4500, 7000)\n",
       "│     ├── 'channel_74': DataArray[cyx] (1, 4500, 7000)\n",
       "│     ├── 'channel_75': DataArray[cyx] (1, 4500, 7000)\n",
       "│     ├── 'channel_76': DataArray[cyx] (1, 4500, 7000)\n",
       "│     ├── 'channel_77': DataArray[cyx] (1, 4500, 7000)\n",
       "│     ├── 'channel_78': DataArray[cyx] (1, 4500, 7000)\n",
       "│     ├── 'channel_79': DataArray[cyx] (1, 4500, 7000)\n",
       "│     ├── 'channel_80': DataArray[cyx] (1, 4500, 7000)\n",
       "│     ├── 'channel_81': DataArray[cyx] (1, 4500, 7000)\n",
       "│     ├── 'channel_82': DataArray[cyx] (1, 4500, 7000)\n",
       "│     ├── 'channel_83': DataArray[cyx] (1, 4500, 7000)\n",
       "│     ├── 'channel_84': DataArray[cyx] (1, 4500, 7000)\n",
       "│     ├── 'channel_85': DataArray[cyx] (1, 4500, 7000)\n",
       "│     ├── 'channel_86': DataArray[cyx] (1, 4500, 7000)\n",
       "│     ├── 'channel_87': DataArray[cyx] (1, 4500, 7000)\n",
       "│     ├── 'channel_88': DataArray[cyx] (1, 4500, 7000)\n",
       "│     ├── 'channel_89': DataArray[cyx] (1, 4500, 7000)\n",
       "│     ├── 'channel_90': DataArray[cyx] (1, 4500, 7000)\n",
       "│     ├── 'channel_91': DataArray[cyx] (1, 4500, 7000)\n",
       "│     ├── 'channel_92': DataArray[cyx] (1, 4500, 7000)\n",
       "│     ├── 'channel_93': DataArray[cyx] (1, 4500, 7000)\n",
       "│     ├── 'channel_94': DataArray[cyx] (1, 4500, 7000)\n",
       "│     ├── 'channel_95': DataArray[cyx] (1, 4500, 7000)\n",
       "│     ├── 'channel_96': DataArray[cyx] (1, 4500, 7000)\n",
       "│     ├── 'channel_97': DataArray[cyx] (1, 4500, 7000)\n",
       "│     ├── 'channel_98': DataArray[cyx] (1, 4500, 7000)\n",
       "│     ├── 'channel_99': DataArray[cyx] (1, 4500, 7000)\n",
       "│     ├── 'channel_100': DataArray[cyx] (1, 4500, 7000)\n",
       "│     ├── 'channel_101': DataArray[cyx] (1, 4500, 7000)\n",
       "│     ├── 'channel_102': DataArray[cyx] (1, 4500, 7000)\n",
       "│     ├── 'channel_103': DataArray[cyx] (1, 4500, 7000)\n",
       "│     ├── 'channel_104': DataArray[cyx] (1, 4500, 7000)\n",
       "│     ├── 'channel_105': DataArray[cyx] (1, 4500, 7000)\n",
       "│     ├── 'channel_106': DataArray[cyx] (1, 4500, 7000)\n",
       "│     ├── 'channel_107': DataArray[cyx] (1, 4500, 7000)\n",
       "│     ├── 'channel_108': DataArray[cyx] (1, 4500, 7000)\n",
       "│     ├── 'channel_109': DataArray[cyx] (1, 4500, 7000)\n",
       "│     ├── 'channel_110': DataArray[cyx] (1, 4500, 7000)\n",
       "│     ├── 'channel_111': DataArray[cyx] (1, 4500, 7000)\n",
       "│     ├── 'channel_112': DataArray[cyx] (1, 4500, 7000)\n",
       "│     ├── 'channel_113': DataArray[cyx] (1, 4500, 7000)\n",
       "│     ├── 'channel_114': DataArray[cyx] (1, 4500, 7000)\n",
       "│     ├── 'channel_115': DataArray[cyx] (1, 4500, 7000)\n",
       "│     ├── 'channel_116': DataArray[cyx] (1, 4500, 7000)\n",
       "│     ├── 'channel_117': DataArray[cyx] (1, 4500, 7000)\n",
       "│     ├── 'channel_118': DataArray[cyx] (1, 4500, 7000)\n",
       "│     ├── 'channel_119': DataArray[cyx] (1, 4500, 7000)\n",
       "│     ├── 'channel_120': DataArray[cyx] (1, 4500, 7000)\n",
       "│     ├── 'channel_121': DataArray[cyx] (1, 4500, 7000)\n",
       "│     ├── 'channel_122': DataArray[cyx] (1, 4500, 7000)\n",
       "│     ├── 'channel_123': DataArray[cyx] (1, 4500, 7000)\n",
       "│     ├── 'channel_124': DataArray[cyx] (1, 4500, 7000)\n",
       "│     ├── 'channel_125': DataArray[cyx] (1, 4500, 7000)\n",
       "│     ├── 'channel_126': DataArray[cyx] (1, 4500, 7000)\n",
       "│     ├── 'channel_127': DataArray[cyx] (1, 4500, 7000)\n",
       "│     ├── 'channel_128': DataArray[cyx] (1, 4500, 7000)\n",
       "│     ├── 'channel_129': DataArray[cyx] (1, 4500, 7000)\n",
       "│     ├── 'channel_130': DataArray[cyx] (1, 4500, 7000)\n",
       "│     ├── 'channel_131': DataArray[cyx] (1, 4500, 7000)\n",
       "│     ├── 'channel_132': DataArray[cyx] (1, 4500, 7000)\n",
       "│     ├── 'channel_133': DataArray[cyx] (1, 4500, 7000)\n",
       "│     ├── 'channel_134': DataArray[cyx] (1, 4500, 7000)\n",
       "│     ├── 'channel_135': DataArray[cyx] (1, 4500, 7000)\n",
       "│     ├── 'channel_136': DataArray[cyx] (1, 4500, 7000)\n",
       "│     ├── 'channel_137': DataArray[cyx] (1, 4500, 7000)\n",
       "│     ├── 'channel_138': DataArray[cyx] (1, 4500, 7000)\n",
       "│     ├── 'channel_139': DataArray[cyx] (1, 4500, 7000)\n",
       "│     ├── 'channel_140': DataArray[cyx] (1, 4500, 7000)\n",
       "│     ├── 'channel_141': DataArray[cyx] (1, 4500, 7000)\n",
       "│     ├── 'channel_142': DataArray[cyx] (1, 4500, 7000)\n",
       "│     ├── 'channel_143': DataArray[cyx] (1, 4500, 7000)\n",
       "│     ├── 'channel_144': DataArray[cyx] (1, 4500, 7000)\n",
       "│     ├── 'channel_145': DataArray[cyx] (1, 4500, 7000)\n",
       "│     ├── 'channel_146': DataArray[cyx] (1, 4500, 7000)\n",
       "│     ├── 'channel_147': DataArray[cyx] (1, 4500, 7000)\n",
       "│     ├── 'channel_148': DataArray[cyx] (1, 4500, 7000)\n",
       "│     ├── 'channel_149': DataArray[cyx] (1, 4500, 7000)\n",
       "│     ├── 'channel_150': DataArray[cyx] (1, 4500, 7000)\n",
       "│     ├── 'channel_151': DataArray[cyx] (1, 4500, 7000)\n",
       "│     └── 'channel_152': DataArray[cyx] (1, 4500, 7000)\n",
       "└── Labels\n",
       "      └── 'labels': DataArray[yx] (4500, 7000)\n",
       "with coordinate systems:\n",
       "    ▸ 'global', with elements:\n",
       "        channel_0 (Images), channel_1 (Images), channel_2 (Images), channel_3 (Images), channel_4 (Images), channel_5 (Images), channel_6 (Images), channel_7 (Images), channel_8 (Images), channel_9 (Images), channel_10 (Images), channel_11 (Images), channel_12 (Images), channel_13 (Images), channel_14 (Images), channel_15 (Images), channel_16 (Images), channel_17 (Images), channel_18 (Images), channel_19 (Images), channel_20 (Images), channel_21 (Images), channel_22 (Images), channel_23 (Images), channel_24 (Images), channel_25 (Images), channel_26 (Images), channel_27 (Images), channel_28 (Images), channel_29 (Images), channel_30 (Images), channel_31 (Images), channel_32 (Images), channel_33 (Images), channel_34 (Images), channel_35 (Images), channel_36 (Images), channel_37 (Images), channel_38 (Images), channel_39 (Images), channel_40 (Images), channel_41 (Images), channel_42 (Images), channel_43 (Images), channel_44 (Images), channel_45 (Images), channel_46 (Images), channel_47 (Images), channel_48 (Images), channel_49 (Images), channel_50 (Images), channel_51 (Images), channel_52 (Images), channel_53 (Images), channel_54 (Images), channel_55 (Images), channel_56 (Images), channel_57 (Images), channel_58 (Images), channel_59 (Images), channel_60 (Images), channel_61 (Images), channel_62 (Images), channel_63 (Images), channel_64 (Images), channel_65 (Images), channel_66 (Images), channel_67 (Images), channel_68 (Images), channel_69 (Images), channel_70 (Images), channel_71 (Images), channel_72 (Images), channel_73 (Images), channel_74 (Images), channel_75 (Images), channel_76 (Images), channel_77 (Images), channel_78 (Images), channel_79 (Images), channel_80 (Images), channel_81 (Images), channel_82 (Images), channel_83 (Images), channel_84 (Images), channel_85 (Images), channel_86 (Images), channel_87 (Images), channel_88 (Images), channel_89 (Images), channel_90 (Images), channel_91 (Images), channel_92 (Images), channel_93 (Images), channel_94 (Images), channel_95 (Images), channel_96 (Images), channel_97 (Images), channel_98 (Images), channel_99 (Images), channel_100 (Images), channel_101 (Images), channel_102 (Images), channel_103 (Images), channel_104 (Images), channel_105 (Images), channel_106 (Images), channel_107 (Images), channel_108 (Images), channel_109 (Images), channel_110 (Images), channel_111 (Images), channel_112 (Images), channel_113 (Images), channel_114 (Images), channel_115 (Images), channel_116 (Images), channel_117 (Images), channel_118 (Images), channel_119 (Images), channel_120 (Images), channel_121 (Images), channel_122 (Images), channel_123 (Images), channel_124 (Images), channel_125 (Images), channel_126 (Images), channel_127 (Images), channel_128 (Images), channel_129 (Images), channel_130 (Images), channel_131 (Images), channel_132 (Images), channel_133 (Images), channel_134 (Images), channel_135 (Images), channel_136 (Images), channel_137 (Images), channel_138 (Images), channel_139 (Images), channel_140 (Images), channel_141 (Images), channel_142 (Images), channel_143 (Images), channel_144 (Images), channel_145 (Images), channel_146 (Images), channel_147 (Images), channel_148 (Images), channel_149 (Images), channel_150 (Images), channel_151 (Images), channel_152 (Images), labels (Labels)"
      ]
     },
     "execution_count": 2,
     "metadata": {},
     "output_type": "execute_result"
    }
   ],
   "source": [
    "sdata = read_zarr(r\"C:\\Users\\Mattias\\Documents\\projects\\HOGENT\\Bach_proef\\Bachelor_proef_VIB\\Testdata_MACSima\\Testdata_CA.zarr\")\n",
    "\n",
    "sdata"
   ]
  },
  {
   "cell_type": "code",
   "execution_count": 4,
   "metadata": {},
   "outputs": [
    {
     "data": {
      "text/plain": [
       "array([[[153, 190, 237, ...,  87, 208, 316],\n",
       "        [172, 329, 273, ...,   0, 182, 233],\n",
       "        [318, 250, 274, ..., 317, 128, 217],\n",
       "        ...,\n",
       "        [380, 182, 251, ..., 261,  72,  88],\n",
       "        [348, 246, 251, ..., 147, 163, 284],\n",
       "        [  0, 300, 342, ..., 120,   0, 195]]], dtype=uint16)"
      ]
     },
     "execution_count": 4,
     "metadata": {},
     "output_type": "execute_result"
    }
   ],
   "source": [
    "sdata['channel_22'].values"
   ]
  },
  {
   "cell_type": "code",
   "execution_count": 4,
   "metadata": {},
   "outputs": [
    {
     "data": {
      "text/plain": [
       "['channel_0',\n",
       " 'channel_1',\n",
       " 'channel_10',\n",
       " 'channel_100',\n",
       " 'channel_101',\n",
       " 'channel_102',\n",
       " 'channel_103',\n",
       " 'channel_104',\n",
       " 'channel_105',\n",
       " 'channel_106',\n",
       " 'channel_107',\n",
       " 'channel_108',\n",
       " 'channel_109',\n",
       " 'channel_11',\n",
       " 'channel_110',\n",
       " 'channel_111',\n",
       " 'channel_112',\n",
       " 'channel_113',\n",
       " 'channel_114',\n",
       " 'channel_115',\n",
       " 'channel_116',\n",
       " 'channel_117',\n",
       " 'channel_118',\n",
       " 'channel_119',\n",
       " 'channel_12',\n",
       " 'channel_120',\n",
       " 'channel_121',\n",
       " 'channel_122',\n",
       " 'channel_123',\n",
       " 'channel_124',\n",
       " 'channel_125',\n",
       " 'channel_126',\n",
       " 'channel_127',\n",
       " 'channel_128',\n",
       " 'channel_129',\n",
       " 'channel_13',\n",
       " 'channel_130',\n",
       " 'channel_131',\n",
       " 'channel_132',\n",
       " 'channel_133',\n",
       " 'channel_134',\n",
       " 'channel_135',\n",
       " 'channel_136',\n",
       " 'channel_137',\n",
       " 'channel_138',\n",
       " 'channel_139',\n",
       " 'channel_14',\n",
       " 'channel_140',\n",
       " 'channel_141',\n",
       " 'channel_142',\n",
       " 'channel_143',\n",
       " 'channel_144',\n",
       " 'channel_145',\n",
       " 'channel_146',\n",
       " 'channel_147',\n",
       " 'channel_148',\n",
       " 'channel_149',\n",
       " 'channel_15',\n",
       " 'channel_150',\n",
       " 'channel_151',\n",
       " 'channel_152',\n",
       " 'channel_16',\n",
       " 'channel_17',\n",
       " 'channel_18',\n",
       " 'channel_19',\n",
       " 'channel_2',\n",
       " 'channel_20',\n",
       " 'channel_21',\n",
       " 'channel_22',\n",
       " 'channel_23',\n",
       " 'channel_24',\n",
       " 'channel_25',\n",
       " 'channel_26',\n",
       " 'channel_27',\n",
       " 'channel_28',\n",
       " 'channel_29',\n",
       " 'channel_3',\n",
       " 'channel_30',\n",
       " 'channel_31',\n",
       " 'channel_32',\n",
       " 'channel_33',\n",
       " 'channel_34',\n",
       " 'channel_35',\n",
       " 'channel_36',\n",
       " 'channel_37',\n",
       " 'channel_38',\n",
       " 'channel_39',\n",
       " 'channel_4',\n",
       " 'channel_40',\n",
       " 'channel_41',\n",
       " 'channel_42',\n",
       " 'channel_43',\n",
       " 'channel_44',\n",
       " 'channel_45',\n",
       " 'channel_46',\n",
       " 'channel_47',\n",
       " 'channel_48',\n",
       " 'channel_49',\n",
       " 'channel_5',\n",
       " 'channel_50',\n",
       " 'channel_51',\n",
       " 'channel_52',\n",
       " 'channel_53',\n",
       " 'channel_54',\n",
       " 'channel_55',\n",
       " 'channel_56',\n",
       " 'channel_57',\n",
       " 'channel_58',\n",
       " 'channel_59',\n",
       " 'channel_6',\n",
       " 'channel_60',\n",
       " 'channel_61',\n",
       " 'channel_62',\n",
       " 'channel_63',\n",
       " 'channel_64',\n",
       " 'channel_65',\n",
       " 'channel_66',\n",
       " 'channel_67',\n",
       " 'channel_68',\n",
       " 'channel_69',\n",
       " 'channel_7',\n",
       " 'channel_70',\n",
       " 'channel_71',\n",
       " 'channel_72',\n",
       " 'channel_73',\n",
       " 'channel_74',\n",
       " 'channel_75',\n",
       " 'channel_76',\n",
       " 'channel_77',\n",
       " 'channel_78',\n",
       " 'channel_79',\n",
       " 'channel_8',\n",
       " 'channel_80',\n",
       " 'channel_81',\n",
       " 'channel_82',\n",
       " 'channel_83',\n",
       " 'channel_84',\n",
       " 'channel_85',\n",
       " 'channel_86',\n",
       " 'channel_87',\n",
       " 'channel_88',\n",
       " 'channel_89',\n",
       " 'channel_9',\n",
       " 'channel_90',\n",
       " 'channel_91',\n",
       " 'channel_92',\n",
       " 'channel_93',\n",
       " 'channel_94',\n",
       " 'channel_95',\n",
       " 'channel_96',\n",
       " 'channel_97',\n",
       " 'channel_98',\n",
       " 'channel_99']"
      ]
     },
     "execution_count": 4,
     "metadata": {},
     "output_type": "execute_result"
    }
   ],
   "source": [
    "keys = list(sdata.images.keys())\n",
    "\n",
    "keys"
   ]
  },
  {
   "cell_type": "code",
   "execution_count": 4,
   "metadata": {},
   "outputs": [
    {
     "data": {
      "text/plain": [
       "(589, 256, 256)"
      ]
     },
     "execution_count": 4,
     "metadata": {},
     "output_type": "execute_result"
    }
   ],
   "source": [
    "IMAGE_SIZE = 256\n",
    "STRIDE = IMAGE_SIZE - 32\n",
    "\n",
    "def extract_patches(array:np.ndarray):\n",
    "    patches = []\n",
    "    h, w = array.shape\n",
    "\n",
    "    # Ensure that the image dimensions are divisible by the patch size and stride\n",
    "    for i in range(0, h - IMAGE_SIZE + 1, STRIDE):\n",
    "        for j in range(0, w - IMAGE_SIZE + 1, STRIDE):\n",
    "            img_patch = array[i:i+IMAGE_SIZE, j:j+IMAGE_SIZE]\n",
    "            patches.append(img_patch)\n",
    "\n",
    "    return np.array(patches)\n",
    "    \n",
    "extract_patches(sdata['channel_0'].data.squeeze()).shape"
   ]
  },
  {
   "cell_type": "code",
   "execution_count": null,
   "metadata": {},
   "outputs": [],
   "source": [
    "def extract_patches_per_channel(sdata, channel, patch_size=512, stride=256):\n",
    "    \"\"\"Extract patches from a specific channel in SpatialData.\"\"\"\n",
    "    img = sdata.images[f\"channel_{channel}\"].values[0] / 225\n",
    "    labels = sdata.labels[\"labels\"].values // 255\n",
    "\n",
    "    patches, label_patches = [], []\n",
    "    h, w = img.shape\n",
    "\n",
    "    for i in range(0, h - patch_size, stride):\n",
    "        count_x+=1\n",
    "        for j in range(0, w - patch_size, stride):\n",
    "            img_patch = array[i:i+patch_size, j:j+patch_size]\n",
    "\n",
    "            patches.append(img_patch)\n",
    "\n",
    "    print(count_x)\n",
    "    return np.array(patches)\n",
    "\n",
    "X = extract_patches(sdata['channel_0'].data.squeeze(), patch_size=512, stride=256)\n",
    "len(X)"
   ]
  },
  {
   "cell_type": "code",
   "execution_count": null,
   "metadata": {},
   "outputs": [],
   "source": [
    "import tensorflow as tf\n",
    "from tensorflow.keras.layers import Conv2D, MaxPooling2D, Conv2DTranspose, concatenate, Input, Dropout\n",
    "from tensorflow.keras.models import Model\n"
   ]
  },
  {
   "cell_type": "code",
   "execution_count": null,
   "metadata": {},
   "outputs": [],
   "source": [
    "def unet_model_smaller(input_size=(512, 512, 1)):\n",
    "    inputs = Input(input_size)\n",
    "\n",
    "    # Encoder\n",
    "    c1 = Conv2D(64, (3, 3), activation='relu', padding='same')(inputs)\n",
    "    c1 = Conv2D(64, (3, 3), activation='relu', padding='same')(c1)\n",
    "    p1 = MaxPooling2D((2, 2))(c1)\n",
    "\n",
    "    c2 = Conv2D(128, (3, 3), activation='relu', padding='same')(p1)\n",
    "    c2 = Conv2D(128, (3, 3), activation='relu', padding='same')(c2)\n",
    "    p2 = MaxPooling2D((2, 2))(c2)\n",
    "\n",
    "    c3 = Conv2D(256, (3, 3), activation='relu', padding='same')(p2)\n",
    "    c3 = Conv2D(256, (3, 3), activation='relu', padding='same')(c3)\n",
    "\n",
    "    # Decoder\n",
    "    u4 = Conv2DTranspose(128, (2, 2), strides=(2, 2), padding='same')(c3)  # Match c2 filters\n",
    "    u4 = concatenate([u4, c2])\n",
    "    c4 = Conv2D(128, (3, 3), activation='relu', padding='same')(u4)\n",
    "    c4 = Conv2D(128, (3, 3), activation='relu', padding='same')(c4)\n",
    "\n",
    "    u5 = Conv2DTranspose(64, (2, 2), strides=(2, 2), padding='same')(c4)  # Match c1 filters\n",
    "    u5 = concatenate([u5, c1])\n",
    "    c5 = Conv2D(64, (3, 3), activation='relu', padding='same')(u5)\n",
    "    c5 = Conv2D(64, (3, 3), activation='relu', padding='same')(c5)\n",
    "\n",
    "    outputs = Conv2D(1, (1, 1), activation='sigmoid')(c5)\n",
    "\n",
    "    model = Model(inputs, outputs)\n",
    "    return model\n"
   ]
  },
  {
   "cell_type": "code",
   "execution_count": null,
   "metadata": {},
   "outputs": [],
   "source": [
    "def unet_model(input_size=(512, 512, 1)):\n",
    "    inputs = Input(input_size)\n",
    "\n",
    "    c1 = Conv2D(64, (3, 3), activation='relu', padding='same')(inputs)\n",
    "    c1 = Conv2D(64, (3, 3), activation='relu', padding='same')(c1)\n",
    "    p1 = MaxPooling2D((2, 2))(c1)\n",
    "\n",
    "    c2 = Conv2D(128, (3, 3), activation='relu', padding='same')(p1)\n",
    "    c2 = Conv2D(128, (3, 3), activation='relu', padding='same')(c2)\n",
    "    p2 = MaxPooling2D((2, 2))(c2)\n",
    "\n",
    "    c3 = Conv2D(256, (3, 3), activation='relu', padding='same')(p2)\n",
    "    c3 = Conv2D(256, (3, 3), activation='relu', padding='same')(c3)\n",
    "    p3 = MaxPooling2D((2, 2))(c3)\n",
    "\n",
    "    c4 = Conv2D(512, (3, 3), activation='relu', padding='same')(p3)\n",
    "    c4 = Conv2D(512, (3, 3), activation='relu', padding='same')(c4)\n",
    "    p4 = MaxPooling2D((2, 2))(c4)\n",
    "\n",
    "    c5 = Conv2D(1024, (3, 3), activation='relu', padding='same')(p4)\n",
    "    c5 = Conv2D(1024, (3, 3), activation='relu', padding='same')(c5)\n",
    "\n",
    "    u6 = Conv2DTranspose(512, (2, 2), strides=(2, 2), padding='same')(c5)\n",
    "    u6 = concatenate([u6, c4])\n",
    "    c6 = Conv2D(512, (3, 3), activation='relu', padding='same')(u6)\n",
    "    c6 = Conv2D(512, (3, 3), activation='relu', padding='same')(c6)\n",
    "\n",
    "    u7 = Conv2DTranspose(256, (2, 2), strides=(2, 2), padding='same')(c6)\n",
    "    u7 = concatenate([u7, c3])\n",
    "    c7 = Conv2D(256, (3, 3), activation='relu', padding='same')(u7)\n",
    "    c7 = Conv2D(256, (3, 3), activation='relu', padding='same')(c7)\n",
    "\n",
    "    u8 = Conv2DTranspose(128, (2, 2), strides=(2, 2), padding='same')(c7)\n",
    "    u8 = concatenate([u8, c2])\n",
    "    c8 = Conv2D(128, (3, 3), activation='relu', padding='same')(u8)\n",
    "    c8 = Conv2D(128, (3, 3), activation='relu', padding='same')(c8)\n",
    "\n",
    "    u9 = Conv2DTranspose(64, (2, 2), strides=(2, 2), padding='same')(c8)\n",
    "    u9 = concatenate([u9, c1])\n",
    "    c9 = Conv2D(64, (3, 3), activation='relu', padding='same')(u9)\n",
    "    c9 = Conv2D(64, (3, 3), activation='relu', padding='same')(c9)\n",
    "\n",
    "    outputs = Conv2D(1, (1, 1), activation='sigmoid')(c9)\n",
    "\n",
    "    model = Model(inputs, outputs)\n",
    "    return model\n"
   ]
  },
  {
   "cell_type": "code",
   "execution_count": null,
   "metadata": {},
   "outputs": [],
   "source": [
    "extract_patches_per_channel"
   ]
  },
  {
   "cell_type": "code",
   "execution_count": null,
   "metadata": {},
   "outputs": [],
   "source": [
    "batch_size = 8\n",
    "epochs = 5\n",
    "\n",
    "channels = 1\n",
    "\n",
    "for channel in range(channels):\n",
    "    print(f\"\\nTraining U-Net for Channel {channel}...\\n\")\n",
    "\n",
    "    X, Y = extract_patches_per_channel(sdata, channel, patch_size=1024, stride=512)\n",
    "\n",
    "    \n",
    "    X = np.expand_dims(X, axis=-1)  \n",
    "    Y = np.expand_dims(Y, axis=-1)  \n",
    "\n",
    "    \n",
    "    model = unet_model_smaller(input_size=(1024, 1024, 1))\n",
    "\n",
    "    model.compile(optimizer='adam', loss='binary_crossentropy', metrics=['accuracy'])\n",
    "\n",
    "    model.fit(X, Y, batch_size=batch_size, epochs=epochs, validation_split=0.2)\n",
    "\n",
    "    model.save(f\"unet_channel_{channel}.h5\")\n",
    "\n",
    "    print(f\"\\nFinished training U-Net for Channel {channel}!\\n\")"
   ]
  },
  {
   "cell_type": "code",
   "execution_count": null,
   "metadata": {},
   "outputs": [],
   "source": [
    "new_model = tf.keras.models.load_model(\"unet_channel_0.h5\")\n",
    "\n",
    "X, Y =  extract_patches_per_channel(sdata, 2, patch_size=512, stride=256)\n",
    "\n",
    "\n",
    "new_model.predict(X)"
   ]
  },
  {
   "cell_type": "code",
   "execution_count": null,
   "metadata": {},
   "outputs": [],
   "source": [
    "def pad_image_to_patch_size(img, patch_size):\n",
    "    h, w = img.shape\n",
    "    pad_h = (patch_size - h % patch_size) % patch_size\n",
    "    pad_w = (patch_size - w % patch_size) % patch_size\n",
    "    return np.pad(img, ((0, pad_h), (0, pad_w)), mode='reflect')"
   ]
  },
  {
   "cell_type": "code",
   "execution_count": null,
   "metadata": {},
   "outputs": [],
   "source": [
    "IMAGE_SIZE = 256\n",
    "STRIDE = IMAGE_SIZE - 32\n",
    "\n",
    "from skimage.util import view_as_windows\n",
    "\n",
    "def extract_patches_skimage(array: np.ndarray):\n",
    "    window_shape = (IMAGE_SIZE, IMAGE_SIZE)\n",
    "    step = STRIDE\n",
    "    patches = view_as_windows(array, window_shape, step=step)\n",
    "    patches = patches.reshape(-1, IMAGE_SIZE, IMAGE_SIZE)\n",
    "    return patches\n",
    "\n",
    "\n",
    "out = extract_patches_skimage(sdata['channel_0'].values.squeeze())\n",
    "shape = extract_patches(sdata['channel_0'].data.squeeze())"
   ]
  },
  {
   "cell_type": "code",
   "execution_count": null,
   "metadata": {},
   "outputs": [],
   "source": [
    "out"
   ]
  },
  {
   "cell_type": "code",
   "execution_count": 1,
   "metadata": {},
   "outputs": [
    {
     "name": "stderr",
     "output_type": "stream",
     "text": [
      "c:\\Users\\Mattias\\anaconda3\\envs\\classifier_env\\lib\\site-packages\\dask\\dataframe\\__init__.py:31: FutureWarning: The legacy Dask DataFrame implementation is deprecated and will be removed in a future version. Set the configuration option `dataframe.query-planning` to `True` or None to enable the new Dask Dataframe implementation and silence this warning.\n",
      "  warnings.warn(\n"
     ]
    }
   ],
   "source": [
    "import sys\n",
    "import os\n",
    "import numpy as np\n",
    "import logging\n",
    "import keras\n",
    "\n",
    "import gc\n",
    "from tensorflow.keras import backend as K\n",
    "\n",
    "from spatialdata import SpatialData\n",
    "from spatialdata import read_zarr\n",
    "from tensorflow.keras.layers import Conv2D, MaxPooling2D, Conv2DTranspose, concatenate, Input\n",
    "from tensorflow.keras.models import Model\n",
    "from skimage.util import view_as_windows"
   ]
  },
  {
   "cell_type": "code",
   "execution_count": 2,
   "metadata": {},
   "outputs": [],
   "source": [
    "from tensorflow.keras import backend as K\n",
    "from tensorflow.keras.losses import binary_crossentropy\n",
    "\n",
    "def dice_coef(y_true, y_pred, smooth=1):\n",
    "    y_true_f = K.flatten(y_true)\n",
    "    y_pred_f = K.flatten(y_pred)\n",
    "    intersection = K.sum(y_true_f * y_pred_f)\n",
    "    return (2. * intersection + smooth) / (K.sum(y_true_f) + K.sum(y_pred_f) + smooth)\n",
    "\n",
    "\n",
    "def iou(y_true, y_pred, smooth=1):\n",
    "    y_true_f = K.flatten(y_true)\n",
    "    y_pred_f = K.flatten(y_pred)\n",
    "    intersection = K.sum(y_true_f * y_pred_f)\n",
    "    union = K.sum(y_true_f) + K.sum(y_pred_f) - intersection\n",
    "    return (intersection + smooth) / (union + smooth)\n",
    "\n",
    "def bce_dice_loss(y_true, y_pred):\n",
    "    bce = binary_crossentropy(y_true, y_pred)\n",
    "    dice_loss = 1 - iou (y_true, y_pred)\n",
    "    return bce + dice_loss"
   ]
  },
  {
   "cell_type": "code",
   "execution_count": 3,
   "metadata": {},
   "outputs": [
    {
     "name": "stdout",
     "output_type": "stream",
     "text": [
      "Model: \"model\"\n",
      "__________________________________________________________________________________________________\n",
      " Layer (type)                   Output Shape         Param #     Connected to                     \n",
      "==================================================================================================\n",
      " input_1 (InputLayer)           [(None, 256, 256, 1  0           []                               \n",
      "                                )]                                                                \n",
      "                                                                                                  \n",
      " conv2d (Conv2D)                (None, 256, 256, 64  640         ['input_1[0][0]']                \n",
      "                                )                                                                 \n",
      "                                                                                                  \n",
      " conv2d_1 (Conv2D)              (None, 256, 256, 64  36928       ['conv2d[0][0]']                 \n",
      "                                )                                                                 \n",
      "                                                                                                  \n",
      " max_pooling2d (MaxPooling2D)   (None, 128, 128, 64  0           ['conv2d_1[0][0]']               \n",
      "                                )                                                                 \n",
      "                                                                                                  \n",
      " conv2d_2 (Conv2D)              (None, 128, 128, 12  73856       ['max_pooling2d[0][0]']          \n",
      "                                8)                                                                \n",
      "                                                                                                  \n",
      " conv2d_3 (Conv2D)              (None, 128, 128, 12  147584      ['conv2d_2[0][0]']               \n",
      "                                8)                                                                \n",
      "                                                                                                  \n",
      " max_pooling2d_1 (MaxPooling2D)  (None, 64, 64, 128)  0          ['conv2d_3[0][0]']               \n",
      "                                                                                                  \n",
      " conv2d_4 (Conv2D)              (None, 64, 64, 256)  295168      ['max_pooling2d_1[0][0]']        \n",
      "                                                                                                  \n",
      " conv2d_5 (Conv2D)              (None, 64, 64, 256)  590080      ['conv2d_4[0][0]']               \n",
      "                                                                                                  \n",
      " conv2d_transpose (Conv2DTransp  (None, 128, 128, 64  65600      ['conv2d_5[0][0]']               \n",
      " ose)                           )                                                                 \n",
      "                                                                                                  \n",
      " concatenate (Concatenate)      (None, 128, 128, 19  0           ['conv2d_transpose[0][0]',       \n",
      "                                2)                                'conv2d_3[0][0]']               \n",
      "                                                                                                  \n",
      " conv2d_6 (Conv2D)              (None, 128, 128, 12  221312      ['concatenate[0][0]']            \n",
      "                                8)                                                                \n",
      "                                                                                                  \n",
      " conv2d_7 (Conv2D)              (None, 128, 128, 12  147584      ['conv2d_6[0][0]']               \n",
      "                                8)                                                                \n",
      "                                                                                                  \n",
      " conv2d_transpose_1 (Conv2DTran  (None, 256, 256, 32  16416      ['conv2d_7[0][0]']               \n",
      " spose)                         )                                                                 \n",
      "                                                                                                  \n",
      " concatenate_1 (Concatenate)    (None, 256, 256, 96  0           ['conv2d_transpose_1[0][0]',     \n",
      "                                )                                 'conv2d_1[0][0]']               \n",
      "                                                                                                  \n",
      " conv2d_8 (Conv2D)              (None, 256, 256, 64  55360       ['concatenate_1[0][0]']          \n",
      "                                )                                                                 \n",
      "                                                                                                  \n",
      " conv2d_9 (Conv2D)              (None, 256, 256, 64  36928       ['conv2d_8[0][0]']               \n",
      "                                )                                                                 \n",
      "                                                                                                  \n",
      " conv2d_10 (Conv2D)             (None, 256, 256, 1)  65          ['conv2d_9[0][0]']               \n",
      "                                                                                                  \n",
      "==================================================================================================\n",
      "Total params: 1,687,521\n",
      "Trainable params: 1,687,521\n",
      "Non-trainable params: 0\n",
      "__________________________________________________________________________________________________\n"
     ]
    }
   ],
   "source": [
    "model = keras.models.load_model(\n",
    "                r\"..\\model\\pixel_classifier_256.keras\",\n",
    "                custom_objects={'bce_dice_loss': bce_dice_loss, 'dice_coef': dice_coef, 'iou': iou}\n",
    "            )\n",
    "\n",
    "model.summary()"
   ]
  },
  {
   "cell_type": "code",
   "execution_count": 8,
   "metadata": {},
   "outputs": [],
   "source": [
    "IMAGE_SIZE = 256\n",
    "STRIDE = IMAGE_SIZE - 32\n",
    "\n",
    "def extract_patches_skimage(array):\n",
    "    window_shape = (IMAGE_SIZE, IMAGE_SIZE)\n",
    "    step = STRIDE\n",
    "    patches = view_as_windows(array, window_shape, step=step)\n",
    "    patches = patches.reshape(-1, IMAGE_SIZE, IMAGE_SIZE)\n",
    "    \n",
    "    return patches"
   ]
  },
  {
   "cell_type": "code",
   "execution_count": 9,
   "metadata": {},
   "outputs": [
    {
     "data": {
      "text/plain": [
       "array([[[0, 0, 0, ..., 0, 0, 0],\n",
       "        [0, 0, 0, ..., 0, 0, 0],\n",
       "        [0, 0, 0, ..., 0, 0, 0],\n",
       "        ...,\n",
       "        [0, 0, 0, ..., 0, 0, 0],\n",
       "        [0, 0, 0, ..., 0, 0, 0],\n",
       "        [0, 0, 0, ..., 0, 0, 0]],\n",
       "\n",
       "       [[0, 0, 0, ..., 0, 0, 0],\n",
       "        [0, 0, 0, ..., 0, 0, 0],\n",
       "        [0, 0, 0, ..., 0, 0, 0],\n",
       "        ...,\n",
       "        [0, 0, 0, ..., 0, 0, 0],\n",
       "        [0, 0, 0, ..., 0, 0, 0],\n",
       "        [0, 0, 0, ..., 0, 0, 0]],\n",
       "\n",
       "       [[0, 0, 0, ..., 0, 0, 0],\n",
       "        [0, 0, 0, ..., 0, 0, 0],\n",
       "        [0, 0, 0, ..., 0, 0, 0],\n",
       "        ...,\n",
       "        [0, 0, 0, ..., 0, 0, 0],\n",
       "        [0, 0, 0, ..., 0, 0, 0],\n",
       "        [0, 0, 0, ..., 0, 0, 0]],\n",
       "\n",
       "       ...,\n",
       "\n",
       "       [[0, 0, 0, ..., 0, 0, 0],\n",
       "        [0, 0, 0, ..., 0, 0, 0],\n",
       "        [0, 0, 0, ..., 0, 0, 0],\n",
       "        ...,\n",
       "        [0, 0, 0, ..., 0, 0, 0],\n",
       "        [0, 0, 0, ..., 0, 0, 0],\n",
       "        [0, 0, 0, ..., 0, 0, 0]],\n",
       "\n",
       "       [[0, 0, 0, ..., 0, 0, 0],\n",
       "        [0, 0, 0, ..., 0, 0, 0],\n",
       "        [0, 0, 0, ..., 0, 0, 0],\n",
       "        ...,\n",
       "        [0, 0, 0, ..., 0, 0, 0],\n",
       "        [0, 0, 0, ..., 0, 0, 0],\n",
       "        [0, 0, 0, ..., 0, 0, 0]],\n",
       "\n",
       "       [[0, 0, 0, ..., 0, 0, 0],\n",
       "        [0, 0, 0, ..., 0, 0, 0],\n",
       "        [0, 0, 0, ..., 0, 0, 0],\n",
       "        ...,\n",
       "        [0, 0, 0, ..., 0, 0, 0],\n",
       "        [0, 0, 0, ..., 0, 0, 0],\n",
       "        [0, 0, 0, ..., 0, 0, 0]]], dtype=uint8)"
      ]
     },
     "execution_count": 9,
     "metadata": {},
     "output_type": "execute_result"
    }
   ],
   "source": [
    "sdata = read_zarr(r\"D:\\data\\test\\2023_11_22_CelineEveraert_R1_B1_ROI1.zarr\")\n",
    "\n",
    "labels = extract_patches_skimage(sdata['annotations'].values) // 255\n",
    "images = extract_patches_skimage(sdata['C-001_S-000_B_APC_R-01_W-B-1_ROI-01_A-None.tif'].values.squeeze()) / 255\n",
    "\n",
    "labels"
   ]
  },
  {
   "cell_type": "code",
   "execution_count": 7,
   "metadata": {},
   "outputs": [
    {
     "name": "stdout",
     "output_type": "stream",
     "text": [
      "1/1 [==============================] - 0s 17ms/step\n"
     ]
    }
   ],
   "source": [
    "predictions = model.predict(input_image)\n",
    "\n",
    "from PIL import Image\n",
    "import numpy as np\n",
    "\n",
    "img = Image.fromarray(predictions.squeeze(), 'L')\n",
    "lab = Image.fromarray(labels[0])\n",
    "img.show()"
   ]
  },
  {
   "cell_type": "code",
   "execution_count": null,
   "metadata": {},
   "outputs": [],
   "source": [
    "directories = open(r\"..\\model\\files.txt\", \"r\")\n",
    "\n",
    "directories.read().split(\"\\n\")"
   ]
  },
  {
   "cell_type": "code",
   "execution_count": 5,
   "metadata": {},
   "outputs": [
    {
     "name": "stdout",
     "output_type": "stream",
     "text": [
      "2024_09_12_M16_CellineEveraert_12_R01_B01_ROI2.zarr: 3854\n",
      "2024_09_12_M16_CellineEveraert_12_R01_B01_ROI1.zarr: 3939\n",
      "2024_09_06_M15_Annelies_Van Hemelryk_UCSC_Neuroblastoma_2_R01_A01_ROI1.zarr: 5596\n",
      "Testdata_CA.zarr: 5997\n",
      "2024_09_06_M15_Annelies_Van Hemelryk_UCSC_Neuroblastoma_2_R01_A01_ROI5.zarr: 6262\n",
      "2024_09_20_M17_SPC-035_HelenaAegerter_R01_A01_ROI3.zarr: 6731\n",
      "Testdata_CE.zarr: 7376\n",
      "2024_03_15_CelineEveraert_3_R01_D01_ROI1.zarr: 7418\n",
      "2024_09_12_M16_CellineEveraert_12_R01_B01_ROI3.zarr: 8077\n",
      "2024_09_12_M16_CellineEveraert_12_R01_B01_ROI4.zarr: 8467\n",
      "2024_03_15_CelineEveraert_3_R01_B01_ROI1.zarr: 9411\n",
      "2024_09_20_M17_SPC-035_HelenaAegerter_R01_A01_ROI2.zarr: 10057\n",
      "2024_09_06_M15_Annelies_Van Hemelryk_UCSC_Neuroblastoma_2_R01_A01_ROI4.zarr: 12542\n",
      "2024-09-25_exp38_SPC-036_CelineEveraert 1_R01_B01_ROI2.zarr: 14028\n",
      "2024_03_15_CelineEveraert_3_2_R01_D01_ROI1.zarr: 16447\n",
      "2024_03_15_CelineEveraert_3_2_R01_B01_ROI1.zarr: 21533\n",
      "2024_08_29_M14_CelineEveraert_11_R01_B01_ROI2.zarr: 22182\n",
      "2024_08_29_M14_CelineEveraert_11_R01_B01_ROI1.zarr: 22604\n",
      "2024_09_06_M15_Annelies_Van Hemelryk_UCSC_Neuroblastoma_2_R01_A01_ROI2.zarr: 23179\n",
      "2024_09_06_M15_Annelies_Van Hemelryk_UCSC_Neuroblastoma_2_R01_A01_ROI3.zarr: 24737\n",
      "2024_09_20_M17_SPC-035_HelenaAegerter_R01_A01_ROI1.zarr: 25138\n",
      "2024-09-25_exp38_SPC-036_CelineEveraert 1_R01_B01_ROI1.zarr: 27571\n",
      "2024_03_15_CelineEveraert_2b_R01_B01_ROI1.zarr: 40497\n"
     ]
    }
   ],
   "source": [
    "def get_size(start_path = '.'):\n",
    "    total_size = 0\n",
    "    for dirpath, dirnames, filenames in os.walk(start_path):\n",
    "        for f in filenames:\n",
    "            fp = os.path.join(dirpath, f)\n",
    "            # skip if it is symbolic link\n",
    "            if not os.path.islink(fp):\n",
    "                total_size += os.path.getsize(fp)\n",
    "\n",
    "    return total_size//1_000_000\n",
    "list = []\n",
    "dir = r\"E:\\data\\train\"\n",
    "for arg in os.listdir(dir):\n",
    "    size = get_size(os.path.join(dir, arg))\n",
    "    list.append((arg, size))\n",
    "\n",
    "def myFunc(e):\n",
    "  return e[1]\n",
    "\n",
    "list.sort(key=myFunc)\n",
    "\n",
    "for i in list:\n",
    "    print(f\"{i[0]}: {i[1]}\")"
   ]
  },
  {
   "cell_type": "code",
   "execution_count": 4,
   "metadata": {},
   "outputs": [
    {
     "name": "stdout",
     "output_type": "stream",
     "text": [
      "2024-09-25_exp38_SPC-036_CelineEveraert 1_R01_B01_ROI1.zarr\n"
     ]
    },
    {
     "name": "stderr",
     "output_type": "stream",
     "text": [
      "c:\\Users\\Mattias\\anaconda3\\envs\\classifier_env\\lib\\site-packages\\zarr\\creation.py:614: UserWarning: ignoring keyword argument 'read_only'\n",
      "  compressor, fill_value = _kwargs_compat(compressor, fill_value, kwargs)\n"
     ]
    },
    {
     "name": "stdout",
     "output_type": "stream",
     "text": [
      "2024-09-25_exp38_SPC-036_CelineEveraert 1_R01_B01_ROI2.zarr\n"
     ]
    },
    {
     "name": "stderr",
     "output_type": "stream",
     "text": [
      "c:\\Users\\Mattias\\anaconda3\\envs\\classifier_env\\lib\\site-packages\\zarr\\creation.py:614: UserWarning: ignoring keyword argument 'read_only'\n",
      "  compressor, fill_value = _kwargs_compat(compressor, fill_value, kwargs)\n"
     ]
    },
    {
     "name": "stdout",
     "output_type": "stream",
     "text": [
      "2024_03_15_CelineEveraert_2b_R01_B01_ROI1.zarr\n"
     ]
    },
    {
     "name": "stderr",
     "output_type": "stream",
     "text": [
      "c:\\Users\\Mattias\\anaconda3\\envs\\classifier_env\\lib\\site-packages\\zarr\\creation.py:614: UserWarning: ignoring keyword argument 'read_only'\n",
      "  compressor, fill_value = _kwargs_compat(compressor, fill_value, kwargs)\n",
      "c:\\Users\\Mattias\\anaconda3\\envs\\classifier_env\\lib\\site-packages\\zarr\\creation.py:614: UserWarning: ignoring keyword argument 'read_only'\n",
      "  compressor, fill_value = _kwargs_compat(compressor, fill_value, kwargs)\n"
     ]
    },
    {
     "name": "stdout",
     "output_type": "stream",
     "text": [
      "2024_03_15_CelineEveraert_3_2_R01_B01_ROI1.zarr\n",
      "2024_03_15_CelineEveraert_3_2_R01_D01_ROI1.zarr\n"
     ]
    },
    {
     "name": "stderr",
     "output_type": "stream",
     "text": [
      "c:\\Users\\Mattias\\anaconda3\\envs\\classifier_env\\lib\\site-packages\\zarr\\creation.py:614: UserWarning: ignoring keyword argument 'read_only'\n",
      "  compressor, fill_value = _kwargs_compat(compressor, fill_value, kwargs)\n"
     ]
    },
    {
     "name": "stdout",
     "output_type": "stream",
     "text": [
      "2024_03_15_CelineEveraert_3_R01_B01_ROI1.zarr\n"
     ]
    },
    {
     "name": "stderr",
     "output_type": "stream",
     "text": [
      "c:\\Users\\Mattias\\anaconda3\\envs\\classifier_env\\lib\\site-packages\\zarr\\creation.py:614: UserWarning: ignoring keyword argument 'read_only'\n",
      "  compressor, fill_value = _kwargs_compat(compressor, fill_value, kwargs)\n"
     ]
    },
    {
     "name": "stdout",
     "output_type": "stream",
     "text": [
      "2024_03_15_CelineEveraert_3_R01_D01_ROI1.zarr\n"
     ]
    },
    {
     "name": "stderr",
     "output_type": "stream",
     "text": [
      "c:\\Users\\Mattias\\anaconda3\\envs\\classifier_env\\lib\\site-packages\\zarr\\creation.py:614: UserWarning: ignoring keyword argument 'read_only'\n",
      "  compressor, fill_value = _kwargs_compat(compressor, fill_value, kwargs)\n"
     ]
    },
    {
     "name": "stdout",
     "output_type": "stream",
     "text": [
      "2024_08_29_M14_CelineEveraert_11_R01_B01_ROI1.zarr\n"
     ]
    },
    {
     "name": "stderr",
     "output_type": "stream",
     "text": [
      "c:\\Users\\Mattias\\anaconda3\\envs\\classifier_env\\lib\\site-packages\\zarr\\creation.py:614: UserWarning: ignoring keyword argument 'read_only'\n",
      "  compressor, fill_value = _kwargs_compat(compressor, fill_value, kwargs)\n"
     ]
    },
    {
     "name": "stdout",
     "output_type": "stream",
     "text": [
      "2024_08_29_M14_CelineEveraert_11_R01_B01_ROI2.zarr\n"
     ]
    },
    {
     "name": "stderr",
     "output_type": "stream",
     "text": [
      "c:\\Users\\Mattias\\anaconda3\\envs\\classifier_env\\lib\\site-packages\\zarr\\creation.py:614: UserWarning: ignoring keyword argument 'read_only'\n",
      "  compressor, fill_value = _kwargs_compat(compressor, fill_value, kwargs)\n"
     ]
    },
    {
     "name": "stdout",
     "output_type": "stream",
     "text": [
      "2024_09_06_M15_Annelies_Van Hemelryk_UCSC_Neuroblastoma_2_R01_A01_ROI1.zarr\n"
     ]
    },
    {
     "name": "stderr",
     "output_type": "stream",
     "text": [
      "c:\\Users\\Mattias\\anaconda3\\envs\\classifier_env\\lib\\site-packages\\zarr\\creation.py:614: UserWarning: ignoring keyword argument 'read_only'\n",
      "  compressor, fill_value = _kwargs_compat(compressor, fill_value, kwargs)\n"
     ]
    },
    {
     "name": "stdout",
     "output_type": "stream",
     "text": [
      "2024_09_06_M15_Annelies_Van Hemelryk_UCSC_Neuroblastoma_2_R01_A01_ROI2.zarr\n"
     ]
    },
    {
     "name": "stderr",
     "output_type": "stream",
     "text": [
      "c:\\Users\\Mattias\\anaconda3\\envs\\classifier_env\\lib\\site-packages\\zarr\\creation.py:614: UserWarning: ignoring keyword argument 'read_only'\n",
      "  compressor, fill_value = _kwargs_compat(compressor, fill_value, kwargs)\n"
     ]
    },
    {
     "name": "stdout",
     "output_type": "stream",
     "text": [
      "2024_09_06_M15_Annelies_Van Hemelryk_UCSC_Neuroblastoma_2_R01_A01_ROI3.zarr\n"
     ]
    },
    {
     "name": "stderr",
     "output_type": "stream",
     "text": [
      "c:\\Users\\Mattias\\anaconda3\\envs\\classifier_env\\lib\\site-packages\\zarr\\creation.py:614: UserWarning: ignoring keyword argument 'read_only'\n",
      "  compressor, fill_value = _kwargs_compat(compressor, fill_value, kwargs)\n"
     ]
    },
    {
     "name": "stdout",
     "output_type": "stream",
     "text": [
      "2024_09_06_M15_Annelies_Van Hemelryk_UCSC_Neuroblastoma_2_R01_A01_ROI4.zarr\n"
     ]
    },
    {
     "name": "stderr",
     "output_type": "stream",
     "text": [
      "c:\\Users\\Mattias\\anaconda3\\envs\\classifier_env\\lib\\site-packages\\zarr\\creation.py:614: UserWarning: ignoring keyword argument 'read_only'\n",
      "  compressor, fill_value = _kwargs_compat(compressor, fill_value, kwargs)\n"
     ]
    },
    {
     "name": "stdout",
     "output_type": "stream",
     "text": [
      "2024_09_06_M15_Annelies_Van Hemelryk_UCSC_Neuroblastoma_2_R01_A01_ROI5.zarr\n"
     ]
    },
    {
     "name": "stderr",
     "output_type": "stream",
     "text": [
      "c:\\Users\\Mattias\\anaconda3\\envs\\classifier_env\\lib\\site-packages\\zarr\\creation.py:614: UserWarning: ignoring keyword argument 'read_only'\n",
      "  compressor, fill_value = _kwargs_compat(compressor, fill_value, kwargs)\n"
     ]
    },
    {
     "name": "stdout",
     "output_type": "stream",
     "text": [
      "2024_09_12_M16_CellineEveraert_12_R01_B01_ROI1.zarr\n"
     ]
    },
    {
     "name": "stderr",
     "output_type": "stream",
     "text": [
      "c:\\Users\\Mattias\\anaconda3\\envs\\classifier_env\\lib\\site-packages\\zarr\\creation.py:614: UserWarning: ignoring keyword argument 'read_only'\n",
      "  compressor, fill_value = _kwargs_compat(compressor, fill_value, kwargs)\n"
     ]
    },
    {
     "name": "stdout",
     "output_type": "stream",
     "text": [
      "2024_09_12_M16_CellineEveraert_12_R01_B01_ROI2.zarr\n"
     ]
    },
    {
     "name": "stderr",
     "output_type": "stream",
     "text": [
      "c:\\Users\\Mattias\\anaconda3\\envs\\classifier_env\\lib\\site-packages\\zarr\\creation.py:614: UserWarning: ignoring keyword argument 'read_only'\n",
      "  compressor, fill_value = _kwargs_compat(compressor, fill_value, kwargs)\n"
     ]
    },
    {
     "name": "stdout",
     "output_type": "stream",
     "text": [
      "2024_09_12_M16_CellineEveraert_12_R01_B01_ROI3.zarr\n"
     ]
    },
    {
     "name": "stderr",
     "output_type": "stream",
     "text": [
      "c:\\Users\\Mattias\\anaconda3\\envs\\classifier_env\\lib\\site-packages\\zarr\\creation.py:614: UserWarning: ignoring keyword argument 'read_only'\n",
      "  compressor, fill_value = _kwargs_compat(compressor, fill_value, kwargs)\n"
     ]
    },
    {
     "name": "stdout",
     "output_type": "stream",
     "text": [
      "2024_09_12_M16_CellineEveraert_12_R01_B01_ROI4.zarr\n"
     ]
    },
    {
     "name": "stderr",
     "output_type": "stream",
     "text": [
      "c:\\Users\\Mattias\\anaconda3\\envs\\classifier_env\\lib\\site-packages\\zarr\\creation.py:614: UserWarning: ignoring keyword argument 'read_only'\n",
      "  compressor, fill_value = _kwargs_compat(compressor, fill_value, kwargs)\n"
     ]
    },
    {
     "name": "stdout",
     "output_type": "stream",
     "text": [
      "2024_09_20_M17_SPC-035_HelenaAegerter_R01_A01_ROI1.zarr\n"
     ]
    },
    {
     "name": "stderr",
     "output_type": "stream",
     "text": [
      "c:\\Users\\Mattias\\anaconda3\\envs\\classifier_env\\lib\\site-packages\\zarr\\creation.py:614: UserWarning: ignoring keyword argument 'read_only'\n",
      "  compressor, fill_value = _kwargs_compat(compressor, fill_value, kwargs)\n"
     ]
    },
    {
     "name": "stdout",
     "output_type": "stream",
     "text": [
      "2024_09_20_M17_SPC-035_HelenaAegerter_R01_A01_ROI2.zarr\n"
     ]
    },
    {
     "name": "stderr",
     "output_type": "stream",
     "text": [
      "c:\\Users\\Mattias\\anaconda3\\envs\\classifier_env\\lib\\site-packages\\zarr\\creation.py:614: UserWarning: ignoring keyword argument 'read_only'\n",
      "  compressor, fill_value = _kwargs_compat(compressor, fill_value, kwargs)\n"
     ]
    },
    {
     "name": "stdout",
     "output_type": "stream",
     "text": [
      "2024_09_20_M17_SPC-035_HelenaAegerter_R01_A01_ROI3.zarr\n"
     ]
    },
    {
     "name": "stderr",
     "output_type": "stream",
     "text": [
      "c:\\Users\\Mattias\\anaconda3\\envs\\classifier_env\\lib\\site-packages\\zarr\\creation.py:614: UserWarning: ignoring keyword argument 'read_only'\n",
      "  compressor, fill_value = _kwargs_compat(compressor, fill_value, kwargs)\n"
     ]
    }
   ],
   "source": [
    "import napari\n",
    "from scipy.ndimage import label\n",
    "from scipy.ndimage import binary_erosion\n",
    "\n",
    "# create the viewer with an image\n",
    "viewer = napari.Viewer()\n",
    "dir = r\"E:\\data\\train\"\n",
    "for arg in os.listdir(dir):\n",
    "    print(arg)\n",
    "    sdata = read_zarr(os.path.join(dir, arg))\n",
    "\n",
    "    data = sdata['annotations'].data\n",
    "\n",
    "    structure = np.ones((3, 3))\n",
    "\n",
    "    eroded = binary_erosion(data, structure=structure)\n",
    "\n",
    "    labeled_array, num_features = label(eroded, structure=structure)\n",
    "\n",
    "    viewer.add_labels(data)\n",
    "\n",
    "napari.run()"
   ]
  },
  {
   "cell_type": "code",
   "execution_count": null,
   "metadata": {},
   "outputs": [],
   "source": [
    "viewer.layers"
   ]
  },
  {
   "cell_type": "code",
   "execution_count": 29,
   "metadata": {},
   "outputs": [
    {
     "name": "stderr",
     "output_type": "stream",
     "text": [
      "c:\\Users\\Mattias\\anaconda3\\envs\\classifier_env\\lib\\site-packages\\zarr\\creation.py:614: UserWarning: ignoring keyword argument 'read_only'\n",
      "  compressor, fill_value = _kwargs_compat(compressor, fill_value, kwargs)\n"
     ]
    },
    {
     "name": "stdout",
     "output_type": "stream",
     "text": [
      "- Mean: W=3021.0 H=2475.25\n",
      "- std: W=394.0 H=363.184784235243\n",
      "- Max: W=3415 H=2870\n",
      "- Min: W=2627 H=2073\n"
     ]
    }
   ],
   "source": [
    "from scipy.ndimage import label\n",
    "\n",
    "sdata = read_zarr(os.path.join(dir, arg))\n",
    "\n",
    "data = sdata['annotations'].data + 1\n",
    "\n",
    "\n",
    "labeled_array, num_features = label(data)\n",
    "\n",
    "height = []\n",
    "width = []\n",
    "for i in range(1, num_features + 1):\n",
    "    rows, cols = np.where(labeled_array == i)\n",
    "    min_row, max_row = rows.min(), rows.max()\n",
    "    min_col, max_col = cols.min(), cols.max()\n",
    "    \n",
    "    height.append(max_row - min_row + 1)\n",
    "    width.append(max_col - min_col + 1)\n",
    "\n",
    "# Print dimensions of each shape\n",
    "print(f\"- Mean: W={np.mean(width)} H={np.mean(height)}\")\n",
    "print(f\"- std: W={np.std(width)} H={np.std(height)}\")\n",
    "print(f\"- Max: W={np.max(width)} H={np.max(height)}\")\n",
    "print(f\"- Min: W={np.min(width)} H={np.min(height)}\")"
   ]
  },
  {
   "cell_type": "code",
   "execution_count": 1,
   "metadata": {},
   "outputs": [
    {
     "name": "stderr",
     "output_type": "stream",
     "text": [
      "\n",
      "A module that was compiled using NumPy 1.x cannot be run in\n",
      "NumPy 2.1.3 as it may crash. To support both 1.x and 2.x\n",
      "versions of NumPy, modules must be compiled with NumPy 2.0.\n",
      "Some module may need to rebuild instead e.g. with 'pybind11>=2.12'.\n",
      "\n",
      "If you are a user of the module, the easiest solution will be to\n",
      "downgrade to 'numpy<2' or try to upgrade the affected module.\n",
      "We expect that some modules will need time to support NumPy 2.\n",
      "\n",
      "Traceback (most recent call last):  File \"c:\\Users\\Mattias\\anaconda3\\envs\\classifier_env\\lib\\runpy.py\", line 196, in _run_module_as_main\n",
      "    return _run_code(code, main_globals, None,\n",
      "  File \"c:\\Users\\Mattias\\anaconda3\\envs\\classifier_env\\lib\\runpy.py\", line 86, in _run_code\n",
      "    exec(code, run_globals)\n",
      "  File \"c:\\Users\\Mattias\\anaconda3\\envs\\classifier_env\\lib\\site-packages\\ipykernel_launcher.py\", line 18, in <module>\n",
      "    app.launch_new_instance()\n",
      "  File \"c:\\Users\\Mattias\\anaconda3\\envs\\classifier_env\\lib\\site-packages\\traitlets\\config\\application.py\", line 1075, in launch_instance\n",
      "    app.start()\n",
      "  File \"c:\\Users\\Mattias\\anaconda3\\envs\\classifier_env\\lib\\site-packages\\ipykernel\\kernelapp.py\", line 739, in start\n",
      "    self.io_loop.start()\n",
      "  File \"c:\\Users\\Mattias\\anaconda3\\envs\\classifier_env\\lib\\site-packages\\tornado\\platform\\asyncio.py\", line 205, in start\n",
      "    self.asyncio_loop.run_forever()\n",
      "  File \"c:\\Users\\Mattias\\anaconda3\\envs\\classifier_env\\lib\\asyncio\\base_events.py\", line 603, in run_forever\n",
      "    self._run_once()\n",
      "  File \"c:\\Users\\Mattias\\anaconda3\\envs\\classifier_env\\lib\\asyncio\\base_events.py\", line 1909, in _run_once\n",
      "    handle._run()\n",
      "  File \"c:\\Users\\Mattias\\anaconda3\\envs\\classifier_env\\lib\\asyncio\\events.py\", line 80, in _run\n",
      "    self._context.run(self._callback, *self._args)\n",
      "  File \"c:\\Users\\Mattias\\anaconda3\\envs\\classifier_env\\lib\\site-packages\\ipykernel\\kernelbase.py\", line 545, in dispatch_queue\n",
      "    await self.process_one()\n",
      "  File \"c:\\Users\\Mattias\\anaconda3\\envs\\classifier_env\\lib\\site-packages\\ipykernel\\kernelbase.py\", line 534, in process_one\n",
      "    await dispatch(*args)\n",
      "  File \"c:\\Users\\Mattias\\anaconda3\\envs\\classifier_env\\lib\\site-packages\\ipykernel\\kernelbase.py\", line 437, in dispatch_shell\n",
      "    await result\n",
      "  File \"c:\\Users\\Mattias\\anaconda3\\envs\\classifier_env\\lib\\site-packages\\ipykernel\\ipkernel.py\", line 362, in execute_request\n",
      "    await super().execute_request(stream, ident, parent)\n",
      "  File \"c:\\Users\\Mattias\\anaconda3\\envs\\classifier_env\\lib\\site-packages\\ipykernel\\kernelbase.py\", line 778, in execute_request\n",
      "    reply_content = await reply_content\n",
      "  File \"c:\\Users\\Mattias\\anaconda3\\envs\\classifier_env\\lib\\site-packages\\ipykernel\\ipkernel.py\", line 449, in do_execute\n",
      "    res = shell.run_cell(\n",
      "  File \"c:\\Users\\Mattias\\anaconda3\\envs\\classifier_env\\lib\\site-packages\\ipykernel\\zmqshell.py\", line 549, in run_cell\n",
      "    return super().run_cell(*args, **kwargs)\n",
      "  File \"c:\\Users\\Mattias\\anaconda3\\envs\\classifier_env\\lib\\site-packages\\IPython\\core\\interactiveshell.py\", line 3077, in run_cell\n",
      "    result = self._run_cell(\n",
      "  File \"c:\\Users\\Mattias\\anaconda3\\envs\\classifier_env\\lib\\site-packages\\IPython\\core\\interactiveshell.py\", line 3132, in _run_cell\n",
      "    result = runner(coro)\n",
      "  File \"c:\\Users\\Mattias\\anaconda3\\envs\\classifier_env\\lib\\site-packages\\IPython\\core\\async_helpers.py\", line 128, in _pseudo_sync_runner\n",
      "    coro.send(None)\n",
      "  File \"c:\\Users\\Mattias\\anaconda3\\envs\\classifier_env\\lib\\site-packages\\IPython\\core\\interactiveshell.py\", line 3336, in run_cell_async\n",
      "    has_raised = await self.run_ast_nodes(code_ast.body, cell_name,\n",
      "  File \"c:\\Users\\Mattias\\anaconda3\\envs\\classifier_env\\lib\\site-packages\\IPython\\core\\interactiveshell.py\", line 3519, in run_ast_nodes\n",
      "    if await self.run_code(code, result, async_=asy):\n",
      "  File \"c:\\Users\\Mattias\\anaconda3\\envs\\classifier_env\\lib\\site-packages\\IPython\\core\\interactiveshell.py\", line 3579, in run_code\n",
      "    exec(code_obj, self.user_global_ns, self.user_ns)\n",
      "  File \"C:\\Users\\Mattias\\AppData\\Local\\Temp\\ipykernel_14004\\2758241408.py\", line 1, in <module>\n",
      "    import tensorflow as tf\n",
      "  File \"c:\\Users\\Mattias\\anaconda3\\envs\\classifier_env\\lib\\site-packages\\tensorflow\\__init__.py\", line 37, in <module>\n",
      "    from tensorflow.python.tools import module_util as _module_util\n",
      "  File \"c:\\Users\\Mattias\\anaconda3\\envs\\classifier_env\\lib\\site-packages\\tensorflow\\python\\__init__.py\", line 37, in <module>\n",
      "    from tensorflow.python.eager import context\n",
      "  File \"c:\\Users\\Mattias\\anaconda3\\envs\\classifier_env\\lib\\site-packages\\tensorflow\\python\\eager\\context.py\", line 35, in <module>\n",
      "    from tensorflow.python.client import pywrap_tf_session\n",
      "  File \"c:\\Users\\Mattias\\anaconda3\\envs\\classifier_env\\lib\\site-packages\\tensorflow\\python\\client\\pywrap_tf_session.py\", line 19, in <module>\n",
      "    from tensorflow.python.client._pywrap_tf_session import *\n"
     ]
    },
    {
     "ename": "AttributeError",
     "evalue": "_ARRAY_API not found",
     "output_type": "error",
     "traceback": [
      "\u001b[1;31m---------------------------------------------------------------------------\u001b[0m",
      "\u001b[1;31mAttributeError\u001b[0m                            Traceback (most recent call last)",
      "\u001b[1;31mAttributeError\u001b[0m: _ARRAY_API not found"
     ]
    },
    {
     "name": "stderr",
     "output_type": "stream",
     "text": [
      "\n",
      "A module that was compiled using NumPy 1.x cannot be run in\n",
      "NumPy 2.1.3 as it may crash. To support both 1.x and 2.x\n",
      "versions of NumPy, modules must be compiled with NumPy 2.0.\n",
      "Some module may need to rebuild instead e.g. with 'pybind11>=2.12'.\n",
      "\n",
      "If you are a user of the module, the easiest solution will be to\n",
      "downgrade to 'numpy<2' or try to upgrade the affected module.\n",
      "We expect that some modules will need time to support NumPy 2.\n",
      "\n",
      "Traceback (most recent call last):  File \"c:\\Users\\Mattias\\anaconda3\\envs\\classifier_env\\lib\\runpy.py\", line 196, in _run_module_as_main\n",
      "    return _run_code(code, main_globals, None,\n",
      "  File \"c:\\Users\\Mattias\\anaconda3\\envs\\classifier_env\\lib\\runpy.py\", line 86, in _run_code\n",
      "    exec(code, run_globals)\n",
      "  File \"c:\\Users\\Mattias\\anaconda3\\envs\\classifier_env\\lib\\site-packages\\ipykernel_launcher.py\", line 18, in <module>\n",
      "    app.launch_new_instance()\n",
      "  File \"c:\\Users\\Mattias\\anaconda3\\envs\\classifier_env\\lib\\site-packages\\traitlets\\config\\application.py\", line 1075, in launch_instance\n",
      "    app.start()\n",
      "  File \"c:\\Users\\Mattias\\anaconda3\\envs\\classifier_env\\lib\\site-packages\\ipykernel\\kernelapp.py\", line 739, in start\n",
      "    self.io_loop.start()\n",
      "  File \"c:\\Users\\Mattias\\anaconda3\\envs\\classifier_env\\lib\\site-packages\\tornado\\platform\\asyncio.py\", line 205, in start\n",
      "    self.asyncio_loop.run_forever()\n",
      "  File \"c:\\Users\\Mattias\\anaconda3\\envs\\classifier_env\\lib\\asyncio\\base_events.py\", line 603, in run_forever\n",
      "    self._run_once()\n",
      "  File \"c:\\Users\\Mattias\\anaconda3\\envs\\classifier_env\\lib\\asyncio\\base_events.py\", line 1909, in _run_once\n",
      "    handle._run()\n",
      "  File \"c:\\Users\\Mattias\\anaconda3\\envs\\classifier_env\\lib\\asyncio\\events.py\", line 80, in _run\n",
      "    self._context.run(self._callback, *self._args)\n",
      "  File \"c:\\Users\\Mattias\\anaconda3\\envs\\classifier_env\\lib\\site-packages\\ipykernel\\kernelbase.py\", line 545, in dispatch_queue\n",
      "    await self.process_one()\n",
      "  File \"c:\\Users\\Mattias\\anaconda3\\envs\\classifier_env\\lib\\site-packages\\ipykernel\\kernelbase.py\", line 534, in process_one\n",
      "    await dispatch(*args)\n",
      "  File \"c:\\Users\\Mattias\\anaconda3\\envs\\classifier_env\\lib\\site-packages\\ipykernel\\kernelbase.py\", line 437, in dispatch_shell\n",
      "    await result\n",
      "  File \"c:\\Users\\Mattias\\anaconda3\\envs\\classifier_env\\lib\\site-packages\\ipykernel\\ipkernel.py\", line 362, in execute_request\n",
      "    await super().execute_request(stream, ident, parent)\n",
      "  File \"c:\\Users\\Mattias\\anaconda3\\envs\\classifier_env\\lib\\site-packages\\ipykernel\\kernelbase.py\", line 778, in execute_request\n",
      "    reply_content = await reply_content\n",
      "  File \"c:\\Users\\Mattias\\anaconda3\\envs\\classifier_env\\lib\\site-packages\\ipykernel\\ipkernel.py\", line 449, in do_execute\n",
      "    res = shell.run_cell(\n",
      "  File \"c:\\Users\\Mattias\\anaconda3\\envs\\classifier_env\\lib\\site-packages\\ipykernel\\zmqshell.py\", line 549, in run_cell\n",
      "    return super().run_cell(*args, **kwargs)\n",
      "  File \"c:\\Users\\Mattias\\anaconda3\\envs\\classifier_env\\lib\\site-packages\\IPython\\core\\interactiveshell.py\", line 3077, in run_cell\n",
      "    result = self._run_cell(\n",
      "  File \"c:\\Users\\Mattias\\anaconda3\\envs\\classifier_env\\lib\\site-packages\\IPython\\core\\interactiveshell.py\", line 3132, in _run_cell\n",
      "    result = runner(coro)\n",
      "  File \"c:\\Users\\Mattias\\anaconda3\\envs\\classifier_env\\lib\\site-packages\\IPython\\core\\async_helpers.py\", line 128, in _pseudo_sync_runner\n",
      "    coro.send(None)\n",
      "  File \"c:\\Users\\Mattias\\anaconda3\\envs\\classifier_env\\lib\\site-packages\\IPython\\core\\interactiveshell.py\", line 3336, in run_cell_async\n",
      "    has_raised = await self.run_ast_nodes(code_ast.body, cell_name,\n",
      "  File \"c:\\Users\\Mattias\\anaconda3\\envs\\classifier_env\\lib\\site-packages\\IPython\\core\\interactiveshell.py\", line 3519, in run_ast_nodes\n",
      "    if await self.run_code(code, result, async_=asy):\n",
      "  File \"c:\\Users\\Mattias\\anaconda3\\envs\\classifier_env\\lib\\site-packages\\IPython\\core\\interactiveshell.py\", line 3579, in run_code\n",
      "    exec(code_obj, self.user_global_ns, self.user_ns)\n",
      "  File \"C:\\Users\\Mattias\\AppData\\Local\\Temp\\ipykernel_14004\\2758241408.py\", line 1, in <module>\n",
      "    import tensorflow as tf\n",
      "  File \"c:\\Users\\Mattias\\anaconda3\\envs\\classifier_env\\lib\\site-packages\\tensorflow\\__init__.py\", line 37, in <module>\n",
      "    from tensorflow.python.tools import module_util as _module_util\n",
      "  File \"c:\\Users\\Mattias\\anaconda3\\envs\\classifier_env\\lib\\site-packages\\tensorflow\\python\\__init__.py\", line 42, in <module>\n",
      "    from tensorflow.python import data\n",
      "  File \"c:\\Users\\Mattias\\anaconda3\\envs\\classifier_env\\lib\\site-packages\\tensorflow\\python\\data\\__init__.py\", line 21, in <module>\n",
      "    from tensorflow.python.data import experimental\n",
      "  File \"c:\\Users\\Mattias\\anaconda3\\envs\\classifier_env\\lib\\site-packages\\tensorflow\\python\\data\\experimental\\__init__.py\", line 96, in <module>\n",
      "    from tensorflow.python.data.experimental import service\n",
      "  File \"c:\\Users\\Mattias\\anaconda3\\envs\\classifier_env\\lib\\site-packages\\tensorflow\\python\\data\\experimental\\service\\__init__.py\", line 419, in <module>\n",
      "    from tensorflow.python.data.experimental.ops.data_service_ops import distribute\n",
      "  File \"c:\\Users\\Mattias\\anaconda3\\envs\\classifier_env\\lib\\site-packages\\tensorflow\\python\\data\\experimental\\ops\\data_service_ops.py\", line 24, in <module>\n",
      "    from tensorflow.python.data.experimental.ops import compression_ops\n",
      "  File \"c:\\Users\\Mattias\\anaconda3\\envs\\classifier_env\\lib\\site-packages\\tensorflow\\python\\data\\experimental\\ops\\compression_ops.py\", line 16, in <module>\n",
      "    from tensorflow.python.data.util import structure\n",
      "  File \"c:\\Users\\Mattias\\anaconda3\\envs\\classifier_env\\lib\\site-packages\\tensorflow\\python\\data\\util\\structure.py\", line 23, in <module>\n",
      "    from tensorflow.python.data.util import nest\n",
      "  File \"c:\\Users\\Mattias\\anaconda3\\envs\\classifier_env\\lib\\site-packages\\tensorflow\\python\\data\\util\\nest.py\", line 36, in <module>\n",
      "    from tensorflow.python.framework import sparse_tensor as _sparse_tensor\n",
      "  File \"c:\\Users\\Mattias\\anaconda3\\envs\\classifier_env\\lib\\site-packages\\tensorflow\\python\\framework\\sparse_tensor.py\", line 24, in <module>\n",
      "    from tensorflow.python.framework import constant_op\n",
      "  File \"c:\\Users\\Mattias\\anaconda3\\envs\\classifier_env\\lib\\site-packages\\tensorflow\\python\\framework\\constant_op.py\", line 25, in <module>\n",
      "    from tensorflow.python.eager import execute\n",
      "  File \"c:\\Users\\Mattias\\anaconda3\\envs\\classifier_env\\lib\\site-packages\\tensorflow\\python\\eager\\execute.py\", line 23, in <module>\n",
      "    from tensorflow.python.framework import dtypes\n",
      "  File \"c:\\Users\\Mattias\\anaconda3\\envs\\classifier_env\\lib\\site-packages\\tensorflow\\python\\framework\\dtypes.py\", line 29, in <module>\n",
      "    from tensorflow.python.lib.core import _pywrap_bfloat16\n"
     ]
    },
    {
     "ename": "AttributeError",
     "evalue": "_ARRAY_API not found",
     "output_type": "error",
     "traceback": [
      "\u001b[1;31m---------------------------------------------------------------------------\u001b[0m",
      "\u001b[1;31mAttributeError\u001b[0m                            Traceback (most recent call last)",
      "\u001b[1;31mAttributeError\u001b[0m: _ARRAY_API not found"
     ]
    },
    {
     "ename": "ImportError",
     "evalue": "numpy.core._multiarray_umath failed to import",
     "output_type": "error",
     "traceback": [
      "\u001b[1;31m---------------------------------------------------------------------------\u001b[0m",
      "\u001b[1;31mImportError\u001b[0m                               Traceback (most recent call last)",
      "\u001b[1;31mImportError\u001b[0m: numpy.core._multiarray_umath failed to import"
     ]
    },
    {
     "ename": "ImportError",
     "evalue": "numpy.core.umath failed to import",
     "output_type": "error",
     "traceback": [
      "\u001b[1;31m---------------------------------------------------------------------------\u001b[0m",
      "\u001b[1;31mImportError\u001b[0m                               Traceback (most recent call last)",
      "\u001b[1;31mImportError\u001b[0m: numpy.core.umath failed to import"
     ]
    },
    {
     "ename": "TypeError",
     "evalue": "Unable to convert function return value to a Python type! The signature was\n\t() -> handle",
     "output_type": "error",
     "traceback": [
      "\u001b[1;31m---------------------------------------------------------------------------\u001b[0m",
      "\u001b[1;31mTypeError\u001b[0m                                 Traceback (most recent call last)",
      "Cell \u001b[1;32mIn[1], line 1\u001b[0m\n\u001b[1;32m----> 1\u001b[0m \u001b[38;5;28;01mimport\u001b[39;00m\u001b[38;5;250m \u001b[39m\u001b[38;5;21;01mtensorflow\u001b[39;00m\u001b[38;5;250m \u001b[39m\u001b[38;5;28;01mas\u001b[39;00m\u001b[38;5;250m \u001b[39m\u001b[38;5;21;01mtf\u001b[39;00m\n\u001b[0;32m      2\u001b[0m \u001b[38;5;28mprint\u001b[39m(tf\u001b[38;5;241m.\u001b[39mconfig\u001b[38;5;241m.\u001b[39mlist_physical_devices(\u001b[38;5;124m'\u001b[39m\u001b[38;5;124mGPU\u001b[39m\u001b[38;5;124m'\u001b[39m))\n",
      "File \u001b[1;32mc:\\Users\\Mattias\\anaconda3\\envs\\classifier_env\\lib\\site-packages\\tensorflow\\__init__.py:37\u001b[0m\n\u001b[0;32m     34\u001b[0m \u001b[38;5;28;01mimport\u001b[39;00m\u001b[38;5;250m \u001b[39m\u001b[38;5;21;01msys\u001b[39;00m\u001b[38;5;250m \u001b[39m\u001b[38;5;28;01mas\u001b[39;00m\u001b[38;5;250m \u001b[39m\u001b[38;5;21;01m_sys\u001b[39;00m\n\u001b[0;32m     35\u001b[0m \u001b[38;5;28;01mimport\u001b[39;00m\u001b[38;5;250m \u001b[39m\u001b[38;5;21;01mtyping\u001b[39;00m\u001b[38;5;250m \u001b[39m\u001b[38;5;28;01mas\u001b[39;00m\u001b[38;5;250m \u001b[39m\u001b[38;5;21;01m_typing\u001b[39;00m\n\u001b[1;32m---> 37\u001b[0m \u001b[38;5;28;01mfrom\u001b[39;00m\u001b[38;5;250m \u001b[39m\u001b[38;5;21;01mtensorflow\u001b[39;00m\u001b[38;5;21;01m.\u001b[39;00m\u001b[38;5;21;01mpython\u001b[39;00m\u001b[38;5;21;01m.\u001b[39;00m\u001b[38;5;21;01mtools\u001b[39;00m\u001b[38;5;250m \u001b[39m\u001b[38;5;28;01mimport\u001b[39;00m module_util \u001b[38;5;28;01mas\u001b[39;00m _module_util\n\u001b[0;32m     38\u001b[0m \u001b[38;5;28;01mfrom\u001b[39;00m\u001b[38;5;250m \u001b[39m\u001b[38;5;21;01mtensorflow\u001b[39;00m\u001b[38;5;21;01m.\u001b[39;00m\u001b[38;5;21;01mpython\u001b[39;00m\u001b[38;5;21;01m.\u001b[39;00m\u001b[38;5;21;01mutil\u001b[39;00m\u001b[38;5;21;01m.\u001b[39;00m\u001b[38;5;21;01mlazy_loader\u001b[39;00m\u001b[38;5;250m \u001b[39m\u001b[38;5;28;01mimport\u001b[39;00m LazyLoader \u001b[38;5;28;01mas\u001b[39;00m _LazyLoader\n\u001b[0;32m     40\u001b[0m \u001b[38;5;66;03m# Make sure code inside the TensorFlow codebase can use tf2.enabled() at import.\u001b[39;00m\n",
      "File \u001b[1;32mc:\\Users\\Mattias\\anaconda3\\envs\\classifier_env\\lib\\site-packages\\tensorflow\\python\\__init__.py:42\u001b[0m\n\u001b[0;32m     37\u001b[0m \u001b[38;5;28;01mfrom\u001b[39;00m\u001b[38;5;250m \u001b[39m\u001b[38;5;21;01mtensorflow\u001b[39;00m\u001b[38;5;21;01m.\u001b[39;00m\u001b[38;5;21;01mpython\u001b[39;00m\u001b[38;5;21;01m.\u001b[39;00m\u001b[38;5;21;01meager\u001b[39;00m\u001b[38;5;250m \u001b[39m\u001b[38;5;28;01mimport\u001b[39;00m context\n\u001b[0;32m     39\u001b[0m \u001b[38;5;66;03m# pylint: enable=wildcard-import\u001b[39;00m\n\u001b[0;32m     40\u001b[0m \n\u001b[0;32m     41\u001b[0m \u001b[38;5;66;03m# Bring in subpackages.\u001b[39;00m\n\u001b[1;32m---> 42\u001b[0m \u001b[38;5;28;01mfrom\u001b[39;00m\u001b[38;5;250m \u001b[39m\u001b[38;5;21;01mtensorflow\u001b[39;00m\u001b[38;5;21;01m.\u001b[39;00m\u001b[38;5;21;01mpython\u001b[39;00m\u001b[38;5;250m \u001b[39m\u001b[38;5;28;01mimport\u001b[39;00m data\n\u001b[0;32m     43\u001b[0m \u001b[38;5;28;01mfrom\u001b[39;00m\u001b[38;5;250m \u001b[39m\u001b[38;5;21;01mtensorflow\u001b[39;00m\u001b[38;5;21;01m.\u001b[39;00m\u001b[38;5;21;01mpython\u001b[39;00m\u001b[38;5;250m \u001b[39m\u001b[38;5;28;01mimport\u001b[39;00m distribute\n\u001b[0;32m     44\u001b[0m \u001b[38;5;66;03m# from tensorflow.python import keras\u001b[39;00m\n",
      "File \u001b[1;32mc:\\Users\\Mattias\\anaconda3\\envs\\classifier_env\\lib\\site-packages\\tensorflow\\python\\data\\__init__.py:21\u001b[0m\n\u001b[0;32m     15\u001b[0m \u001b[38;5;124;03m\"\"\"`tf.data.Dataset` API for input pipelines.\u001b[39;00m\n\u001b[0;32m     16\u001b[0m \n\u001b[0;32m     17\u001b[0m \u001b[38;5;124;03mSee [Importing Data](https://tensorflow.org/guide/data) for an overview.\u001b[39;00m\n\u001b[0;32m     18\u001b[0m \u001b[38;5;124;03m\"\"\"\u001b[39;00m\n\u001b[0;32m     20\u001b[0m \u001b[38;5;66;03m# pylint: disable=unused-import\u001b[39;00m\n\u001b[1;32m---> 21\u001b[0m \u001b[38;5;28;01mfrom\u001b[39;00m\u001b[38;5;250m \u001b[39m\u001b[38;5;21;01mtensorflow\u001b[39;00m\u001b[38;5;21;01m.\u001b[39;00m\u001b[38;5;21;01mpython\u001b[39;00m\u001b[38;5;21;01m.\u001b[39;00m\u001b[38;5;21;01mdata\u001b[39;00m\u001b[38;5;250m \u001b[39m\u001b[38;5;28;01mimport\u001b[39;00m experimental\n\u001b[0;32m     22\u001b[0m \u001b[38;5;28;01mfrom\u001b[39;00m\u001b[38;5;250m \u001b[39m\u001b[38;5;21;01mtensorflow\u001b[39;00m\u001b[38;5;21;01m.\u001b[39;00m\u001b[38;5;21;01mpython\u001b[39;00m\u001b[38;5;21;01m.\u001b[39;00m\u001b[38;5;21;01mdata\u001b[39;00m\u001b[38;5;21;01m.\u001b[39;00m\u001b[38;5;21;01mops\u001b[39;00m\u001b[38;5;21;01m.\u001b[39;00m\u001b[38;5;21;01mdataset_ops\u001b[39;00m\u001b[38;5;250m \u001b[39m\u001b[38;5;28;01mimport\u001b[39;00m AUTOTUNE\n\u001b[0;32m     23\u001b[0m \u001b[38;5;28;01mfrom\u001b[39;00m\u001b[38;5;250m \u001b[39m\u001b[38;5;21;01mtensorflow\u001b[39;00m\u001b[38;5;21;01m.\u001b[39;00m\u001b[38;5;21;01mpython\u001b[39;00m\u001b[38;5;21;01m.\u001b[39;00m\u001b[38;5;21;01mdata\u001b[39;00m\u001b[38;5;21;01m.\u001b[39;00m\u001b[38;5;21;01mops\u001b[39;00m\u001b[38;5;21;01m.\u001b[39;00m\u001b[38;5;21;01mdataset_ops\u001b[39;00m\u001b[38;5;250m \u001b[39m\u001b[38;5;28;01mimport\u001b[39;00m Dataset\n",
      "File \u001b[1;32mc:\\Users\\Mattias\\anaconda3\\envs\\classifier_env\\lib\\site-packages\\tensorflow\\python\\data\\experimental\\__init__.py:96\u001b[0m\n\u001b[0;32m     15\u001b[0m \u001b[38;5;124;03m\"\"\"Experimental API for building input pipelines.\u001b[39;00m\n\u001b[0;32m     16\u001b[0m \n\u001b[0;32m     17\u001b[0m \u001b[38;5;124;03mThis module contains experimental `Dataset` sources and transformations that can\u001b[39;00m\n\u001b[1;32m   (...)\u001b[0m\n\u001b[0;32m     92\u001b[0m \u001b[38;5;124;03m@@UNKNOWN_CARDINALITY\u001b[39;00m\n\u001b[0;32m     93\u001b[0m \u001b[38;5;124;03m\"\"\"\u001b[39;00m\n\u001b[0;32m     95\u001b[0m \u001b[38;5;66;03m# pylint: disable=unused-import\u001b[39;00m\n\u001b[1;32m---> 96\u001b[0m \u001b[38;5;28;01mfrom\u001b[39;00m\u001b[38;5;250m \u001b[39m\u001b[38;5;21;01mtensorflow\u001b[39;00m\u001b[38;5;21;01m.\u001b[39;00m\u001b[38;5;21;01mpython\u001b[39;00m\u001b[38;5;21;01m.\u001b[39;00m\u001b[38;5;21;01mdata\u001b[39;00m\u001b[38;5;21;01m.\u001b[39;00m\u001b[38;5;21;01mexperimental\u001b[39;00m\u001b[38;5;250m \u001b[39m\u001b[38;5;28;01mimport\u001b[39;00m service\n\u001b[0;32m     97\u001b[0m \u001b[38;5;28;01mfrom\u001b[39;00m\u001b[38;5;250m \u001b[39m\u001b[38;5;21;01mtensorflow\u001b[39;00m\u001b[38;5;21;01m.\u001b[39;00m\u001b[38;5;21;01mpython\u001b[39;00m\u001b[38;5;21;01m.\u001b[39;00m\u001b[38;5;21;01mdata\u001b[39;00m\u001b[38;5;21;01m.\u001b[39;00m\u001b[38;5;21;01mexperimental\u001b[39;00m\u001b[38;5;21;01m.\u001b[39;00m\u001b[38;5;21;01mops\u001b[39;00m\u001b[38;5;21;01m.\u001b[39;00m\u001b[38;5;21;01mbatching\u001b[39;00m\u001b[38;5;250m \u001b[39m\u001b[38;5;28;01mimport\u001b[39;00m dense_to_ragged_batch\n\u001b[0;32m     98\u001b[0m \u001b[38;5;28;01mfrom\u001b[39;00m\u001b[38;5;250m \u001b[39m\u001b[38;5;21;01mtensorflow\u001b[39;00m\u001b[38;5;21;01m.\u001b[39;00m\u001b[38;5;21;01mpython\u001b[39;00m\u001b[38;5;21;01m.\u001b[39;00m\u001b[38;5;21;01mdata\u001b[39;00m\u001b[38;5;21;01m.\u001b[39;00m\u001b[38;5;21;01mexperimental\u001b[39;00m\u001b[38;5;21;01m.\u001b[39;00m\u001b[38;5;21;01mops\u001b[39;00m\u001b[38;5;21;01m.\u001b[39;00m\u001b[38;5;21;01mbatching\u001b[39;00m\u001b[38;5;250m \u001b[39m\u001b[38;5;28;01mimport\u001b[39;00m dense_to_sparse_batch\n",
      "File \u001b[1;32mc:\\Users\\Mattias\\anaconda3\\envs\\classifier_env\\lib\\site-packages\\tensorflow\\python\\data\\experimental\\service\\__init__.py:419\u001b[0m\n\u001b[0;32m      1\u001b[0m \u001b[38;5;66;03m# Copyright 2020 The TensorFlow Authors. All Rights Reserved.\u001b[39;00m\n\u001b[0;32m      2\u001b[0m \u001b[38;5;66;03m#\u001b[39;00m\n\u001b[0;32m      3\u001b[0m \u001b[38;5;66;03m# Licensed under the Apache License, Version 2.0 (the \"License\");\u001b[39;00m\n\u001b[1;32m   (...)\u001b[0m\n\u001b[0;32m     13\u001b[0m \u001b[38;5;66;03m# limitations under the License.\u001b[39;00m\n\u001b[0;32m     14\u001b[0m \u001b[38;5;66;03m# ==============================================================================\u001b[39;00m\n\u001b[0;32m     15\u001b[0m \u001b[38;5;124;03m\"\"\"API for using the tf.data service.\u001b[39;00m\n\u001b[0;32m     16\u001b[0m \n\u001b[0;32m     17\u001b[0m \u001b[38;5;124;03mThis module contains:\u001b[39;00m\n\u001b[1;32m   (...)\u001b[0m\n\u001b[0;32m    416\u001b[0m \u001b[38;5;124;03m  job of ParameterServerStrategy).\u001b[39;00m\n\u001b[0;32m    417\u001b[0m \u001b[38;5;124;03m\"\"\"\u001b[39;00m\n\u001b[1;32m--> 419\u001b[0m \u001b[38;5;28;01mfrom\u001b[39;00m\u001b[38;5;250m \u001b[39m\u001b[38;5;21;01mtensorflow\u001b[39;00m\u001b[38;5;21;01m.\u001b[39;00m\u001b[38;5;21;01mpython\u001b[39;00m\u001b[38;5;21;01m.\u001b[39;00m\u001b[38;5;21;01mdata\u001b[39;00m\u001b[38;5;21;01m.\u001b[39;00m\u001b[38;5;21;01mexperimental\u001b[39;00m\u001b[38;5;21;01m.\u001b[39;00m\u001b[38;5;21;01mops\u001b[39;00m\u001b[38;5;21;01m.\u001b[39;00m\u001b[38;5;21;01mdata_service_ops\u001b[39;00m\u001b[38;5;250m \u001b[39m\u001b[38;5;28;01mimport\u001b[39;00m distribute\n\u001b[0;32m    420\u001b[0m \u001b[38;5;28;01mfrom\u001b[39;00m\u001b[38;5;250m \u001b[39m\u001b[38;5;21;01mtensorflow\u001b[39;00m\u001b[38;5;21;01m.\u001b[39;00m\u001b[38;5;21;01mpython\u001b[39;00m\u001b[38;5;21;01m.\u001b[39;00m\u001b[38;5;21;01mdata\u001b[39;00m\u001b[38;5;21;01m.\u001b[39;00m\u001b[38;5;21;01mexperimental\u001b[39;00m\u001b[38;5;21;01m.\u001b[39;00m\u001b[38;5;21;01mops\u001b[39;00m\u001b[38;5;21;01m.\u001b[39;00m\u001b[38;5;21;01mdata_service_ops\u001b[39;00m\u001b[38;5;250m \u001b[39m\u001b[38;5;28;01mimport\u001b[39;00m from_dataset_id\n\u001b[0;32m    421\u001b[0m \u001b[38;5;28;01mfrom\u001b[39;00m\u001b[38;5;250m \u001b[39m\u001b[38;5;21;01mtensorflow\u001b[39;00m\u001b[38;5;21;01m.\u001b[39;00m\u001b[38;5;21;01mpython\u001b[39;00m\u001b[38;5;21;01m.\u001b[39;00m\u001b[38;5;21;01mdata\u001b[39;00m\u001b[38;5;21;01m.\u001b[39;00m\u001b[38;5;21;01mexperimental\u001b[39;00m\u001b[38;5;21;01m.\u001b[39;00m\u001b[38;5;21;01mops\u001b[39;00m\u001b[38;5;21;01m.\u001b[39;00m\u001b[38;5;21;01mdata_service_ops\u001b[39;00m\u001b[38;5;250m \u001b[39m\u001b[38;5;28;01mimport\u001b[39;00m register_dataset\n",
      "File \u001b[1;32mc:\\Users\\Mattias\\anaconda3\\envs\\classifier_env\\lib\\site-packages\\tensorflow\\python\\data\\experimental\\ops\\data_service_ops.py:24\u001b[0m\n\u001b[0;32m     22\u001b[0m \u001b[38;5;28;01mfrom\u001b[39;00m\u001b[38;5;250m \u001b[39m\u001b[38;5;21;01mtensorflow\u001b[39;00m\u001b[38;5;21;01m.\u001b[39;00m\u001b[38;5;21;01mpython\u001b[39;00m\u001b[38;5;250m \u001b[39m\u001b[38;5;28;01mimport\u001b[39;00m tf2\n\u001b[0;32m     23\u001b[0m \u001b[38;5;28;01mfrom\u001b[39;00m\u001b[38;5;250m \u001b[39m\u001b[38;5;21;01mtensorflow\u001b[39;00m\u001b[38;5;21;01m.\u001b[39;00m\u001b[38;5;21;01mpython\u001b[39;00m\u001b[38;5;21;01m.\u001b[39;00m\u001b[38;5;21;01mcompat\u001b[39;00m\u001b[38;5;250m \u001b[39m\u001b[38;5;28;01mimport\u001b[39;00m compat\n\u001b[1;32m---> 24\u001b[0m \u001b[38;5;28;01mfrom\u001b[39;00m\u001b[38;5;250m \u001b[39m\u001b[38;5;21;01mtensorflow\u001b[39;00m\u001b[38;5;21;01m.\u001b[39;00m\u001b[38;5;21;01mpython\u001b[39;00m\u001b[38;5;21;01m.\u001b[39;00m\u001b[38;5;21;01mdata\u001b[39;00m\u001b[38;5;21;01m.\u001b[39;00m\u001b[38;5;21;01mexperimental\u001b[39;00m\u001b[38;5;21;01m.\u001b[39;00m\u001b[38;5;21;01mops\u001b[39;00m\u001b[38;5;250m \u001b[39m\u001b[38;5;28;01mimport\u001b[39;00m compression_ops\n\u001b[0;32m     25\u001b[0m \u001b[38;5;28;01mfrom\u001b[39;00m\u001b[38;5;250m \u001b[39m\u001b[38;5;21;01mtensorflow\u001b[39;00m\u001b[38;5;21;01m.\u001b[39;00m\u001b[38;5;21;01mpython\u001b[39;00m\u001b[38;5;21;01m.\u001b[39;00m\u001b[38;5;21;01mdata\u001b[39;00m\u001b[38;5;21;01m.\u001b[39;00m\u001b[38;5;21;01mexperimental\u001b[39;00m\u001b[38;5;21;01m.\u001b[39;00m\u001b[38;5;21;01mservice\u001b[39;00m\u001b[38;5;250m \u001b[39m\u001b[38;5;28;01mimport\u001b[39;00m _pywrap_server_lib\n\u001b[0;32m     26\u001b[0m \u001b[38;5;28;01mfrom\u001b[39;00m\u001b[38;5;250m \u001b[39m\u001b[38;5;21;01mtensorflow\u001b[39;00m\u001b[38;5;21;01m.\u001b[39;00m\u001b[38;5;21;01mpython\u001b[39;00m\u001b[38;5;21;01m.\u001b[39;00m\u001b[38;5;21;01mdata\u001b[39;00m\u001b[38;5;21;01m.\u001b[39;00m\u001b[38;5;21;01mexperimental\u001b[39;00m\u001b[38;5;21;01m.\u001b[39;00m\u001b[38;5;21;01mservice\u001b[39;00m\u001b[38;5;250m \u001b[39m\u001b[38;5;28;01mimport\u001b[39;00m _pywrap_utils\n",
      "File \u001b[1;32mc:\\Users\\Mattias\\anaconda3\\envs\\classifier_env\\lib\\site-packages\\tensorflow\\python\\data\\experimental\\ops\\compression_ops.py:16\u001b[0m\n\u001b[0;32m      1\u001b[0m \u001b[38;5;66;03m# Copyright 2020 The TensorFlow Authors. All Rights Reserved.\u001b[39;00m\n\u001b[0;32m      2\u001b[0m \u001b[38;5;66;03m#\u001b[39;00m\n\u001b[0;32m      3\u001b[0m \u001b[38;5;66;03m# Licensed under the Apache License, Version 2.0 (the \"License\");\u001b[39;00m\n\u001b[1;32m   (...)\u001b[0m\n\u001b[0;32m     13\u001b[0m \u001b[38;5;66;03m# limitations under the License.\u001b[39;00m\n\u001b[0;32m     14\u001b[0m \u001b[38;5;66;03m# ==============================================================================\u001b[39;00m\n\u001b[0;32m     15\u001b[0m \u001b[38;5;124;03m\"\"\"Ops for compressing and uncompressing dataset elements.\"\"\"\u001b[39;00m\n\u001b[1;32m---> 16\u001b[0m \u001b[38;5;28;01mfrom\u001b[39;00m\u001b[38;5;250m \u001b[39m\u001b[38;5;21;01mtensorflow\u001b[39;00m\u001b[38;5;21;01m.\u001b[39;00m\u001b[38;5;21;01mpython\u001b[39;00m\u001b[38;5;21;01m.\u001b[39;00m\u001b[38;5;21;01mdata\u001b[39;00m\u001b[38;5;21;01m.\u001b[39;00m\u001b[38;5;21;01mutil\u001b[39;00m\u001b[38;5;250m \u001b[39m\u001b[38;5;28;01mimport\u001b[39;00m structure\n\u001b[0;32m     17\u001b[0m \u001b[38;5;28;01mfrom\u001b[39;00m\u001b[38;5;250m \u001b[39m\u001b[38;5;21;01mtensorflow\u001b[39;00m\u001b[38;5;21;01m.\u001b[39;00m\u001b[38;5;21;01mpython\u001b[39;00m\u001b[38;5;21;01m.\u001b[39;00m\u001b[38;5;21;01mops\u001b[39;00m\u001b[38;5;250m \u001b[39m\u001b[38;5;28;01mimport\u001b[39;00m gen_experimental_dataset_ops \u001b[38;5;28;01mas\u001b[39;00m ged_ops\n\u001b[0;32m     20\u001b[0m \u001b[38;5;28;01mdef\u001b[39;00m\u001b[38;5;250m \u001b[39m\u001b[38;5;21mcompress\u001b[39m(element):\n",
      "File \u001b[1;32mc:\\Users\\Mattias\\anaconda3\\envs\\classifier_env\\lib\\site-packages\\tensorflow\\python\\data\\util\\structure.py:23\u001b[0m\n\u001b[0;32m     20\u001b[0m \u001b[38;5;28;01mimport\u001b[39;00m\u001b[38;5;250m \u001b[39m\u001b[38;5;21;01msix\u001b[39;00m\n\u001b[0;32m     21\u001b[0m \u001b[38;5;28;01mimport\u001b[39;00m\u001b[38;5;250m \u001b[39m\u001b[38;5;21;01mwrapt\u001b[39;00m\n\u001b[1;32m---> 23\u001b[0m \u001b[38;5;28;01mfrom\u001b[39;00m\u001b[38;5;250m \u001b[39m\u001b[38;5;21;01mtensorflow\u001b[39;00m\u001b[38;5;21;01m.\u001b[39;00m\u001b[38;5;21;01mpython\u001b[39;00m\u001b[38;5;21;01m.\u001b[39;00m\u001b[38;5;21;01mdata\u001b[39;00m\u001b[38;5;21;01m.\u001b[39;00m\u001b[38;5;21;01mutil\u001b[39;00m\u001b[38;5;250m \u001b[39m\u001b[38;5;28;01mimport\u001b[39;00m nest\n\u001b[0;32m     24\u001b[0m \u001b[38;5;28;01mfrom\u001b[39;00m\u001b[38;5;250m \u001b[39m\u001b[38;5;21;01mtensorflow\u001b[39;00m\u001b[38;5;21;01m.\u001b[39;00m\u001b[38;5;21;01mpython\u001b[39;00m\u001b[38;5;21;01m.\u001b[39;00m\u001b[38;5;21;01mframework\u001b[39;00m\u001b[38;5;250m \u001b[39m\u001b[38;5;28;01mimport\u001b[39;00m composite_tensor\n\u001b[0;32m     25\u001b[0m \u001b[38;5;28;01mfrom\u001b[39;00m\u001b[38;5;250m \u001b[39m\u001b[38;5;21;01mtensorflow\u001b[39;00m\u001b[38;5;21;01m.\u001b[39;00m\u001b[38;5;21;01mpython\u001b[39;00m\u001b[38;5;21;01m.\u001b[39;00m\u001b[38;5;21;01mframework\u001b[39;00m\u001b[38;5;250m \u001b[39m\u001b[38;5;28;01mimport\u001b[39;00m ops\n",
      "File \u001b[1;32mc:\\Users\\Mattias\\anaconda3\\envs\\classifier_env\\lib\\site-packages\\tensorflow\\python\\data\\util\\nest.py:36\u001b[0m\n\u001b[0;32m     16\u001b[0m \u001b[38;5;124;03m\"\"\"## Functions for working with arbitrarily nested sequences of elements.\u001b[39;00m\n\u001b[0;32m     17\u001b[0m \n\u001b[0;32m     18\u001b[0m \u001b[38;5;124;03mNOTE(mrry): This fork of the `tensorflow.python.util.nest` module\u001b[39;00m\n\u001b[1;32m   (...)\u001b[0m\n\u001b[0;32m     31\u001b[0m \u001b[38;5;124;03m   arrays.\u001b[39;00m\n\u001b[0;32m     32\u001b[0m \u001b[38;5;124;03m\"\"\"\u001b[39;00m\n\u001b[0;32m     34\u001b[0m \u001b[38;5;28;01mimport\u001b[39;00m\u001b[38;5;250m \u001b[39m\u001b[38;5;21;01msix\u001b[39;00m\u001b[38;5;250m \u001b[39m\u001b[38;5;28;01mas\u001b[39;00m\u001b[38;5;250m \u001b[39m\u001b[38;5;21;01m_six\u001b[39;00m\n\u001b[1;32m---> 36\u001b[0m \u001b[38;5;28;01mfrom\u001b[39;00m\u001b[38;5;250m \u001b[39m\u001b[38;5;21;01mtensorflow\u001b[39;00m\u001b[38;5;21;01m.\u001b[39;00m\u001b[38;5;21;01mpython\u001b[39;00m\u001b[38;5;21;01m.\u001b[39;00m\u001b[38;5;21;01mframework\u001b[39;00m\u001b[38;5;250m \u001b[39m\u001b[38;5;28;01mimport\u001b[39;00m sparse_tensor \u001b[38;5;28;01mas\u001b[39;00m _sparse_tensor\n\u001b[0;32m     37\u001b[0m \u001b[38;5;28;01mfrom\u001b[39;00m\u001b[38;5;250m \u001b[39m\u001b[38;5;21;01mtensorflow\u001b[39;00m\u001b[38;5;21;01m.\u001b[39;00m\u001b[38;5;21;01mpython\u001b[39;00m\u001b[38;5;21;01m.\u001b[39;00m\u001b[38;5;21;01mutil\u001b[39;00m\u001b[38;5;250m \u001b[39m\u001b[38;5;28;01mimport\u001b[39;00m _pywrap_utils\n\u001b[0;32m     38\u001b[0m \u001b[38;5;28;01mfrom\u001b[39;00m\u001b[38;5;250m \u001b[39m\u001b[38;5;21;01mtensorflow\u001b[39;00m\u001b[38;5;21;01m.\u001b[39;00m\u001b[38;5;21;01mpython\u001b[39;00m\u001b[38;5;21;01m.\u001b[39;00m\u001b[38;5;21;01mutil\u001b[39;00m\u001b[38;5;250m \u001b[39m\u001b[38;5;28;01mimport\u001b[39;00m nest\n",
      "File \u001b[1;32mc:\\Users\\Mattias\\anaconda3\\envs\\classifier_env\\lib\\site-packages\\tensorflow\\python\\framework\\sparse_tensor.py:24\u001b[0m\n\u001b[0;32m     22\u001b[0m \u001b[38;5;28;01mfrom\u001b[39;00m\u001b[38;5;250m \u001b[39m\u001b[38;5;21;01mtensorflow\u001b[39;00m\u001b[38;5;21;01m.\u001b[39;00m\u001b[38;5;21;01mpython\u001b[39;00m\u001b[38;5;250m \u001b[39m\u001b[38;5;28;01mimport\u001b[39;00m tf2\n\u001b[0;32m     23\u001b[0m \u001b[38;5;28;01mfrom\u001b[39;00m\u001b[38;5;250m \u001b[39m\u001b[38;5;21;01mtensorflow\u001b[39;00m\u001b[38;5;21;01m.\u001b[39;00m\u001b[38;5;21;01mpython\u001b[39;00m\u001b[38;5;21;01m.\u001b[39;00m\u001b[38;5;21;01mframework\u001b[39;00m\u001b[38;5;250m \u001b[39m\u001b[38;5;28;01mimport\u001b[39;00m composite_tensor\n\u001b[1;32m---> 24\u001b[0m \u001b[38;5;28;01mfrom\u001b[39;00m\u001b[38;5;250m \u001b[39m\u001b[38;5;21;01mtensorflow\u001b[39;00m\u001b[38;5;21;01m.\u001b[39;00m\u001b[38;5;21;01mpython\u001b[39;00m\u001b[38;5;21;01m.\u001b[39;00m\u001b[38;5;21;01mframework\u001b[39;00m\u001b[38;5;250m \u001b[39m\u001b[38;5;28;01mimport\u001b[39;00m constant_op\n\u001b[0;32m     25\u001b[0m \u001b[38;5;28;01mfrom\u001b[39;00m\u001b[38;5;250m \u001b[39m\u001b[38;5;21;01mtensorflow\u001b[39;00m\u001b[38;5;21;01m.\u001b[39;00m\u001b[38;5;21;01mpython\u001b[39;00m\u001b[38;5;21;01m.\u001b[39;00m\u001b[38;5;21;01mframework\u001b[39;00m\u001b[38;5;250m \u001b[39m\u001b[38;5;28;01mimport\u001b[39;00m dtypes\n\u001b[0;32m     26\u001b[0m \u001b[38;5;28;01mfrom\u001b[39;00m\u001b[38;5;250m \u001b[39m\u001b[38;5;21;01mtensorflow\u001b[39;00m\u001b[38;5;21;01m.\u001b[39;00m\u001b[38;5;21;01mpython\u001b[39;00m\u001b[38;5;21;01m.\u001b[39;00m\u001b[38;5;21;01mframework\u001b[39;00m\u001b[38;5;250m \u001b[39m\u001b[38;5;28;01mimport\u001b[39;00m ops\n",
      "File \u001b[1;32mc:\\Users\\Mattias\\anaconda3\\envs\\classifier_env\\lib\\site-packages\\tensorflow\\python\\framework\\constant_op.py:25\u001b[0m\n\u001b[0;32m     23\u001b[0m \u001b[38;5;28;01mfrom\u001b[39;00m\u001b[38;5;250m \u001b[39m\u001b[38;5;21;01mtensorflow\u001b[39;00m\u001b[38;5;21;01m.\u001b[39;00m\u001b[38;5;21;01mcore\u001b[39;00m\u001b[38;5;21;01m.\u001b[39;00m\u001b[38;5;21;01mframework\u001b[39;00m\u001b[38;5;250m \u001b[39m\u001b[38;5;28;01mimport\u001b[39;00m types_pb2\n\u001b[0;32m     24\u001b[0m \u001b[38;5;28;01mfrom\u001b[39;00m\u001b[38;5;250m \u001b[39m\u001b[38;5;21;01mtensorflow\u001b[39;00m\u001b[38;5;21;01m.\u001b[39;00m\u001b[38;5;21;01mpython\u001b[39;00m\u001b[38;5;21;01m.\u001b[39;00m\u001b[38;5;21;01meager\u001b[39;00m\u001b[38;5;250m \u001b[39m\u001b[38;5;28;01mimport\u001b[39;00m context\n\u001b[1;32m---> 25\u001b[0m \u001b[38;5;28;01mfrom\u001b[39;00m\u001b[38;5;250m \u001b[39m\u001b[38;5;21;01mtensorflow\u001b[39;00m\u001b[38;5;21;01m.\u001b[39;00m\u001b[38;5;21;01mpython\u001b[39;00m\u001b[38;5;21;01m.\u001b[39;00m\u001b[38;5;21;01meager\u001b[39;00m\u001b[38;5;250m \u001b[39m\u001b[38;5;28;01mimport\u001b[39;00m execute\n\u001b[0;32m     26\u001b[0m \u001b[38;5;28;01mfrom\u001b[39;00m\u001b[38;5;250m \u001b[39m\u001b[38;5;21;01mtensorflow\u001b[39;00m\u001b[38;5;21;01m.\u001b[39;00m\u001b[38;5;21;01mpython\u001b[39;00m\u001b[38;5;21;01m.\u001b[39;00m\u001b[38;5;21;01mframework\u001b[39;00m\u001b[38;5;250m \u001b[39m\u001b[38;5;28;01mimport\u001b[39;00m dtypes\n\u001b[0;32m     27\u001b[0m \u001b[38;5;28;01mfrom\u001b[39;00m\u001b[38;5;250m \u001b[39m\u001b[38;5;21;01mtensorflow\u001b[39;00m\u001b[38;5;21;01m.\u001b[39;00m\u001b[38;5;21;01mpython\u001b[39;00m\u001b[38;5;21;01m.\u001b[39;00m\u001b[38;5;21;01mframework\u001b[39;00m\u001b[38;5;250m \u001b[39m\u001b[38;5;28;01mimport\u001b[39;00m op_callbacks\n",
      "File \u001b[1;32mc:\\Users\\Mattias\\anaconda3\\envs\\classifier_env\\lib\\site-packages\\tensorflow\\python\\eager\\execute.py:23\u001b[0m\n\u001b[0;32m     21\u001b[0m \u001b[38;5;28;01mfrom\u001b[39;00m\u001b[38;5;250m \u001b[39m\u001b[38;5;21;01mtensorflow\u001b[39;00m\u001b[38;5;21;01m.\u001b[39;00m\u001b[38;5;21;01mpython\u001b[39;00m\u001b[38;5;250m \u001b[39m\u001b[38;5;28;01mimport\u001b[39;00m pywrap_tfe\n\u001b[0;32m     22\u001b[0m \u001b[38;5;28;01mfrom\u001b[39;00m\u001b[38;5;250m \u001b[39m\u001b[38;5;21;01mtensorflow\u001b[39;00m\u001b[38;5;21;01m.\u001b[39;00m\u001b[38;5;21;01mpython\u001b[39;00m\u001b[38;5;21;01m.\u001b[39;00m\u001b[38;5;21;01meager\u001b[39;00m\u001b[38;5;250m \u001b[39m\u001b[38;5;28;01mimport\u001b[39;00m core\n\u001b[1;32m---> 23\u001b[0m \u001b[38;5;28;01mfrom\u001b[39;00m\u001b[38;5;250m \u001b[39m\u001b[38;5;21;01mtensorflow\u001b[39;00m\u001b[38;5;21;01m.\u001b[39;00m\u001b[38;5;21;01mpython\u001b[39;00m\u001b[38;5;21;01m.\u001b[39;00m\u001b[38;5;21;01mframework\u001b[39;00m\u001b[38;5;250m \u001b[39m\u001b[38;5;28;01mimport\u001b[39;00m dtypes\n\u001b[0;32m     24\u001b[0m \u001b[38;5;28;01mfrom\u001b[39;00m\u001b[38;5;250m \u001b[39m\u001b[38;5;21;01mtensorflow\u001b[39;00m\u001b[38;5;21;01m.\u001b[39;00m\u001b[38;5;21;01mpython\u001b[39;00m\u001b[38;5;21;01m.\u001b[39;00m\u001b[38;5;21;01mframework\u001b[39;00m\u001b[38;5;250m \u001b[39m\u001b[38;5;28;01mimport\u001b[39;00m ops\n\u001b[0;32m     25\u001b[0m \u001b[38;5;28;01mfrom\u001b[39;00m\u001b[38;5;250m \u001b[39m\u001b[38;5;21;01mtensorflow\u001b[39;00m\u001b[38;5;21;01m.\u001b[39;00m\u001b[38;5;21;01mpython\u001b[39;00m\u001b[38;5;21;01m.\u001b[39;00m\u001b[38;5;21;01mframework\u001b[39;00m\u001b[38;5;250m \u001b[39m\u001b[38;5;28;01mimport\u001b[39;00m tensor_shape\n",
      "File \u001b[1;32mc:\\Users\\Mattias\\anaconda3\\envs\\classifier_env\\lib\\site-packages\\tensorflow\\python\\framework\\dtypes.py:34\u001b[0m\n\u001b[0;32m     31\u001b[0m \u001b[38;5;28;01mfrom\u001b[39;00m\u001b[38;5;250m \u001b[39m\u001b[38;5;21;01mtensorflow\u001b[39;00m\u001b[38;5;21;01m.\u001b[39;00m\u001b[38;5;21;01mpython\u001b[39;00m\u001b[38;5;21;01m.\u001b[39;00m\u001b[38;5;21;01mtypes\u001b[39;00m\u001b[38;5;250m \u001b[39m\u001b[38;5;28;01mimport\u001b[39;00m trace\n\u001b[0;32m     32\u001b[0m \u001b[38;5;28;01mfrom\u001b[39;00m\u001b[38;5;250m \u001b[39m\u001b[38;5;21;01mtensorflow\u001b[39;00m\u001b[38;5;21;01m.\u001b[39;00m\u001b[38;5;21;01mcore\u001b[39;00m\u001b[38;5;21;01m.\u001b[39;00m\u001b[38;5;21;01mfunction\u001b[39;00m\u001b[38;5;250m \u001b[39m\u001b[38;5;28;01mimport\u001b[39;00m trace_type\n\u001b[1;32m---> 34\u001b[0m _np_bfloat16 \u001b[38;5;241m=\u001b[39m \u001b[43m_pywrap_bfloat16\u001b[49m\u001b[38;5;241;43m.\u001b[39;49m\u001b[43mTF_bfloat16_type\u001b[49m\u001b[43m(\u001b[49m\u001b[43m)\u001b[49m\n\u001b[0;32m     37\u001b[0m \u001b[38;5;28;01mclass\u001b[39;00m\u001b[38;5;250m \u001b[39m\u001b[38;5;21;01mDTypeMeta\u001b[39;00m(\u001b[38;5;28mtype\u001b[39m(_dtypes\u001b[38;5;241m.\u001b[39mDType), abc\u001b[38;5;241m.\u001b[39mABCMeta):\n\u001b[0;32m     38\u001b[0m   \u001b[38;5;28;01mpass\u001b[39;00m\n",
      "\u001b[1;31mTypeError\u001b[0m: Unable to convert function return value to a Python type! The signature was\n\t() -> handle"
     ]
    }
   ],
   "source": [
    "import tensorflow as tf\n",
    "print(tf.config.list_physical_devices('GPU'))"
   ]
  },
  {
   "cell_type": "code",
   "execution_count": 32,
   "metadata": {},
   "outputs": [
    {
     "data": {
      "image/png": "[encoded data removed]",
      "text/plain": [
       "<Figure size 500x500 with 1 Axes>"
      ]
     },
     "metadata": {},
     "output_type": "display_data"
    }
   ],
   "source": [
    "import matplotlib.pyplot as plt\n",
    "import seaborn as sns\n",
    "\n",
    "sns.displot(height, kind=\"kde\")\n",
    "\n",
    "plt.show()"
   ]
  },
  {
   "cell_type": "code",
   "execution_count": 33,
   "metadata": {},
   "outputs": [
    {
     "data": {
      "image/png": "[encoded data removed]",
      "text/plain": [
       "<Figure size 500x500 with 1 Axes>"
      ]
     },
     "metadata": {},
     "output_type": "display_data"
    }
   ],
   "source": [
    "import matplotlib.pyplot as plt\n",
    "import seaborn as sns\n",
    "\n",
    "sns.displot(width, kind=\"kde\")\n",
    "\n",
    "plt.show()"
   ]
  }
 ],
 "metadata": {
  "kernelspec": {
   "display_name": "classifier_env",
   "language": "python",
   "name": "python3"
  },
  "language_info": {
   "codemirror_mode": {
    "name": "ipython",
    "version": 3
   },
   "file_extension": ".py",
   "mimetype": "text/x-python",
   "name": "python",
   "nbconvert_exporter": "python",
   "pygments_lexer": "ipython3",
   "version": "3.10.17"
  }
 },
 "nbformat": 4,
 "nbformat_minor": 2
}
