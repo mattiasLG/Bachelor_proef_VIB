{
 "cells": [
  {
   "cell_type": "code",
   "execution_count": 1,
   "metadata": {},
   "outputs": [
    {
     "name": "stderr",
     "output_type": "stream",
     "text": [
      "c:\\Users\\matti\\.conda\\envs\\ilastik_napari_182\\Lib\\site-packages\\dask\\dataframe\\__init__.py:31: FutureWarning: The legacy Dask DataFrame implementation is deprecated and will be removed in a future version. Set the configuration option `dataframe.query-planning` to `True` or None to enable the new Dask Dataframe implementation and silence this warning.\n",
      "  warnings.warn(\n"
     ]
    }
   ],
   "source": [
    "from dask_image.imread import imread\n",
    "import dask.array as da\n",
    "import os\n",
    "import numpy as np\n",
    "import joblib\n",
    "import dask  # Import Dask first\n",
    "dask.config.set({'dataframe.query-planning': False})  # Disable query-planning\n",
    "\n",
    "import dask.dataframe as dd  # Now import dask.dataframe\n",
    "import pandas as pd\n",
    "import dask.dataframe as dd\n",
    "from spatialdata import read_zarr"
   ]
  },
  {
   "cell_type": "code",
   "execution_count": 2,
   "metadata": {},
   "outputs": [
    {
     "name": "stderr",
     "output_type": "stream",
     "text": [
      "c:\\Users\\matti\\.conda\\envs\\ilastik_napari_182\\Lib\\site-packages\\zarr\\creation.py:614: UserWarning: ignoring keyword argument 'read_only'\n",
      "  compressor, fill_value = _kwargs_compat(compressor, fill_value, kwargs)\n"
     ]
    },
    {
     "data": {
      "text/plain": [
       "SpatialData object, with associated Zarr store: C:\\Users\\matti\\Documents\\HOGENT\\Jaar-3\\bachproef\\Bachelor_proef_VIB\\Testdata_MACSima\\Testdata_CA.zarr\n",
       "├── Images\n",
       "│     ├── 'channel_0': DataArray[cyx] (1, 4500, 7000)\n",
       "│     ├── 'channel_1': DataArray[cyx] (1, 4500, 7000)\n",
       "│     ├── 'channel_2': DataArray[cyx] (1, 4500, 7000)\n",
       "│     ├── 'channel_3': DataArray[cyx] (1, 4500, 7000)\n",
       "│     ├── 'channel_4': DataArray[cyx] (1, 4500, 7000)\n",
       "│     ├── 'channel_5': DataArray[cyx] (1, 4500, 7000)\n",
       "│     ├── 'channel_6': DataArray[cyx] (1, 4500, 7000)\n",
       "│     ├── 'channel_7': DataArray[cyx] (1, 4500, 7000)\n",
       "│     ├── 'channel_8': DataArray[cyx] (1, 4500, 7000)\n",
       "│     ├── 'channel_9': DataArray[cyx] (1, 4500, 7000)\n",
       "│     ├── 'channel_10': DataArray[cyx] (1, 4500, 7000)\n",
       "│     ├── 'channel_11': DataArray[cyx] (1, 4500, 7000)\n",
       "│     ├── 'channel_12': DataArray[cyx] (1, 4500, 7000)\n",
       "│     ├── 'channel_13': DataArray[cyx] (1, 4500, 7000)\n",
       "│     ├── 'channel_14': DataArray[cyx] (1, 4500, 7000)\n",
       "│     ├── 'channel_15': DataArray[cyx] (1, 4500, 7000)\n",
       "│     ├── 'channel_16': DataArray[cyx] (1, 4500, 7000)\n",
       "│     ├── 'channel_17': DataArray[cyx] (1, 4500, 7000)\n",
       "│     ├── 'channel_18': DataArray[cyx] (1, 4500, 7000)\n",
       "│     ├── 'channel_19': DataArray[cyx] (1, 4500, 7000)\n",
       "│     ├── 'channel_20': DataArray[cyx] (1, 4500, 7000)\n",
       "│     ├── 'channel_21': DataArray[cyx] (1, 4500, 7000)\n",
       "│     ├── 'channel_22': DataArray[cyx] (1, 4500, 7000)\n",
       "│     ├── 'channel_23': DataArray[cyx] (1, 4500, 7000)\n",
       "│     ├── 'channel_24': DataArray[cyx] (1, 4500, 7000)\n",
       "│     ├── 'channel_25': DataArray[cyx] (1, 4500, 7000)\n",
       "│     ├── 'channel_26': DataArray[cyx] (1, 4500, 7000)\n",
       "│     ├── 'channel_27': DataArray[cyx] (1, 4500, 7000)\n",
       "│     ├── 'channel_28': DataArray[cyx] (1, 4500, 7000)\n",
       "│     ├── 'channel_29': DataArray[cyx] (1, 4500, 7000)\n",
       "│     ├── 'channel_30': DataArray[cyx] (1, 4500, 7000)\n",
       "│     ├── 'channel_31': DataArray[cyx] (1, 4500, 7000)\n",
       "│     ├── 'channel_32': DataArray[cyx] (1, 4500, 7000)\n",
       "│     ├── 'channel_33': DataArray[cyx] (1, 4500, 7000)\n",
       "│     ├── 'channel_34': DataArray[cyx] (1, 4500, 7000)\n",
       "│     ├── 'channel_35': DataArray[cyx] (1, 4500, 7000)\n",
       "│     ├── 'channel_36': DataArray[cyx] (1, 4500, 7000)\n",
       "│     ├── 'channel_37': DataArray[cyx] (1, 4500, 7000)\n",
       "│     ├── 'channel_38': DataArray[cyx] (1, 4500, 7000)\n",
       "│     ├── 'channel_39': DataArray[cyx] (1, 4500, 7000)\n",
       "│     ├── 'channel_40': DataArray[cyx] (1, 4500, 7000)\n",
       "│     ├── 'channel_41': DataArray[cyx] (1, 4500, 7000)\n",
       "│     ├── 'channel_42': DataArray[cyx] (1, 4500, 7000)\n",
       "│     ├── 'channel_43': DataArray[cyx] (1, 4500, 7000)\n",
       "│     ├── 'channel_44': DataArray[cyx] (1, 4500, 7000)\n",
       "│     ├── 'channel_45': DataArray[cyx] (1, 4500, 7000)\n",
       "│     ├── 'channel_46': DataArray[cyx] (1, 4500, 7000)\n",
       "│     ├── 'channel_47': DataArray[cyx] (1, 4500, 7000)\n",
       "│     ├── 'channel_48': DataArray[cyx] (1, 4500, 7000)\n",
       "│     ├── 'channel_49': DataArray[cyx] (1, 4500, 7000)\n",
       "│     ├── 'channel_50': DataArray[cyx] (1, 4500, 7000)\n",
       "│     ├── 'channel_51': DataArray[cyx] (1, 4500, 7000)\n",
       "│     ├── 'channel_52': DataArray[cyx] (1, 4500, 7000)\n",
       "│     ├── 'channel_53': DataArray[cyx] (1, 4500, 7000)\n",
       "│     ├── 'channel_54': DataArray[cyx] (1, 4500, 7000)\n",
       "│     ├── 'channel_55': DataArray[cyx] (1, 4500, 7000)\n",
       "│     ├── 'channel_56': DataArray[cyx] (1, 4500, 7000)\n",
       "│     ├── 'channel_57': DataArray[cyx] (1, 4500, 7000)\n",
       "│     ├── 'channel_58': DataArray[cyx] (1, 4500, 7000)\n",
       "│     ├── 'channel_59': DataArray[cyx] (1, 4500, 7000)\n",
       "│     ├── 'channel_60': DataArray[cyx] (1, 4500, 7000)\n",
       "│     ├── 'channel_61': DataArray[cyx] (1, 4500, 7000)\n",
       "│     ├── 'channel_62': DataArray[cyx] (1, 4500, 7000)\n",
       "│     ├── 'channel_63': DataArray[cyx] (1, 4500, 7000)\n",
       "│     ├── 'channel_64': DataArray[cyx] (1, 4500, 7000)\n",
       "│     ├── 'channel_65': DataArray[cyx] (1, 4500, 7000)\n",
       "│     ├── 'channel_66': DataArray[cyx] (1, 4500, 7000)\n",
       "│     ├── 'channel_67': DataArray[cyx] (1, 4500, 7000)\n",
       "│     ├── 'channel_68': DataArray[cyx] (1, 4500, 7000)\n",
       "│     ├── 'channel_69': DataArray[cyx] (1, 4500, 7000)\n",
       "│     ├── 'channel_70': DataArray[cyx] (1, 4500, 7000)\n",
       "│     ├── 'channel_71': DataArray[cyx] (1, 4500, 7000)\n",
       "│     ├── 'channel_72': DataArray[cyx] (1, 4500, 7000)\n",
       "│     ├── 'channel_73': DataArray[cyx] (1, 4500, 7000)\n",
       "│     ├── 'channel_74': DataArray[cyx] (1, 4500, 7000)\n",
       "│     ├── 'channel_75': DataArray[cyx] (1, 4500, 7000)\n",
       "│     ├── 'channel_76': DataArray[cyx] (1, 4500, 7000)\n",
       "│     ├── 'channel_77': DataArray[cyx] (1, 4500, 7000)\n",
       "│     ├── 'channel_78': DataArray[cyx] (1, 4500, 7000)\n",
       "│     ├── 'channel_79': DataArray[cyx] (1, 4500, 7000)\n",
       "│     ├── 'channel_80': DataArray[cyx] (1, 4500, 7000)\n",
       "│     ├── 'channel_81': DataArray[cyx] (1, 4500, 7000)\n",
       "│     ├── 'channel_82': DataArray[cyx] (1, 4500, 7000)\n",
       "│     ├── 'channel_83': DataArray[cyx] (1, 4500, 7000)\n",
       "│     ├── 'channel_84': DataArray[cyx] (1, 4500, 7000)\n",
       "│     ├── 'channel_85': DataArray[cyx] (1, 4500, 7000)\n",
       "│     ├── 'channel_86': DataArray[cyx] (1, 4500, 7000)\n",
       "│     ├── 'channel_87': DataArray[cyx] (1, 4500, 7000)\n",
       "│     ├── 'channel_88': DataArray[cyx] (1, 4500, 7000)\n",
       "│     ├── 'channel_89': DataArray[cyx] (1, 4500, 7000)\n",
       "│     ├── 'channel_90': DataArray[cyx] (1, 4500, 7000)\n",
       "│     ├── 'channel_91': DataArray[cyx] (1, 4500, 7000)\n",
       "│     ├── 'channel_92': DataArray[cyx] (1, 4500, 7000)\n",
       "│     ├── 'channel_93': DataArray[cyx] (1, 4500, 7000)\n",
       "│     ├── 'channel_94': DataArray[cyx] (1, 4500, 7000)\n",
       "│     ├── 'channel_95': DataArray[cyx] (1, 4500, 7000)\n",
       "│     ├── 'channel_96': DataArray[cyx] (1, 4500, 7000)\n",
       "│     ├── 'channel_97': DataArray[cyx] (1, 4500, 7000)\n",
       "│     ├── 'channel_98': DataArray[cyx] (1, 4500, 7000)\n",
       "│     ├── 'channel_99': DataArray[cyx] (1, 4500, 7000)\n",
       "│     ├── 'channel_100': DataArray[cyx] (1, 4500, 7000)\n",
       "│     ├── 'channel_101': DataArray[cyx] (1, 4500, 7000)\n",
       "│     ├── 'channel_102': DataArray[cyx] (1, 4500, 7000)\n",
       "│     ├── 'channel_103': DataArray[cyx] (1, 4500, 7000)\n",
       "│     ├── 'channel_104': DataArray[cyx] (1, 4500, 7000)\n",
       "│     ├── 'channel_105': DataArray[cyx] (1, 4500, 7000)\n",
       "│     ├── 'channel_106': DataArray[cyx] (1, 4500, 7000)\n",
       "│     ├── 'channel_107': DataArray[cyx] (1, 4500, 7000)\n",
       "│     ├── 'channel_108': DataArray[cyx] (1, 4500, 7000)\n",
       "│     ├── 'channel_109': DataArray[cyx] (1, 4500, 7000)\n",
       "│     ├── 'channel_110': DataArray[cyx] (1, 4500, 7000)\n",
       "│     ├── 'channel_111': DataArray[cyx] (1, 4500, 7000)\n",
       "│     ├── 'channel_112': DataArray[cyx] (1, 4500, 7000)\n",
       "│     ├── 'channel_113': DataArray[cyx] (1, 4500, 7000)\n",
       "│     ├── 'channel_114': DataArray[cyx] (1, 4500, 7000)\n",
       "│     ├── 'channel_115': DataArray[cyx] (1, 4500, 7000)\n",
       "│     ├── 'channel_116': DataArray[cyx] (1, 4500, 7000)\n",
       "│     ├── 'channel_117': DataArray[cyx] (1, 4500, 7000)\n",
       "│     ├── 'channel_118': DataArray[cyx] (1, 4500, 7000)\n",
       "│     ├── 'channel_119': DataArray[cyx] (1, 4500, 7000)\n",
       "│     ├── 'channel_120': DataArray[cyx] (1, 4500, 7000)\n",
       "│     ├── 'channel_121': DataArray[cyx] (1, 4500, 7000)\n",
       "│     ├── 'channel_122': DataArray[cyx] (1, 4500, 7000)\n",
       "│     ├── 'channel_123': DataArray[cyx] (1, 4500, 7000)\n",
       "│     ├── 'channel_124': DataArray[cyx] (1, 4500, 7000)\n",
       "│     ├── 'channel_125': DataArray[cyx] (1, 4500, 7000)\n",
       "│     ├── 'channel_126': DataArray[cyx] (1, 4500, 7000)\n",
       "│     ├── 'channel_127': DataArray[cyx] (1, 4500, 7000)\n",
       "│     ├── 'channel_128': DataArray[cyx] (1, 4500, 7000)\n",
       "│     ├── 'channel_129': DataArray[cyx] (1, 4500, 7000)\n",
       "│     ├── 'channel_130': DataArray[cyx] (1, 4500, 7000)\n",
       "│     ├── 'channel_131': DataArray[cyx] (1, 4500, 7000)\n",
       "│     ├── 'channel_132': DataArray[cyx] (1, 4500, 7000)\n",
       "│     ├── 'channel_133': DataArray[cyx] (1, 4500, 7000)\n",
       "│     ├── 'channel_134': DataArray[cyx] (1, 4500, 7000)\n",
       "│     ├── 'channel_135': DataArray[cyx] (1, 4500, 7000)\n",
       "│     ├── 'channel_136': DataArray[cyx] (1, 4500, 7000)\n",
       "│     ├── 'channel_137': DataArray[cyx] (1, 4500, 7000)\n",
       "│     ├── 'channel_138': DataArray[cyx] (1, 4500, 7000)\n",
       "│     ├── 'channel_139': DataArray[cyx] (1, 4500, 7000)\n",
       "│     ├── 'channel_140': DataArray[cyx] (1, 4500, 7000)\n",
       "│     ├── 'channel_141': DataArray[cyx] (1, 4500, 7000)\n",
       "│     ├── 'channel_142': DataArray[cyx] (1, 4500, 7000)\n",
       "│     ├── 'channel_143': DataArray[cyx] (1, 4500, 7000)\n",
       "│     ├── 'channel_144': DataArray[cyx] (1, 4500, 7000)\n",
       "│     ├── 'channel_145': DataArray[cyx] (1, 4500, 7000)\n",
       "│     ├── 'channel_146': DataArray[cyx] (1, 4500, 7000)\n",
       "│     ├── 'channel_147': DataArray[cyx] (1, 4500, 7000)\n",
       "│     ├── 'channel_148': DataArray[cyx] (1, 4500, 7000)\n",
       "│     ├── 'channel_149': DataArray[cyx] (1, 4500, 7000)\n",
       "│     ├── 'channel_150': DataArray[cyx] (1, 4500, 7000)\n",
       "│     ├── 'channel_151': DataArray[cyx] (1, 4500, 7000)\n",
       "│     └── 'channel_152': DataArray[cyx] (1, 4500, 7000)\n",
       "└── Labels\n",
       "      └── 'labels': DataArray[yx] (4500, 7000)\n",
       "with coordinate systems:\n",
       "    ▸ 'global', with elements:\n",
       "        channel_0 (Images), channel_1 (Images), channel_2 (Images), channel_3 (Images), channel_4 (Images), channel_5 (Images), channel_6 (Images), channel_7 (Images), channel_8 (Images), channel_9 (Images), channel_10 (Images), channel_11 (Images), channel_12 (Images), channel_13 (Images), channel_14 (Images), channel_15 (Images), channel_16 (Images), channel_17 (Images), channel_18 (Images), channel_19 (Images), channel_20 (Images), channel_21 (Images), channel_22 (Images), channel_23 (Images), channel_24 (Images), channel_25 (Images), channel_26 (Images), channel_27 (Images), channel_28 (Images), channel_29 (Images), channel_30 (Images), channel_31 (Images), channel_32 (Images), channel_33 (Images), channel_34 (Images), channel_35 (Images), channel_36 (Images), channel_37 (Images), channel_38 (Images), channel_39 (Images), channel_40 (Images), channel_41 (Images), channel_42 (Images), channel_43 (Images), channel_44 (Images), channel_45 (Images), channel_46 (Images), channel_47 (Images), channel_48 (Images), channel_49 (Images), channel_50 (Images), channel_51 (Images), channel_52 (Images), channel_53 (Images), channel_54 (Images), channel_55 (Images), channel_56 (Images), channel_57 (Images), channel_58 (Images), channel_59 (Images), channel_60 (Images), channel_61 (Images), channel_62 (Images), channel_63 (Images), channel_64 (Images), channel_65 (Images), channel_66 (Images), channel_67 (Images), channel_68 (Images), channel_69 (Images), channel_70 (Images), channel_71 (Images), channel_72 (Images), channel_73 (Images), channel_74 (Images), channel_75 (Images), channel_76 (Images), channel_77 (Images), channel_78 (Images), channel_79 (Images), channel_80 (Images), channel_81 (Images), channel_82 (Images), channel_83 (Images), channel_84 (Images), channel_85 (Images), channel_86 (Images), channel_87 (Images), channel_88 (Images), channel_89 (Images), channel_90 (Images), channel_91 (Images), channel_92 (Images), channel_93 (Images), channel_94 (Images), channel_95 (Images), channel_96 (Images), channel_97 (Images), channel_98 (Images), channel_99 (Images), channel_100 (Images), channel_101 (Images), channel_102 (Images), channel_103 (Images), channel_104 (Images), channel_105 (Images), channel_106 (Images), channel_107 (Images), channel_108 (Images), channel_109 (Images), channel_110 (Images), channel_111 (Images), channel_112 (Images), channel_113 (Images), channel_114 (Images), channel_115 (Images), channel_116 (Images), channel_117 (Images), channel_118 (Images), channel_119 (Images), channel_120 (Images), channel_121 (Images), channel_122 (Images), channel_123 (Images), channel_124 (Images), channel_125 (Images), channel_126 (Images), channel_127 (Images), channel_128 (Images), channel_129 (Images), channel_130 (Images), channel_131 (Images), channel_132 (Images), channel_133 (Images), channel_134 (Images), channel_135 (Images), channel_136 (Images), channel_137 (Images), channel_138 (Images), channel_139 (Images), channel_140 (Images), channel_141 (Images), channel_142 (Images), channel_143 (Images), channel_144 (Images), channel_145 (Images), channel_146 (Images), channel_147 (Images), channel_148 (Images), channel_149 (Images), channel_150 (Images), channel_151 (Images), channel_152 (Images), labels (Labels)"
      ]
     },
     "execution_count": 2,
     "metadata": {},
     "output_type": "execute_result"
    }
   ],
   "source": [
    "sdata = read_zarr(r\"C:\\Users\\matti\\Documents\\HOGENT\\Jaar-3\\bachproef\\Bachelor_proef_VIB\\Testdata_MACSima\\Testdata_CA.zarr\")\n",
    "\n",
    "sdata"
   ]
  },
  {
   "cell_type": "code",
   "execution_count": 3,
   "metadata": {},
   "outputs": [
    {
     "data": {
      "text/plain": [
       "array([], dtype=float64)"
      ]
     },
     "execution_count": 3,
     "metadata": {},
     "output_type": "execute_result"
    }
   ],
   "source": [
    "def image_splitter(array:np.ndarray, image_slice_size=512, stride=64, is_labels=False):\n",
    "    shape = array.shape\n",
    "    images = []\n",
    "    for i in range(shape[0]-image_slice_size, stride):\n",
    "        for j in range(shape[1]-image_slice_size, stride):\n",
    "            if is_labels:\n",
    "                images.append(array[i:i+image_slice_size, j:j+image_slice_size]//255)\n",
    "            else:\n",
    "                images.append(array[i:i+image_slice_size, j:j+image_slice_size]/255)\n",
    "\n",
    "    return np.array(images)\n",
    "\n",
    "image_splitter(sdata['channel_0'].data.squeeze())"
   ]
  },
  {
   "cell_type": "code",
   "execution_count": 4,
   "metadata": {},
   "outputs": [
    {
     "name": "stdout",
     "output_type": "stream",
     "text": [
      "4500 7000\n",
      "17\n",
      "27\n",
      "16\n"
     ]
    },
    {
     "data": {
      "text/plain": [
       "416"
      ]
     },
     "execution_count": 4,
     "metadata": {},
     "output_type": "execute_result"
    }
   ],
   "source": [
    "def extract_patches(array:np.ndarray, patch_size=512, stride=64):\n",
    "    patches = []\n",
    "    h, w = array.shape\n",
    "    print(h,w)\n",
    "    print(h//stride)\n",
    "    print(w//stride)\n",
    "\n",
    "    count_x = 0\n",
    "\n",
    "    for i in range(0, h - patch_size, stride):\n",
    "        count_x+=1\n",
    "        for j in range(0, w - patch_size, stride):\n",
    "            img_patch = array[i:i+patch_size, j:j+patch_size]\n",
    "\n",
    "            patches.append(img_patch)\n",
    "\n",
    "    print(count_x)\n",
    "    return np.array(patches)\n",
    "\n",
    "X = extract_patches(sdata['channel_0'].data.squeeze(), patch_size=512, stride=256)\n",
    "len(X)"
   ]
  },
  {
   "cell_type": "code",
   "execution_count": 6,
   "metadata": {},
   "outputs": [],
   "source": [
    "import tensorflow as tf\n",
    "from tensorflow.keras.layers import Conv2D, MaxPooling2D, Conv2DTranspose, concatenate, Input, Dropout\n",
    "from tensorflow.keras.models import Model\n"
   ]
  },
  {
   "cell_type": "code",
   "execution_count": 7,
   "metadata": {},
   "outputs": [],
   "source": [
    "def unet_model_smaller(input_size=(512, 512, 1)):\n",
    "    inputs = Input(input_size)\n",
    "\n",
    "    # Encoder\n",
    "    c1 = Conv2D(64, (3, 3), activation='relu', padding='same')(inputs)\n",
    "    c1 = Conv2D(64, (3, 3), activation='relu', padding='same')(c1)\n",
    "    p1 = MaxPooling2D((2, 2))(c1)\n",
    "\n",
    "    c2 = Conv2D(128, (3, 3), activation='relu', padding='same')(p1)\n",
    "    c2 = Conv2D(128, (3, 3), activation='relu', padding='same')(c2)\n",
    "    p2 = MaxPooling2D((2, 2))(c2)\n",
    "\n",
    "    c3 = Conv2D(256, (3, 3), activation='relu', padding='same')(p2)\n",
    "    c3 = Conv2D(256, (3, 3), activation='relu', padding='same')(c3)\n",
    "\n",
    "    # Decoder\n",
    "    u4 = Conv2DTranspose(128, (2, 2), strides=(2, 2), padding='same')(c3)  # Match c2 filters\n",
    "    u4 = concatenate([u4, c2])\n",
    "    c4 = Conv2D(128, (3, 3), activation='relu', padding='same')(u4)\n",
    "    c4 = Conv2D(128, (3, 3), activation='relu', padding='same')(c4)\n",
    "\n",
    "    u5 = Conv2DTranspose(64, (2, 2), strides=(2, 2), padding='same')(c4)  # Match c1 filters\n",
    "    u5 = concatenate([u5, c1])\n",
    "    c5 = Conv2D(64, (3, 3), activation='relu', padding='same')(u5)\n",
    "    c5 = Conv2D(64, (3, 3), activation='relu', padding='same')(c5)\n",
    "\n",
    "    outputs = Conv2D(1, (1, 1), activation='sigmoid')(c5)\n",
    "\n",
    "    model = Model(inputs, outputs)\n",
    "    return model\n"
   ]
  },
  {
   "cell_type": "code",
   "execution_count": 8,
   "metadata": {},
   "outputs": [],
   "source": [
    "def unet_model(input_size=(512, 512, 1)):\n",
    "    inputs = Input(input_size)\n",
    "\n",
    "    c1 = Conv2D(64, (3, 3), activation='relu', padding='same')(inputs)\n",
    "    c1 = Conv2D(64, (3, 3), activation='relu', padding='same')(c1)\n",
    "    p1 = MaxPooling2D((2, 2))(c1)\n",
    "\n",
    "    c2 = Conv2D(128, (3, 3), activation='relu', padding='same')(p1)\n",
    "    c2 = Conv2D(128, (3, 3), activation='relu', padding='same')(c2)\n",
    "    p2 = MaxPooling2D((2, 2))(c2)\n",
    "\n",
    "    c3 = Conv2D(256, (3, 3), activation='relu', padding='same')(p2)\n",
    "    c3 = Conv2D(256, (3, 3), activation='relu', padding='same')(c3)\n",
    "    p3 = MaxPooling2D((2, 2))(c3)\n",
    "\n",
    "    c4 = Conv2D(512, (3, 3), activation='relu', padding='same')(p3)\n",
    "    c4 = Conv2D(512, (3, 3), activation='relu', padding='same')(c4)\n",
    "    p4 = MaxPooling2D((2, 2))(c4)\n",
    "\n",
    "    c5 = Conv2D(1024, (3, 3), activation='relu', padding='same')(p4)\n",
    "    c5 = Conv2D(1024, (3, 3), activation='relu', padding='same')(c5)\n",
    "\n",
    "    u6 = Conv2DTranspose(512, (2, 2), strides=(2, 2), padding='same')(c5)\n",
    "    u6 = concatenate([u6, c4])\n",
    "    c6 = Conv2D(512, (3, 3), activation='relu', padding='same')(u6)\n",
    "    c6 = Conv2D(512, (3, 3), activation='relu', padding='same')(c6)\n",
    "\n",
    "    u7 = Conv2DTranspose(256, (2, 2), strides=(2, 2), padding='same')(c6)\n",
    "    u7 = concatenate([u7, c3])\n",
    "    c7 = Conv2D(256, (3, 3), activation='relu', padding='same')(u7)\n",
    "    c7 = Conv2D(256, (3, 3), activation='relu', padding='same')(c7)\n",
    "\n",
    "    u8 = Conv2DTranspose(128, (2, 2), strides=(2, 2), padding='same')(c7)\n",
    "    u8 = concatenate([u8, c2])\n",
    "    c8 = Conv2D(128, (3, 3), activation='relu', padding='same')(u8)\n",
    "    c8 = Conv2D(128, (3, 3), activation='relu', padding='same')(c8)\n",
    "\n",
    "    u9 = Conv2DTranspose(64, (2, 2), strides=(2, 2), padding='same')(c8)\n",
    "    u9 = concatenate([u9, c1])\n",
    "    c9 = Conv2D(64, (3, 3), activation='relu', padding='same')(u9)\n",
    "    c9 = Conv2D(64, (3, 3), activation='relu', padding='same')(c9)\n",
    "\n",
    "    outputs = Conv2D(1, (1, 1), activation='sigmoid')(c9)\n",
    "\n",
    "    model = Model(inputs, outputs)\n",
    "    return model\n"
   ]
  },
  {
   "cell_type": "code",
   "execution_count": null,
   "metadata": {},
   "outputs": [
    {
     "name": "stdout",
     "output_type": "stream",
     "text": [
      "\n",
      "Training U-Net for Channel 0...\n",
      "\n",
      "Epoch 1/5\n"
     ]
    }
   ],
   "source": [
    "batch_size = 8\n",
    "epochs = 5\n",
    "\n",
    "channels = 1\n",
    "\n",
    "for channel in range(channels):\n",
    "    print(f\"\\nTraining U-Net for Channel {channel}...\\n\")\n",
    "\n",
    "    X, Y = extract_patches_per_channel(sdata, channel, patch_size=1024, stride=512)\n",
    "\n",
    "    \n",
    "    X = np.expand_dims(X, axis=-1)  \n",
    "    Y = np.expand_dims(Y, axis=-1)  \n",
    "\n",
    "    \n",
    "    model = unet_model_smaller(input_size=(1024, 1024, 1))\n",
    "\n",
    "    model.compile(optimizer='adam', loss='binary_crossentropy', metrics=['accuracy'])\n",
    "\n",
    "    model.fit(X, Y, batch_size=batch_size, epochs=epochs, validation_split=0.2)\n",
    "\n",
    "    model.save(f\"unet_channel_{channel}.h5\")\n",
    "\n",
    "    print(f\"\\nFinished training U-Net for Channel {channel}!\\n\")"
   ]
  },
  {
   "cell_type": "code",
   "execution_count": null,
   "metadata": {},
   "outputs": [
    {
     "name": "stderr",
     "output_type": "stream",
     "text": [
      "WARNING:absl:Compiled the loaded model, but the compiled metrics have yet to be built. `model.compile_metrics` will be empty until you train or evaluate the model.\n"
     ]
    },
    {
     "name": "stdout",
     "output_type": "stream",
     "text": [
      "\u001b[1m 3/13\u001b[0m \u001b[32m━━━━\u001b[0m\u001b[37m━━━━━━━━━━━━━━━━\u001b[0m \u001b[1m2:40\u001b[0m 16s/step"
     ]
    }
   ],
   "source": [
    "new_model = tf.keras.models.load_model(\"unet_channel_0.h5\")\n",
    "\n",
    "X, Y =  extract_patches_per_channel(sdata, 2, patch_size=512, stride=256)\n",
    "\n",
    "new_model.predict(X)"
   ]
  }
 ],
 "metadata": {
  "kernelspec": {
   "display_name": "ilastik_napari_182",
   "language": "python",
   "name": "python3"
  },
  "language_info": {
   "codemirror_mode": {
    "name": "ipython",
    "version": 3
   },
   "file_extension": ".py",
   "mimetype": "text/x-python",
   "name": "python",
   "nbconvert_exporter": "python",
   "pygments_lexer": "ipython3",
   "version": "3.11.11"
  }
 },
 "nbformat": 4,
 "nbformat_minor": 2
}
