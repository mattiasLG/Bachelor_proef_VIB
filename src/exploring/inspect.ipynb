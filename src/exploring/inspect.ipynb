{
 "cells": [
  {
   "cell_type": "code",
   "execution_count": 5,
   "metadata": {},
   "outputs": [
    {
     "name": "stderr",
     "output_type": "stream",
     "text": [
      "c:\\Users\\Mattias\\anaconda3\\envs\\classifier_env\\lib\\site-packages\\dask\\dataframe\\__init__.py:31: FutureWarning: The legacy Dask DataFrame implementation is deprecated and will be removed in a future version. Set the configuration option `dataframe.query-planning` to `True` or None to enable the new Dask Dataframe implementation and silence this warning.\n",
      "  warnings.warn(\n"
     ]
    }
   ],
   "source": [
    "from dask_image.imread import imread\n",
    "import dask.array as da\n",
    "import os\n",
    "import numpy as np\n",
    "import joblib\n",
    "import dask  # Import Dask first\n",
    "dask.config.set({'dataframe.query-planning': False})  # Disable query-planning\n",
    "\n",
    "import dask.dataframe as dd  # Now import dask.dataframe\n",
    "import pandas as pd\n",
    "import dask.dataframe as dd\n",
    "from spatialdata import read_zarr"
   ]
  },
  {
   "cell_type": "code",
   "execution_count": 6,
   "metadata": {},
   "outputs": [
    {
     "name": "stderr",
     "output_type": "stream",
     "text": [
      "c:\\Users\\Mattias\\anaconda3\\envs\\classifier_env\\lib\\site-packages\\zarr\\creation.py:614: UserWarning: ignoring keyword argument 'read_only'\n",
      "  compressor, fill_value = _kwargs_compat(compressor, fill_value, kwargs)\n"
     ]
    },
    {
     "data": {
      "text/plain": [
       "SpatialData object, with associated Zarr store: C:\\Users\\Mattias\\Documents\\projects\\HOGENT\\Bach_proef\\Bachelor_proef_VIB\\Testdata_MACSima\\Testdata_CA.zarr\n",
       "├── Images\n",
       "│     ├── 'channel_0': DataArray[cyx] (1, 4500, 7000)\n",
       "│     ├── 'channel_1': DataArray[cyx] (1, 4500, 7000)\n",
       "│     ├── 'channel_2': DataArray[cyx] (1, 4500, 7000)\n",
       "│     ├── 'channel_3': DataArray[cyx] (1, 4500, 7000)\n",
       "│     ├── 'channel_4': DataArray[cyx] (1, 4500, 7000)\n",
       "│     ├── 'channel_5': DataArray[cyx] (1, 4500, 7000)\n",
       "│     ├── 'channel_6': DataArray[cyx] (1, 4500, 7000)\n",
       "│     ├── 'channel_7': DataArray[cyx] (1, 4500, 7000)\n",
       "│     ├── 'channel_8': DataArray[cyx] (1, 4500, 7000)\n",
       "│     ├── 'channel_9': DataArray[cyx] (1, 4500, 7000)\n",
       "│     ├── 'channel_10': DataArray[cyx] (1, 4500, 7000)\n",
       "│     ├── 'channel_11': DataArray[cyx] (1, 4500, 7000)\n",
       "│     ├── 'channel_12': DataArray[cyx] (1, 4500, 7000)\n",
       "│     ├── 'channel_13': DataArray[cyx] (1, 4500, 7000)\n",
       "│     ├── 'channel_14': DataArray[cyx] (1, 4500, 7000)\n",
       "│     ├── 'channel_15': DataArray[cyx] (1, 4500, 7000)\n",
       "│     ├── 'channel_16': DataArray[cyx] (1, 4500, 7000)\n",
       "│     ├── 'channel_17': DataArray[cyx] (1, 4500, 7000)\n",
       "│     ├── 'channel_18': DataArray[cyx] (1, 4500, 7000)\n",
       "│     ├── 'channel_19': DataArray[cyx] (1, 4500, 7000)\n",
       "│     ├── 'channel_20': DataArray[cyx] (1, 4500, 7000)\n",
       "│     ├── 'channel_21': DataArray[cyx] (1, 4500, 7000)\n",
       "│     ├── 'channel_22': DataArray[cyx] (1, 4500, 7000)\n",
       "│     ├── 'channel_23': DataArray[cyx] (1, 4500, 7000)\n",
       "│     ├── 'channel_24': DataArray[cyx] (1, 4500, 7000)\n",
       "│     ├── 'channel_25': DataArray[cyx] (1, 4500, 7000)\n",
       "│     ├── 'channel_26': DataArray[cyx] (1, 4500, 7000)\n",
       "│     ├── 'channel_27': DataArray[cyx] (1, 4500, 7000)\n",
       "│     ├── 'channel_28': DataArray[cyx] (1, 4500, 7000)\n",
       "│     ├── 'channel_29': DataArray[cyx] (1, 4500, 7000)\n",
       "│     ├── 'channel_30': DataArray[cyx] (1, 4500, 7000)\n",
       "│     ├── 'channel_31': DataArray[cyx] (1, 4500, 7000)\n",
       "│     ├── 'channel_32': DataArray[cyx] (1, 4500, 7000)\n",
       "│     ├── 'channel_33': DataArray[cyx] (1, 4500, 7000)\n",
       "│     ├── 'channel_34': DataArray[cyx] (1, 4500, 7000)\n",
       "│     ├── 'channel_35': DataArray[cyx] (1, 4500, 7000)\n",
       "│     ├── 'channel_36': DataArray[cyx] (1, 4500, 7000)\n",
       "│     ├── 'channel_37': DataArray[cyx] (1, 4500, 7000)\n",
       "│     ├── 'channel_38': DataArray[cyx] (1, 4500, 7000)\n",
       "│     ├── 'channel_39': DataArray[cyx] (1, 4500, 7000)\n",
       "│     ├── 'channel_40': DataArray[cyx] (1, 4500, 7000)\n",
       "│     ├── 'channel_41': DataArray[cyx] (1, 4500, 7000)\n",
       "│     ├── 'channel_42': DataArray[cyx] (1, 4500, 7000)\n",
       "│     ├── 'channel_43': DataArray[cyx] (1, 4500, 7000)\n",
       "│     ├── 'channel_44': DataArray[cyx] (1, 4500, 7000)\n",
       "│     ├── 'channel_45': DataArray[cyx] (1, 4500, 7000)\n",
       "│     ├── 'channel_46': DataArray[cyx] (1, 4500, 7000)\n",
       "│     ├── 'channel_47': DataArray[cyx] (1, 4500, 7000)\n",
       "│     ├── 'channel_48': DataArray[cyx] (1, 4500, 7000)\n",
       "│     ├── 'channel_49': DataArray[cyx] (1, 4500, 7000)\n",
       "│     ├── 'channel_50': DataArray[cyx] (1, 4500, 7000)\n",
       "│     ├── 'channel_51': DataArray[cyx] (1, 4500, 7000)\n",
       "│     ├── 'channel_52': DataArray[cyx] (1, 4500, 7000)\n",
       "│     ├── 'channel_53': DataArray[cyx] (1, 4500, 7000)\n",
       "│     ├── 'channel_54': DataArray[cyx] (1, 4500, 7000)\n",
       "│     ├── 'channel_55': DataArray[cyx] (1, 4500, 7000)\n",
       "│     ├── 'channel_56': DataArray[cyx] (1, 4500, 7000)\n",
       "│     ├── 'channel_57': DataArray[cyx] (1, 4500, 7000)\n",
       "│     ├── 'channel_58': DataArray[cyx] (1, 4500, 7000)\n",
       "│     ├── 'channel_59': DataArray[cyx] (1, 4500, 7000)\n",
       "│     ├── 'channel_60': DataArray[cyx] (1, 4500, 7000)\n",
       "│     ├── 'channel_61': DataArray[cyx] (1, 4500, 7000)\n",
       "│     ├── 'channel_62': DataArray[cyx] (1, 4500, 7000)\n",
       "│     ├── 'channel_63': DataArray[cyx] (1, 4500, 7000)\n",
       "│     ├── 'channel_64': DataArray[cyx] (1, 4500, 7000)\n",
       "│     ├── 'channel_65': DataArray[cyx] (1, 4500, 7000)\n",
       "│     ├── 'channel_66': DataArray[cyx] (1, 4500, 7000)\n",
       "│     ├── 'channel_67': DataArray[cyx] (1, 4500, 7000)\n",
       "│     ├── 'channel_68': DataArray[cyx] (1, 4500, 7000)\n",
       "│     ├── 'channel_69': DataArray[cyx] (1, 4500, 7000)\n",
       "│     ├── 'channel_70': DataArray[cyx] (1, 4500, 7000)\n",
       "│     ├── 'channel_71': DataArray[cyx] (1, 4500, 7000)\n",
       "│     ├── 'channel_72': DataArray[cyx] (1, 4500, 7000)\n",
       "│     ├── 'channel_73': DataArray[cyx] (1, 4500, 7000)\n",
       "│     ├── 'channel_74': DataArray[cyx] (1, 4500, 7000)\n",
       "│     ├── 'channel_75': DataArray[cyx] (1, 4500, 7000)\n",
       "│     ├── 'channel_76': DataArray[cyx] (1, 4500, 7000)\n",
       "│     ├── 'channel_77': DataArray[cyx] (1, 4500, 7000)\n",
       "│     ├── 'channel_78': DataArray[cyx] (1, 4500, 7000)\n",
       "│     ├── 'channel_79': DataArray[cyx] (1, 4500, 7000)\n",
       "│     ├── 'channel_80': DataArray[cyx] (1, 4500, 7000)\n",
       "│     ├── 'channel_81': DataArray[cyx] (1, 4500, 7000)\n",
       "│     ├── 'channel_82': DataArray[cyx] (1, 4500, 7000)\n",
       "│     ├── 'channel_83': DataArray[cyx] (1, 4500, 7000)\n",
       "│     ├── 'channel_84': DataArray[cyx] (1, 4500, 7000)\n",
       "│     ├── 'channel_85': DataArray[cyx] (1, 4500, 7000)\n",
       "│     ├── 'channel_86': DataArray[cyx] (1, 4500, 7000)\n",
       "│     ├── 'channel_87': DataArray[cyx] (1, 4500, 7000)\n",
       "│     ├── 'channel_88': DataArray[cyx] (1, 4500, 7000)\n",
       "│     ├── 'channel_89': DataArray[cyx] (1, 4500, 7000)\n",
       "│     ├── 'channel_90': DataArray[cyx] (1, 4500, 7000)\n",
       "│     ├── 'channel_91': DataArray[cyx] (1, 4500, 7000)\n",
       "│     ├── 'channel_92': DataArray[cyx] (1, 4500, 7000)\n",
       "│     ├── 'channel_93': DataArray[cyx] (1, 4500, 7000)\n",
       "│     ├── 'channel_94': DataArray[cyx] (1, 4500, 7000)\n",
       "│     ├── 'channel_95': DataArray[cyx] (1, 4500, 7000)\n",
       "│     ├── 'channel_96': DataArray[cyx] (1, 4500, 7000)\n",
       "│     ├── 'channel_97': DataArray[cyx] (1, 4500, 7000)\n",
       "│     ├── 'channel_98': DataArray[cyx] (1, 4500, 7000)\n",
       "│     ├── 'channel_99': DataArray[cyx] (1, 4500, 7000)\n",
       "│     ├── 'channel_100': DataArray[cyx] (1, 4500, 7000)\n",
       "│     ├── 'channel_101': DataArray[cyx] (1, 4500, 7000)\n",
       "│     ├── 'channel_102': DataArray[cyx] (1, 4500, 7000)\n",
       "│     ├── 'channel_103': DataArray[cyx] (1, 4500, 7000)\n",
       "│     ├── 'channel_104': DataArray[cyx] (1, 4500, 7000)\n",
       "│     ├── 'channel_105': DataArray[cyx] (1, 4500, 7000)\n",
       "│     ├── 'channel_106': DataArray[cyx] (1, 4500, 7000)\n",
       "│     ├── 'channel_107': DataArray[cyx] (1, 4500, 7000)\n",
       "│     ├── 'channel_108': DataArray[cyx] (1, 4500, 7000)\n",
       "│     ├── 'channel_109': DataArray[cyx] (1, 4500, 7000)\n",
       "│     ├── 'channel_110': DataArray[cyx] (1, 4500, 7000)\n",
       "│     ├── 'channel_111': DataArray[cyx] (1, 4500, 7000)\n",
       "│     ├── 'channel_112': DataArray[cyx] (1, 4500, 7000)\n",
       "│     ├── 'channel_113': DataArray[cyx] (1, 4500, 7000)\n",
       "│     ├── 'channel_114': DataArray[cyx] (1, 4500, 7000)\n",
       "│     ├── 'channel_115': DataArray[cyx] (1, 4500, 7000)\n",
       "│     ├── 'channel_116': DataArray[cyx] (1, 4500, 7000)\n",
       "│     ├── 'channel_117': DataArray[cyx] (1, 4500, 7000)\n",
       "│     ├── 'channel_118': DataArray[cyx] (1, 4500, 7000)\n",
       "│     ├── 'channel_119': DataArray[cyx] (1, 4500, 7000)\n",
       "│     ├── 'channel_120': DataArray[cyx] (1, 4500, 7000)\n",
       "│     ├── 'channel_121': DataArray[cyx] (1, 4500, 7000)\n",
       "│     ├── 'channel_122': DataArray[cyx] (1, 4500, 7000)\n",
       "│     ├── 'channel_123': DataArray[cyx] (1, 4500, 7000)\n",
       "│     ├── 'channel_124': DataArray[cyx] (1, 4500, 7000)\n",
       "│     ├── 'channel_125': DataArray[cyx] (1, 4500, 7000)\n",
       "│     ├── 'channel_126': DataArray[cyx] (1, 4500, 7000)\n",
       "│     ├── 'channel_127': DataArray[cyx] (1, 4500, 7000)\n",
       "│     ├── 'channel_128': DataArray[cyx] (1, 4500, 7000)\n",
       "│     ├── 'channel_129': DataArray[cyx] (1, 4500, 7000)\n",
       "│     ├── 'channel_130': DataArray[cyx] (1, 4500, 7000)\n",
       "│     ├── 'channel_131': DataArray[cyx] (1, 4500, 7000)\n",
       "│     ├── 'channel_132': DataArray[cyx] (1, 4500, 7000)\n",
       "│     ├── 'channel_133': DataArray[cyx] (1, 4500, 7000)\n",
       "│     ├── 'channel_134': DataArray[cyx] (1, 4500, 7000)\n",
       "│     ├── 'channel_135': DataArray[cyx] (1, 4500, 7000)\n",
       "│     ├── 'channel_136': DataArray[cyx] (1, 4500, 7000)\n",
       "│     ├── 'channel_137': DataArray[cyx] (1, 4500, 7000)\n",
       "│     ├── 'channel_138': DataArray[cyx] (1, 4500, 7000)\n",
       "│     ├── 'channel_139': DataArray[cyx] (1, 4500, 7000)\n",
       "│     ├── 'channel_140': DataArray[cyx] (1, 4500, 7000)\n",
       "│     ├── 'channel_141': DataArray[cyx] (1, 4500, 7000)\n",
       "│     ├── 'channel_142': DataArray[cyx] (1, 4500, 7000)\n",
       "│     ├── 'channel_143': DataArray[cyx] (1, 4500, 7000)\n",
       "│     ├── 'channel_144': DataArray[cyx] (1, 4500, 7000)\n",
       "│     ├── 'channel_145': DataArray[cyx] (1, 4500, 7000)\n",
       "│     ├── 'channel_146': DataArray[cyx] (1, 4500, 7000)\n",
       "│     ├── 'channel_147': DataArray[cyx] (1, 4500, 7000)\n",
       "│     ├── 'channel_148': DataArray[cyx] (1, 4500, 7000)\n",
       "│     ├── 'channel_149': DataArray[cyx] (1, 4500, 7000)\n",
       "│     ├── 'channel_150': DataArray[cyx] (1, 4500, 7000)\n",
       "│     ├── 'channel_151': DataArray[cyx] (1, 4500, 7000)\n",
       "│     └── 'channel_152': DataArray[cyx] (1, 4500, 7000)\n",
       "└── Labels\n",
       "      └── 'labels': DataArray[yx] (4500, 7000)\n",
       "with coordinate systems:\n",
       "    ▸ 'global', with elements:\n",
       "        channel_0 (Images), channel_1 (Images), channel_2 (Images), channel_3 (Images), channel_4 (Images), channel_5 (Images), channel_6 (Images), channel_7 (Images), channel_8 (Images), channel_9 (Images), channel_10 (Images), channel_11 (Images), channel_12 (Images), channel_13 (Images), channel_14 (Images), channel_15 (Images), channel_16 (Images), channel_17 (Images), channel_18 (Images), channel_19 (Images), channel_20 (Images), channel_21 (Images), channel_22 (Images), channel_23 (Images), channel_24 (Images), channel_25 (Images), channel_26 (Images), channel_27 (Images), channel_28 (Images), channel_29 (Images), channel_30 (Images), channel_31 (Images), channel_32 (Images), channel_33 (Images), channel_34 (Images), channel_35 (Images), channel_36 (Images), channel_37 (Images), channel_38 (Images), channel_39 (Images), channel_40 (Images), channel_41 (Images), channel_42 (Images), channel_43 (Images), channel_44 (Images), channel_45 (Images), channel_46 (Images), channel_47 (Images), channel_48 (Images), channel_49 (Images), channel_50 (Images), channel_51 (Images), channel_52 (Images), channel_53 (Images), channel_54 (Images), channel_55 (Images), channel_56 (Images), channel_57 (Images), channel_58 (Images), channel_59 (Images), channel_60 (Images), channel_61 (Images), channel_62 (Images), channel_63 (Images), channel_64 (Images), channel_65 (Images), channel_66 (Images), channel_67 (Images), channel_68 (Images), channel_69 (Images), channel_70 (Images), channel_71 (Images), channel_72 (Images), channel_73 (Images), channel_74 (Images), channel_75 (Images), channel_76 (Images), channel_77 (Images), channel_78 (Images), channel_79 (Images), channel_80 (Images), channel_81 (Images), channel_82 (Images), channel_83 (Images), channel_84 (Images), channel_85 (Images), channel_86 (Images), channel_87 (Images), channel_88 (Images), channel_89 (Images), channel_90 (Images), channel_91 (Images), channel_92 (Images), channel_93 (Images), channel_94 (Images), channel_95 (Images), channel_96 (Images), channel_97 (Images), channel_98 (Images), channel_99 (Images), channel_100 (Images), channel_101 (Images), channel_102 (Images), channel_103 (Images), channel_104 (Images), channel_105 (Images), channel_106 (Images), channel_107 (Images), channel_108 (Images), channel_109 (Images), channel_110 (Images), channel_111 (Images), channel_112 (Images), channel_113 (Images), channel_114 (Images), channel_115 (Images), channel_116 (Images), channel_117 (Images), channel_118 (Images), channel_119 (Images), channel_120 (Images), channel_121 (Images), channel_122 (Images), channel_123 (Images), channel_124 (Images), channel_125 (Images), channel_126 (Images), channel_127 (Images), channel_128 (Images), channel_129 (Images), channel_130 (Images), channel_131 (Images), channel_132 (Images), channel_133 (Images), channel_134 (Images), channel_135 (Images), channel_136 (Images), channel_137 (Images), channel_138 (Images), channel_139 (Images), channel_140 (Images), channel_141 (Images), channel_142 (Images), channel_143 (Images), channel_144 (Images), channel_145 (Images), channel_146 (Images), channel_147 (Images), channel_148 (Images), channel_149 (Images), channel_150 (Images), channel_151 (Images), channel_152 (Images), labels (Labels)"
      ]
     },
     "execution_count": 6,
     "metadata": {},
     "output_type": "execute_result"
    }
   ],
   "source": [
    "sdata = read_zarr(r\"C:\\Users\\Mattias\\Documents\\projects\\HOGENT\\Bach_proef\\Bachelor_proef_VIB\\Testdata_MACSima\\Testdata_CA.zarr\")\n",
    "\n",
    "sdata"
   ]
  },
  {
   "cell_type": "code",
   "execution_count": 14,
   "metadata": {},
   "outputs": [
    {
     "data": {
      "text/plain": [
       "(589, 256, 256)"
      ]
     },
     "execution_count": 14,
     "metadata": {},
     "output_type": "execute_result"
    }
   ],
   "source": [
    "IMAGE_SIZE = 256\n",
    "STRIDE = IMAGE_SIZE - 32\n",
    "\n",
    "def extract_patches(array:np.ndarray):\n",
    "    patches = []\n",
    "    h, w = array.shape\n",
    "\n",
    "    # Ensure that the image dimensions are divisible by the patch size and stride\n",
    "    for i in range(0, h - IMAGE_SIZE + 1, STRIDE):\n",
    "        for j in range(0, w - IMAGE_SIZE + 1, STRIDE):\n",
    "            img_patch = array[i:i+IMAGE_SIZE, j:j+IMAGE_SIZE]\n",
    "            patches.append(img_patch)\n",
    "\n",
    "    return np.array(patches)\n",
    "    \n",
    "extract_patches(sdata['channel_0'].data.squeeze()).shape"
   ]
  },
  {
   "cell_type": "code",
   "execution_count": 8,
   "metadata": {},
   "outputs": [],
   "source": [
    "def extract_patches_per_channel(sdata, channel, patch_size=512, stride=256):\n",
    "    \"\"\"Extract patches from a specific channel in SpatialData.\"\"\"\n",
    "    img = sdata.images[f\"channel_{channel}\"].values[0] / 225\n",
    "    labels = sdata.labels[\"labels\"].values // 255\n",
    "\n",
    "    patches, label_patches = [], []\n",
    "    h, w = img.shape\n",
    "\n",
    "    for i in range(0, h - patch_size, stride):\n",
    "        count_x+=1\n",
    "        for j in range(0, w - patch_size, stride):\n",
    "            img_patch = array[i:i+patch_size, j:j+patch_size]\n",
    "\n",
    "            patches.append(img_patch)\n",
    "\n",
    "    print(count_x)\n",
    "    return np.array(patches)\n",
    "\n",
    "X = extract_patches(sdata['channel_0'].data.squeeze(), patch_size=512, stride=256)\n",
    "len(X)"
   ]
  },
  {
   "cell_type": "code",
   "execution_count": 9,
   "metadata": {},
   "outputs": [],
   "source": [
    "import tensorflow as tf\n",
    "from tensorflow.keras.layers import Conv2D, MaxPooling2D, Conv2DTranspose, concatenate, Input, Dropout\n",
    "from tensorflow.keras.models import Model\n"
   ]
  },
  {
   "cell_type": "code",
   "execution_count": 10,
   "metadata": {},
   "outputs": [],
   "source": [
    "def unet_model_smaller(input_size=(512, 512, 1)):\n",
    "    inputs = Input(input_size)\n",
    "\n",
    "    # Encoder\n",
    "    c1 = Conv2D(64, (3, 3), activation='relu', padding='same')(inputs)\n",
    "    c1 = Conv2D(64, (3, 3), activation='relu', padding='same')(c1)\n",
    "    p1 = MaxPooling2D((2, 2))(c1)\n",
    "\n",
    "    c2 = Conv2D(128, (3, 3), activation='relu', padding='same')(p1)\n",
    "    c2 = Conv2D(128, (3, 3), activation='relu', padding='same')(c2)\n",
    "    p2 = MaxPooling2D((2, 2))(c2)\n",
    "\n",
    "    c3 = Conv2D(256, (3, 3), activation='relu', padding='same')(p2)\n",
    "    c3 = Conv2D(256, (3, 3), activation='relu', padding='same')(c3)\n",
    "\n",
    "    # Decoder\n",
    "    u4 = Conv2DTranspose(128, (2, 2), strides=(2, 2), padding='same')(c3)  # Match c2 filters\n",
    "    u4 = concatenate([u4, c2])\n",
    "    c4 = Conv2D(128, (3, 3), activation='relu', padding='same')(u4)\n",
    "    c4 = Conv2D(128, (3, 3), activation='relu', padding='same')(c4)\n",
    "\n",
    "    u5 = Conv2DTranspose(64, (2, 2), strides=(2, 2), padding='same')(c4)  # Match c1 filters\n",
    "    u5 = concatenate([u5, c1])\n",
    "    c5 = Conv2D(64, (3, 3), activation='relu', padding='same')(u5)\n",
    "    c5 = Conv2D(64, (3, 3), activation='relu', padding='same')(c5)\n",
    "\n",
    "    outputs = Conv2D(1, (1, 1), activation='sigmoid')(c5)\n",
    "\n",
    "    model = Model(inputs, outputs)\n",
    "    return model\n"
   ]
  },
  {
   "cell_type": "code",
   "execution_count": 11,
   "metadata": {},
   "outputs": [],
   "source": [
    "def unet_model(input_size=(512, 512, 1)):\n",
    "    inputs = Input(input_size)\n",
    "\n",
    "    c1 = Conv2D(64, (3, 3), activation='relu', padding='same')(inputs)\n",
    "    c1 = Conv2D(64, (3, 3), activation='relu', padding='same')(c1)\n",
    "    p1 = MaxPooling2D((2, 2))(c1)\n",
    "\n",
    "    c2 = Conv2D(128, (3, 3), activation='relu', padding='same')(p1)\n",
    "    c2 = Conv2D(128, (3, 3), activation='relu', padding='same')(c2)\n",
    "    p2 = MaxPooling2D((2, 2))(c2)\n",
    "\n",
    "    c3 = Conv2D(256, (3, 3), activation='relu', padding='same')(p2)\n",
    "    c3 = Conv2D(256, (3, 3), activation='relu', padding='same')(c3)\n",
    "    p3 = MaxPooling2D((2, 2))(c3)\n",
    "\n",
    "    c4 = Conv2D(512, (3, 3), activation='relu', padding='same')(p3)\n",
    "    c4 = Conv2D(512, (3, 3), activation='relu', padding='same')(c4)\n",
    "    p4 = MaxPooling2D((2, 2))(c4)\n",
    "\n",
    "    c5 = Conv2D(1024, (3, 3), activation='relu', padding='same')(p4)\n",
    "    c5 = Conv2D(1024, (3, 3), activation='relu', padding='same')(c5)\n",
    "\n",
    "    u6 = Conv2DTranspose(512, (2, 2), strides=(2, 2), padding='same')(c5)\n",
    "    u6 = concatenate([u6, c4])\n",
    "    c6 = Conv2D(512, (3, 3), activation='relu', padding='same')(u6)\n",
    "    c6 = Conv2D(512, (3, 3), activation='relu', padding='same')(c6)\n",
    "\n",
    "    u7 = Conv2DTranspose(256, (2, 2), strides=(2, 2), padding='same')(c6)\n",
    "    u7 = concatenate([u7, c3])\n",
    "    c7 = Conv2D(256, (3, 3), activation='relu', padding='same')(u7)\n",
    "    c7 = Conv2D(256, (3, 3), activation='relu', padding='same')(c7)\n",
    "\n",
    "    u8 = Conv2DTranspose(128, (2, 2), strides=(2, 2), padding='same')(c7)\n",
    "    u8 = concatenate([u8, c2])\n",
    "    c8 = Conv2D(128, (3, 3), activation='relu', padding='same')(u8)\n",
    "    c8 = Conv2D(128, (3, 3), activation='relu', padding='same')(c8)\n",
    "\n",
    "    u9 = Conv2DTranspose(64, (2, 2), strides=(2, 2), padding='same')(c8)\n",
    "    u9 = concatenate([u9, c1])\n",
    "    c9 = Conv2D(64, (3, 3), activation='relu', padding='same')(u9)\n",
    "    c9 = Conv2D(64, (3, 3), activation='relu', padding='same')(c9)\n",
    "\n",
    "    outputs = Conv2D(1, (1, 1), activation='sigmoid')(c9)\n",
    "\n",
    "    model = Model(inputs, outputs)\n",
    "    return model\n"
   ]
  },
  {
   "cell_type": "code",
   "execution_count": 12,
   "metadata": {},
   "outputs": [
    {
     "data": {
      "text/plain": [
       "<function __main__.extract_patches_per_channel(sdata, channel, patch_size=512, stride=256)>"
      ]
     },
     "execution_count": 12,
     "metadata": {},
     "output_type": "execute_result"
    }
   ],
   "source": [
    "extract_patches_per_channel"
   ]
  },
  {
   "cell_type": "code",
   "execution_count": 13,
   "metadata": {},
   "outputs": [
    {
     "name": "stdout",
     "output_type": "stream",
     "text": [
      "\n",
      "Training U-Net for Channel 0...\n",
      "\n",
      "Epoch 1/5\n"
     ]
    },
    {
     "ename": "ResourceExhaustedError",
     "evalue": "Graph execution error:\n\nDetected at node 'model/conv2d_1/Relu' defined at (most recent call last):\n    File \"c:\\Users\\Mattias\\anaconda3\\envs\\classifier_env\\lib\\runpy.py\", line 196, in _run_module_as_main\n      return _run_code(code, main_globals, None,\n    File \"c:\\Users\\Mattias\\anaconda3\\envs\\classifier_env\\lib\\runpy.py\", line 86, in _run_code\n      exec(code, run_globals)\n    File \"c:\\Users\\Mattias\\anaconda3\\envs\\classifier_env\\lib\\site-packages\\ipykernel_launcher.py\", line 18, in <module>\n      app.launch_new_instance()\n    File \"c:\\Users\\Mattias\\anaconda3\\envs\\classifier_env\\lib\\site-packages\\traitlets\\config\\application.py\", line 1075, in launch_instance\n      app.start()\n    File \"c:\\Users\\Mattias\\anaconda3\\envs\\classifier_env\\lib\\site-packages\\ipykernel\\kernelapp.py\", line 739, in start\n      self.io_loop.start()\n    File \"c:\\Users\\Mattias\\anaconda3\\envs\\classifier_env\\lib\\site-packages\\tornado\\platform\\asyncio.py\", line 205, in start\n      self.asyncio_loop.run_forever()\n    File \"c:\\Users\\Mattias\\anaconda3\\envs\\classifier_env\\lib\\asyncio\\base_events.py\", line 603, in run_forever\n      self._run_once()\n    File \"c:\\Users\\Mattias\\anaconda3\\envs\\classifier_env\\lib\\asyncio\\base_events.py\", line 1909, in _run_once\n      handle._run()\n    File \"c:\\Users\\Mattias\\anaconda3\\envs\\classifier_env\\lib\\asyncio\\events.py\", line 80, in _run\n      self._context.run(self._callback, *self._args)\n    File \"c:\\Users\\Mattias\\anaconda3\\envs\\classifier_env\\lib\\site-packages\\ipykernel\\kernelbase.py\", line 545, in dispatch_queue\n      await self.process_one()\n    File \"c:\\Users\\Mattias\\anaconda3\\envs\\classifier_env\\lib\\site-packages\\ipykernel\\kernelbase.py\", line 534, in process_one\n      await dispatch(*args)\n    File \"c:\\Users\\Mattias\\anaconda3\\envs\\classifier_env\\lib\\site-packages\\ipykernel\\kernelbase.py\", line 437, in dispatch_shell\n      await result\n    File \"c:\\Users\\Mattias\\anaconda3\\envs\\classifier_env\\lib\\site-packages\\ipykernel\\ipkernel.py\", line 362, in execute_request\n      await super().execute_request(stream, ident, parent)\n    File \"c:\\Users\\Mattias\\anaconda3\\envs\\classifier_env\\lib\\site-packages\\ipykernel\\kernelbase.py\", line 778, in execute_request\n      reply_content = await reply_content\n    File \"c:\\Users\\Mattias\\anaconda3\\envs\\classifier_env\\lib\\site-packages\\ipykernel\\ipkernel.py\", line 449, in do_execute\n      res = shell.run_cell(\n    File \"c:\\Users\\Mattias\\anaconda3\\envs\\classifier_env\\lib\\site-packages\\ipykernel\\zmqshell.py\", line 549, in run_cell\n      return super().run_cell(*args, **kwargs)\n    File \"c:\\Users\\Mattias\\anaconda3\\envs\\classifier_env\\lib\\site-packages\\IPython\\core\\interactiveshell.py\", line 3077, in run_cell\n      result = self._run_cell(\n    File \"c:\\Users\\Mattias\\anaconda3\\envs\\classifier_env\\lib\\site-packages\\IPython\\core\\interactiveshell.py\", line 3132, in _run_cell\n      result = runner(coro)\n    File \"c:\\Users\\Mattias\\anaconda3\\envs\\classifier_env\\lib\\site-packages\\IPython\\core\\async_helpers.py\", line 128, in _pseudo_sync_runner\n      coro.send(None)\n    File \"c:\\Users\\Mattias\\anaconda3\\envs\\classifier_env\\lib\\site-packages\\IPython\\core\\interactiveshell.py\", line 3336, in run_cell_async\n      has_raised = await self.run_ast_nodes(code_ast.body, cell_name,\n    File \"c:\\Users\\Mattias\\anaconda3\\envs\\classifier_env\\lib\\site-packages\\IPython\\core\\interactiveshell.py\", line 3519, in run_ast_nodes\n      if await self.run_code(code, result, async_=asy):\n    File \"c:\\Users\\Mattias\\anaconda3\\envs\\classifier_env\\lib\\site-packages\\IPython\\core\\interactiveshell.py\", line 3579, in run_code\n      exec(code_obj, self.user_global_ns, self.user_ns)\n    File \"C:\\Users\\Mattias\\AppData\\Local\\Temp\\ipykernel_4196\\1568076010.py\", line 20, in <module>\n      model.fit(X, Y, batch_size=batch_size, epochs=epochs, validation_split=0.2)\n    File \"c:\\Users\\Mattias\\anaconda3\\envs\\classifier_env\\lib\\site-packages\\keras\\utils\\traceback_utils.py\", line 65, in error_handler\n      return fn(*args, **kwargs)\n    File \"c:\\Users\\Mattias\\anaconda3\\envs\\classifier_env\\lib\\site-packages\\keras\\engine\\training.py\", line 1564, in fit\n      tmp_logs = self.train_function(iterator)\n    File \"c:\\Users\\Mattias\\anaconda3\\envs\\classifier_env\\lib\\site-packages\\keras\\engine\\training.py\", line 1160, in train_function\n      return step_function(self, iterator)\n    File \"c:\\Users\\Mattias\\anaconda3\\envs\\classifier_env\\lib\\site-packages\\keras\\engine\\training.py\", line 1146, in step_function\n      outputs = model.distribute_strategy.run(run_step, args=(data,))\n    File \"c:\\Users\\Mattias\\anaconda3\\envs\\classifier_env\\lib\\site-packages\\keras\\engine\\training.py\", line 1135, in run_step\n      outputs = model.train_step(data)\n    File \"c:\\Users\\Mattias\\anaconda3\\envs\\classifier_env\\lib\\site-packages\\keras\\engine\\training.py\", line 993, in train_step\n      y_pred = self(x, training=True)\n    File \"c:\\Users\\Mattias\\anaconda3\\envs\\classifier_env\\lib\\site-packages\\keras\\utils\\traceback_utils.py\", line 65, in error_handler\n      return fn(*args, **kwargs)\n    File \"c:\\Users\\Mattias\\anaconda3\\envs\\classifier_env\\lib\\site-packages\\keras\\engine\\training.py\", line 557, in __call__\n      return super().__call__(*args, **kwargs)\n    File \"c:\\Users\\Mattias\\anaconda3\\envs\\classifier_env\\lib\\site-packages\\keras\\utils\\traceback_utils.py\", line 65, in error_handler\n      return fn(*args, **kwargs)\n    File \"c:\\Users\\Mattias\\anaconda3\\envs\\classifier_env\\lib\\site-packages\\keras\\engine\\base_layer.py\", line 1097, in __call__\n      outputs = call_fn(inputs, *args, **kwargs)\n    File \"c:\\Users\\Mattias\\anaconda3\\envs\\classifier_env\\lib\\site-packages\\keras\\utils\\traceback_utils.py\", line 96, in error_handler\n      return fn(*args, **kwargs)\n    File \"c:\\Users\\Mattias\\anaconda3\\envs\\classifier_env\\lib\\site-packages\\keras\\engine\\functional.py\", line 510, in call\n      return self._run_internal_graph(inputs, training=training, mask=mask)\n    File \"c:\\Users\\Mattias\\anaconda3\\envs\\classifier_env\\lib\\site-packages\\keras\\engine\\functional.py\", line 667, in _run_internal_graph\n      outputs = node.layer(*args, **kwargs)\n    File \"c:\\Users\\Mattias\\anaconda3\\envs\\classifier_env\\lib\\site-packages\\keras\\utils\\traceback_utils.py\", line 65, in error_handler\n      return fn(*args, **kwargs)\n    File \"c:\\Users\\Mattias\\anaconda3\\envs\\classifier_env\\lib\\site-packages\\keras\\engine\\base_layer.py\", line 1097, in __call__\n      outputs = call_fn(inputs, *args, **kwargs)\n    File \"c:\\Users\\Mattias\\anaconda3\\envs\\classifier_env\\lib\\site-packages\\keras\\utils\\traceback_utils.py\", line 96, in error_handler\n      return fn(*args, **kwargs)\n    File \"c:\\Users\\Mattias\\anaconda3\\envs\\classifier_env\\lib\\site-packages\\keras\\layers\\convolutional\\base_conv.py\", line 314, in call\n      return self.activation(outputs)\n    File \"c:\\Users\\Mattias\\anaconda3\\envs\\classifier_env\\lib\\site-packages\\keras\\activations.py\", line 317, in relu\n      return backend.relu(\n    File \"c:\\Users\\Mattias\\anaconda3\\envs\\classifier_env\\lib\\site-packages\\keras\\backend.py\", line 5366, in relu\n      x = tf.nn.relu(x)\nNode: 'model/conv2d_1/Relu'\nOOM when allocating tensor with shape[8,64,1024,1024] and type float on /job:localhost/replica:0/task:0/device:GPU:0 by allocator GPU_0_bfc\n\t [[{{node model/conv2d_1/Relu}}]]\nHint: If you want to see a list of allocated tensors when OOM happens, add report_tensor_allocations_upon_oom to RunOptions for current allocation info. This isn't available when running in Eager mode.\n [Op:__inference_train_function_1897]",
     "output_type": "error",
     "traceback": [
      "\u001b[1;31m---------------------------------------------------------------------------\u001b[0m",
      "\u001b[1;31mResourceExhaustedError\u001b[0m                    Traceback (most recent call last)",
      "Cell \u001b[1;32mIn[13], line 20\u001b[0m\n\u001b[0;32m     16\u001b[0m model \u001b[38;5;241m=\u001b[39m unet_model_smaller(input_size\u001b[38;5;241m=\u001b[39m(\u001b[38;5;241m1024\u001b[39m, \u001b[38;5;241m1024\u001b[39m, \u001b[38;5;241m1\u001b[39m))\n\u001b[0;32m     18\u001b[0m model\u001b[38;5;241m.\u001b[39mcompile(optimizer\u001b[38;5;241m=\u001b[39m\u001b[38;5;124m'\u001b[39m\u001b[38;5;124madam\u001b[39m\u001b[38;5;124m'\u001b[39m, loss\u001b[38;5;241m=\u001b[39m\u001b[38;5;124m'\u001b[39m\u001b[38;5;124mbinary_crossentropy\u001b[39m\u001b[38;5;124m'\u001b[39m, metrics\u001b[38;5;241m=\u001b[39m[\u001b[38;5;124m'\u001b[39m\u001b[38;5;124maccuracy\u001b[39m\u001b[38;5;124m'\u001b[39m])\n\u001b[1;32m---> 20\u001b[0m \u001b[43mmodel\u001b[49m\u001b[38;5;241;43m.\u001b[39;49m\u001b[43mfit\u001b[49m\u001b[43m(\u001b[49m\u001b[43mX\u001b[49m\u001b[43m,\u001b[49m\u001b[43m \u001b[49m\u001b[43mY\u001b[49m\u001b[43m,\u001b[49m\u001b[43m \u001b[49m\u001b[43mbatch_size\u001b[49m\u001b[38;5;241;43m=\u001b[39;49m\u001b[43mbatch_size\u001b[49m\u001b[43m,\u001b[49m\u001b[43m \u001b[49m\u001b[43mepochs\u001b[49m\u001b[38;5;241;43m=\u001b[39;49m\u001b[43mepochs\u001b[49m\u001b[43m,\u001b[49m\u001b[43m \u001b[49m\u001b[43mvalidation_split\u001b[49m\u001b[38;5;241;43m=\u001b[39;49m\u001b[38;5;241;43m0.2\u001b[39;49m\u001b[43m)\u001b[49m\n\u001b[0;32m     22\u001b[0m model\u001b[38;5;241m.\u001b[39msave(\u001b[38;5;124mf\u001b[39m\u001b[38;5;124m\"\u001b[39m\u001b[38;5;124munet_channel_\u001b[39m\u001b[38;5;132;01m{\u001b[39;00mchannel\u001b[38;5;132;01m}\u001b[39;00m\u001b[38;5;124m.h5\u001b[39m\u001b[38;5;124m\"\u001b[39m)\n\u001b[0;32m     24\u001b[0m \u001b[38;5;28mprint\u001b[39m(\u001b[38;5;124mf\u001b[39m\u001b[38;5;124m\"\u001b[39m\u001b[38;5;130;01m\\n\u001b[39;00m\u001b[38;5;124mFinished training U-Net for Channel \u001b[39m\u001b[38;5;132;01m{\u001b[39;00mchannel\u001b[38;5;132;01m}\u001b[39;00m\u001b[38;5;124m!\u001b[39m\u001b[38;5;130;01m\\n\u001b[39;00m\u001b[38;5;124m\"\u001b[39m)\n",
      "File \u001b[1;32mc:\\Users\\Mattias\\anaconda3\\envs\\classifier_env\\lib\\site-packages\\keras\\utils\\traceback_utils.py:70\u001b[0m, in \u001b[0;36mfilter_traceback.<locals>.error_handler\u001b[1;34m(*args, **kwargs)\u001b[0m\n\u001b[0;32m     67\u001b[0m     filtered_tb \u001b[38;5;241m=\u001b[39m _process_traceback_frames(e\u001b[38;5;241m.\u001b[39m__traceback__)\n\u001b[0;32m     68\u001b[0m     \u001b[38;5;66;03m# To get the full stack trace, call:\u001b[39;00m\n\u001b[0;32m     69\u001b[0m     \u001b[38;5;66;03m# `tf.debugging.disable_traceback_filtering()`\u001b[39;00m\n\u001b[1;32m---> 70\u001b[0m     \u001b[38;5;28;01mraise\u001b[39;00m e\u001b[38;5;241m.\u001b[39mwith_traceback(filtered_tb) \u001b[38;5;28;01mfrom\u001b[39;00m\u001b[38;5;250m \u001b[39m\u001b[38;5;28;01mNone\u001b[39;00m\n\u001b[0;32m     71\u001b[0m \u001b[38;5;28;01mfinally\u001b[39;00m:\n\u001b[0;32m     72\u001b[0m     \u001b[38;5;28;01mdel\u001b[39;00m filtered_tb\n",
      "File \u001b[1;32mc:\\Users\\Mattias\\anaconda3\\envs\\classifier_env\\lib\\site-packages\\tensorflow\\python\\eager\\execute.py:54\u001b[0m, in \u001b[0;36mquick_execute\u001b[1;34m(op_name, num_outputs, inputs, attrs, ctx, name)\u001b[0m\n\u001b[0;32m     52\u001b[0m \u001b[38;5;28;01mtry\u001b[39;00m:\n\u001b[0;32m     53\u001b[0m   ctx\u001b[38;5;241m.\u001b[39mensure_initialized()\n\u001b[1;32m---> 54\u001b[0m   tensors \u001b[38;5;241m=\u001b[39m pywrap_tfe\u001b[38;5;241m.\u001b[39mTFE_Py_Execute(ctx\u001b[38;5;241m.\u001b[39m_handle, device_name, op_name,\n\u001b[0;32m     55\u001b[0m                                       inputs, attrs, num_outputs)\n\u001b[0;32m     56\u001b[0m \u001b[38;5;28;01mexcept\u001b[39;00m core\u001b[38;5;241m.\u001b[39m_NotOkStatusException \u001b[38;5;28;01mas\u001b[39;00m e:\n\u001b[0;32m     57\u001b[0m   \u001b[38;5;28;01mif\u001b[39;00m name \u001b[38;5;129;01mis\u001b[39;00m \u001b[38;5;129;01mnot\u001b[39;00m \u001b[38;5;28;01mNone\u001b[39;00m:\n",
      "\u001b[1;31mResourceExhaustedError\u001b[0m: Graph execution error:\n\nDetected at node 'model/conv2d_1/Relu' defined at (most recent call last):\n    File \"c:\\Users\\Mattias\\anaconda3\\envs\\classifier_env\\lib\\runpy.py\", line 196, in _run_module_as_main\n      return _run_code(code, main_globals, None,\n    File \"c:\\Users\\Mattias\\anaconda3\\envs\\classifier_env\\lib\\runpy.py\", line 86, in _run_code\n      exec(code, run_globals)\n    File \"c:\\Users\\Mattias\\anaconda3\\envs\\classifier_env\\lib\\site-packages\\ipykernel_launcher.py\", line 18, in <module>\n      app.launch_new_instance()\n    File \"c:\\Users\\Mattias\\anaconda3\\envs\\classifier_env\\lib\\site-packages\\traitlets\\config\\application.py\", line 1075, in launch_instance\n      app.start()\n    File \"c:\\Users\\Mattias\\anaconda3\\envs\\classifier_env\\lib\\site-packages\\ipykernel\\kernelapp.py\", line 739, in start\n      self.io_loop.start()\n    File \"c:\\Users\\Mattias\\anaconda3\\envs\\classifier_env\\lib\\site-packages\\tornado\\platform\\asyncio.py\", line 205, in start\n      self.asyncio_loop.run_forever()\n    File \"c:\\Users\\Mattias\\anaconda3\\envs\\classifier_env\\lib\\asyncio\\base_events.py\", line 603, in run_forever\n      self._run_once()\n    File \"c:\\Users\\Mattias\\anaconda3\\envs\\classifier_env\\lib\\asyncio\\base_events.py\", line 1909, in _run_once\n      handle._run()\n    File \"c:\\Users\\Mattias\\anaconda3\\envs\\classifier_env\\lib\\asyncio\\events.py\", line 80, in _run\n      self._context.run(self._callback, *self._args)\n    File \"c:\\Users\\Mattias\\anaconda3\\envs\\classifier_env\\lib\\site-packages\\ipykernel\\kernelbase.py\", line 545, in dispatch_queue\n      await self.process_one()\n    File \"c:\\Users\\Mattias\\anaconda3\\envs\\classifier_env\\lib\\site-packages\\ipykernel\\kernelbase.py\", line 534, in process_one\n      await dispatch(*args)\n    File \"c:\\Users\\Mattias\\anaconda3\\envs\\classifier_env\\lib\\site-packages\\ipykernel\\kernelbase.py\", line 437, in dispatch_shell\n      await result\n    File \"c:\\Users\\Mattias\\anaconda3\\envs\\classifier_env\\lib\\site-packages\\ipykernel\\ipkernel.py\", line 362, in execute_request\n      await super().execute_request(stream, ident, parent)\n    File \"c:\\Users\\Mattias\\anaconda3\\envs\\classifier_env\\lib\\site-packages\\ipykernel\\kernelbase.py\", line 778, in execute_request\n      reply_content = await reply_content\n    File \"c:\\Users\\Mattias\\anaconda3\\envs\\classifier_env\\lib\\site-packages\\ipykernel\\ipkernel.py\", line 449, in do_execute\n      res = shell.run_cell(\n    File \"c:\\Users\\Mattias\\anaconda3\\envs\\classifier_env\\lib\\site-packages\\ipykernel\\zmqshell.py\", line 549, in run_cell\n      return super().run_cell(*args, **kwargs)\n    File \"c:\\Users\\Mattias\\anaconda3\\envs\\classifier_env\\lib\\site-packages\\IPython\\core\\interactiveshell.py\", line 3077, in run_cell\n      result = self._run_cell(\n    File \"c:\\Users\\Mattias\\anaconda3\\envs\\classifier_env\\lib\\site-packages\\IPython\\core\\interactiveshell.py\", line 3132, in _run_cell\n      result = runner(coro)\n    File \"c:\\Users\\Mattias\\anaconda3\\envs\\classifier_env\\lib\\site-packages\\IPython\\core\\async_helpers.py\", line 128, in _pseudo_sync_runner\n      coro.send(None)\n    File \"c:\\Users\\Mattias\\anaconda3\\envs\\classifier_env\\lib\\site-packages\\IPython\\core\\interactiveshell.py\", line 3336, in run_cell_async\n      has_raised = await self.run_ast_nodes(code_ast.body, cell_name,\n    File \"c:\\Users\\Mattias\\anaconda3\\envs\\classifier_env\\lib\\site-packages\\IPython\\core\\interactiveshell.py\", line 3519, in run_ast_nodes\n      if await self.run_code(code, result, async_=asy):\n    File \"c:\\Users\\Mattias\\anaconda3\\envs\\classifier_env\\lib\\site-packages\\IPython\\core\\interactiveshell.py\", line 3579, in run_code\n      exec(code_obj, self.user_global_ns, self.user_ns)\n    File \"C:\\Users\\Mattias\\AppData\\Local\\Temp\\ipykernel_4196\\1568076010.py\", line 20, in <module>\n      model.fit(X, Y, batch_size=batch_size, epochs=epochs, validation_split=0.2)\n    File \"c:\\Users\\Mattias\\anaconda3\\envs\\classifier_env\\lib\\site-packages\\keras\\utils\\traceback_utils.py\", line 65, in error_handler\n      return fn(*args, **kwargs)\n    File \"c:\\Users\\Mattias\\anaconda3\\envs\\classifier_env\\lib\\site-packages\\keras\\engine\\training.py\", line 1564, in fit\n      tmp_logs = self.train_function(iterator)\n    File \"c:\\Users\\Mattias\\anaconda3\\envs\\classifier_env\\lib\\site-packages\\keras\\engine\\training.py\", line 1160, in train_function\n      return step_function(self, iterator)\n    File \"c:\\Users\\Mattias\\anaconda3\\envs\\classifier_env\\lib\\site-packages\\keras\\engine\\training.py\", line 1146, in step_function\n      outputs = model.distribute_strategy.run(run_step, args=(data,))\n    File \"c:\\Users\\Mattias\\anaconda3\\envs\\classifier_env\\lib\\site-packages\\keras\\engine\\training.py\", line 1135, in run_step\n      outputs = model.train_step(data)\n    File \"c:\\Users\\Mattias\\anaconda3\\envs\\classifier_env\\lib\\site-packages\\keras\\engine\\training.py\", line 993, in train_step\n      y_pred = self(x, training=True)\n    File \"c:\\Users\\Mattias\\anaconda3\\envs\\classifier_env\\lib\\site-packages\\keras\\utils\\traceback_utils.py\", line 65, in error_handler\n      return fn(*args, **kwargs)\n    File \"c:\\Users\\Mattias\\anaconda3\\envs\\classifier_env\\lib\\site-packages\\keras\\engine\\training.py\", line 557, in __call__\n      return super().__call__(*args, **kwargs)\n    File \"c:\\Users\\Mattias\\anaconda3\\envs\\classifier_env\\lib\\site-packages\\keras\\utils\\traceback_utils.py\", line 65, in error_handler\n      return fn(*args, **kwargs)\n    File \"c:\\Users\\Mattias\\anaconda3\\envs\\classifier_env\\lib\\site-packages\\keras\\engine\\base_layer.py\", line 1097, in __call__\n      outputs = call_fn(inputs, *args, **kwargs)\n    File \"c:\\Users\\Mattias\\anaconda3\\envs\\classifier_env\\lib\\site-packages\\keras\\utils\\traceback_utils.py\", line 96, in error_handler\n      return fn(*args, **kwargs)\n    File \"c:\\Users\\Mattias\\anaconda3\\envs\\classifier_env\\lib\\site-packages\\keras\\engine\\functional.py\", line 510, in call\n      return self._run_internal_graph(inputs, training=training, mask=mask)\n    File \"c:\\Users\\Mattias\\anaconda3\\envs\\classifier_env\\lib\\site-packages\\keras\\engine\\functional.py\", line 667, in _run_internal_graph\n      outputs = node.layer(*args, **kwargs)\n    File \"c:\\Users\\Mattias\\anaconda3\\envs\\classifier_env\\lib\\site-packages\\keras\\utils\\traceback_utils.py\", line 65, in error_handler\n      return fn(*args, **kwargs)\n    File \"c:\\Users\\Mattias\\anaconda3\\envs\\classifier_env\\lib\\site-packages\\keras\\engine\\base_layer.py\", line 1097, in __call__\n      outputs = call_fn(inputs, *args, **kwargs)\n    File \"c:\\Users\\Mattias\\anaconda3\\envs\\classifier_env\\lib\\site-packages\\keras\\utils\\traceback_utils.py\", line 96, in error_handler\n      return fn(*args, **kwargs)\n    File \"c:\\Users\\Mattias\\anaconda3\\envs\\classifier_env\\lib\\site-packages\\keras\\layers\\convolutional\\base_conv.py\", line 314, in call\n      return self.activation(outputs)\n    File \"c:\\Users\\Mattias\\anaconda3\\envs\\classifier_env\\lib\\site-packages\\keras\\activations.py\", line 317, in relu\n      return backend.relu(\n    File \"c:\\Users\\Mattias\\anaconda3\\envs\\classifier_env\\lib\\site-packages\\keras\\backend.py\", line 5366, in relu\n      x = tf.nn.relu(x)\nNode: 'model/conv2d_1/Relu'\nOOM when allocating tensor with shape[8,64,1024,1024] and type float on /job:localhost/replica:0/task:0/device:GPU:0 by allocator GPU_0_bfc\n\t [[{{node model/conv2d_1/Relu}}]]\nHint: If you want to see a list of allocated tensors when OOM happens, add report_tensor_allocations_upon_oom to RunOptions for current allocation info. This isn't available when running in Eager mode.\n [Op:__inference_train_function_1897]"
     ]
    }
   ],
   "source": [
    "batch_size = 8\n",
    "epochs = 5\n",
    "\n",
    "channels = 1\n",
    "\n",
    "for channel in range(channels):\n",
    "    print(f\"\\nTraining U-Net for Channel {channel}...\\n\")\n",
    "\n",
    "    X, Y = extract_patches_per_channel(sdata, channel, patch_size=1024, stride=512)\n",
    "\n",
    "    \n",
    "    X = np.expand_dims(X, axis=-1)  \n",
    "    Y = np.expand_dims(Y, axis=-1)  \n",
    "\n",
    "    \n",
    "    model = unet_model_smaller(input_size=(1024, 1024, 1))\n",
    "\n",
    "    model.compile(optimizer='adam', loss='binary_crossentropy', metrics=['accuracy'])\n",
    "\n",
    "    model.fit(X, Y, batch_size=batch_size, epochs=epochs, validation_split=0.2)\n",
    "\n",
    "    model.save(f\"unet_channel_{channel}.h5\")\n",
    "\n",
    "    print(f\"\\nFinished training U-Net for Channel {channel}!\\n\")"
   ]
  },
  {
   "cell_type": "code",
   "execution_count": null,
   "metadata": {},
   "outputs": [
    {
     "name": "stderr",
     "output_type": "stream",
     "text": [
      "WARNING:absl:Compiled the loaded model, but the compiled metrics have yet to be built. `model.compile_metrics` will be empty until you train or evaluate the model.\n"
     ]
    },
    {
     "name": "stdout",
     "output_type": "stream",
     "text": [
      "\u001b[1m 3/13\u001b[0m \u001b[32m━━━━\u001b[0m\u001b[37m━━━━━━━━━━━━━━━━\u001b[0m \u001b[1m2:40\u001b[0m 16s/step"
     ]
    }
   ],
   "source": [
    "new_model = tf.keras.models.load_model(\"unet_channel_0.h5\")\n",
    "\n",
    "X, Y =  extract_patches_per_channel(sdata, 2, patch_size=512, stride=256)\n",
    "\n",
    "\n",
    "new_model.predict(X)"
   ]
  },
  {
   "cell_type": "code",
   "execution_count": 19,
   "metadata": {},
   "outputs": [],
   "source": [
    "IMAGE_SIZE = 256\n",
    "STRIDE = IMAGE_SIZE - 32\n",
    "\n",
    "from skimage.util import view_as_windows\n",
    "\n",
    "def extract_patches_skimage(array: np.ndarray):\n",
    "    window_shape = (IMAGE_SIZE, IMAGE_SIZE)\n",
    "    step = STRIDE\n",
    "    patches = view_as_windows(array, window_shape, step=step)\n",
    "    patches = patches.reshape(-1, IMAGE_SIZE, IMAGE_SIZE)\n",
    "    return patches\n",
    "\n",
    "\n",
    "out = extract_patches_skimage(sdata['channel_0'].values.squeeze())\n",
    "shape = extract_patches(sdata['channel_0'].data.squeeze())"
   ]
  },
  {
   "cell_type": "code",
   "execution_count": 18,
   "metadata": {},
   "outputs": [
    {
     "data": {
      "text/plain": [
       "array([[[12, 14, 10, ..., 20, 28, 39],\n",
       "        [ 9,  7, 12, ..., 11, 28, 21],\n",
       "        [ 0,  0,  8, ..., 22, 23,  7],\n",
       "        ...,\n",
       "        [ 2, 10, 16, ..., 39, 26, 41],\n",
       "        [ 2,  5, 10, ..., 35, 24, 35],\n",
       "        [ 8,  9, 10, ..., 40, 43, 23]],\n",
       "\n",
       "       [[15, 20, 25, ..., 32, 34, 32],\n",
       "        [26, 27, 24, ..., 27, 13, 22],\n",
       "        [30, 34, 32, ..., 32, 12, 16],\n",
       "        ...,\n",
       "        [18, 22, 36, ..., 27, 28, 29],\n",
       "        [15, 17, 28, ..., 29, 32, 19],\n",
       "        [19, 17, 27, ..., 41, 46, 19]],\n",
       "\n",
       "       [[63, 43, 42, ..., 18, 11, 10],\n",
       "        [37, 25, 39, ..., 16,  6,  1],\n",
       "        [33, 42, 45, ..., 18, 12,  8],\n",
       "        ...,\n",
       "        [33, 29, 24, ..., 36, 35, 36],\n",
       "        [21, 17, 20, ..., 41, 44, 37],\n",
       "        [17, 11,  9, ..., 27, 21, 16]],\n",
       "\n",
       "       ...,\n",
       "\n",
       "       [[49, 52, 78, ...,  2,  1,  1],\n",
       "        [52, 53, 79, ...,  4,  9, 12],\n",
       "        [32, 48, 71, ...,  9, 10, 18],\n",
       "        ...,\n",
       "        [13, 15, 22, ..., 12,  6, 13],\n",
       "        [11, 13, 15, ...,  1,  5, 14],\n",
       "        [10,  3,  4, ...,  0,  1,  2]],\n",
       "\n",
       "       [[17, 16, 15, ...,  0,  7,  6],\n",
       "        [ 7,  9, 13, ...,  2,  6,  5],\n",
       "        [ 4, 11, 20, ...,  2,  0,  1],\n",
       "        ...,\n",
       "        [ 6, 21,  8, ...,  1,  4, 10],\n",
       "        [13, 25,  6, ...,  0,  0,  4],\n",
       "        [12,  9,  5, ...,  8,  0,  0]],\n",
       "\n",
       "       [[18, 18,  8, ...,  0,  0,  2],\n",
       "        [ 9, 20,  8, ...,  8,  5,  2],\n",
       "        [ 8, 18,  5, ..., 16,  9,  1],\n",
       "        ...,\n",
       "        [ 8,  0,  0, ..., 10,  2, 10],\n",
       "        [ 0,  1,  4, ...,  7,  0,  5],\n",
       "        [ 3,  8, 12, ...,  1,  4, 15]]], dtype=uint16)"
      ]
     },
     "execution_count": 18,
     "metadata": {},
     "output_type": "execute_result"
    }
   ],
   "source": [
    "out"
   ]
  },
  {
   "cell_type": "code",
   "execution_count": 2,
   "metadata": {},
   "outputs": [
    {
     "name": "stderr",
     "output_type": "stream",
     "text": [
      "c:\\Users\\Mattias\\anaconda3\\envs\\classifier_env\\lib\\site-packages\\dask\\dataframe\\__init__.py:31: FutureWarning: The legacy Dask DataFrame implementation is deprecated and will be removed in a future version. Set the configuration option `dataframe.query-planning` to `True` or None to enable the new Dask Dataframe implementation and silence this warning.\n",
      "  warnings.warn(\n"
     ]
    }
   ],
   "source": [
    "import sys\n",
    "import os\n",
    "import numpy as np\n",
    "import logging\n",
    "import keras\n",
    "\n",
    "import gc\n",
    "from tensorflow.keras import backend as K\n",
    "\n",
    "from spatialdata import SpatialData\n",
    "from spatialdata import read_zarr\n",
    "from tensorflow.keras.layers import Conv2D, MaxPooling2D, Conv2DTranspose, concatenate, Input\n",
    "from tensorflow.keras.models import Model\n",
    "from skimage.util import view_as_windows"
   ]
  },
  {
   "cell_type": "code",
   "execution_count": 3,
   "metadata": {},
   "outputs": [],
   "source": [
    "IMAGE_SIZE = 256\n",
    "STRIDE = IMAGE_SIZE - 32\n",
    "\n",
    "def extract_patches_skimage(array):\n",
    "    window_shape = (IMAGE_SIZE, IMAGE_SIZE)\n",
    "    step = STRIDE\n",
    "    patches = view_as_windows(array, window_shape, step=step)\n",
    "    patches = patches.reshape(-1, IMAGE_SIZE, IMAGE_SIZE)\n",
    "    \n",
    "    return patches"
   ]
  },
  {
   "cell_type": "code",
   "execution_count": 4,
   "metadata": {},
   "outputs": [
    {
     "name": "stdout",
     "output_type": "stream",
     "text": [
      "Model: \"model\"\n",
      "__________________________________________________________________________________________________\n",
      " Layer (type)                   Output Shape         Param #     Connected to                     \n",
      "==================================================================================================\n",
      " input_1 (InputLayer)           [(None, 256, 256, 1  0           []                               \n",
      "                                )]                                                                \n",
      "                                                                                                  \n",
      " conv2d (Conv2D)                (None, 256, 256, 64  640         ['input_1[0][0]']                \n",
      "                                )                                                                 \n",
      "                                                                                                  \n",
      " conv2d_1 (Conv2D)              (None, 256, 256, 64  36928       ['conv2d[0][0]']                 \n",
      "                                )                                                                 \n",
      "                                                                                                  \n",
      " max_pooling2d (MaxPooling2D)   (None, 128, 128, 64  0           ['conv2d_1[0][0]']               \n",
      "                                )                                                                 \n",
      "                                                                                                  \n",
      " conv2d_2 (Conv2D)              (None, 128, 128, 12  73856       ['max_pooling2d[0][0]']          \n",
      "                                8)                                                                \n",
      "                                                                                                  \n",
      " conv2d_3 (Conv2D)              (None, 128, 128, 12  147584      ['conv2d_2[0][0]']               \n",
      "                                8)                                                                \n",
      "                                                                                                  \n",
      " max_pooling2d_1 (MaxPooling2D)  (None, 64, 64, 128)  0          ['conv2d_3[0][0]']               \n",
      "                                                                                                  \n",
      " conv2d_4 (Conv2D)              (None, 64, 64, 256)  295168      ['max_pooling2d_1[0][0]']        \n",
      "                                                                                                  \n",
      " conv2d_5 (Conv2D)              (None, 64, 64, 256)  590080      ['conv2d_4[0][0]']               \n",
      "                                                                                                  \n",
      " conv2d_transpose (Conv2DTransp  (None, 128, 128, 12  131200     ['conv2d_5[0][0]']               \n",
      " ose)                           8)                                                                \n",
      "                                                                                                  \n",
      " concatenate (Concatenate)      (None, 128, 128, 25  0           ['conv2d_transpose[0][0]',       \n",
      "                                6)                                'conv2d_3[0][0]']               \n",
      "                                                                                                  \n",
      " conv2d_6 (Conv2D)              (None, 128, 128, 12  295040      ['concatenate[0][0]']            \n",
      "                                8)                                                                \n",
      "                                                                                                  \n",
      " conv2d_7 (Conv2D)              (None, 128, 128, 12  147584      ['conv2d_6[0][0]']               \n",
      "                                8)                                                                \n",
      "                                                                                                  \n",
      " conv2d_transpose_1 (Conv2DTran  (None, 256, 256, 64  32832      ['conv2d_7[0][0]']               \n",
      " spose)                         )                                                                 \n",
      "                                                                                                  \n",
      " concatenate_1 (Concatenate)    (None, 256, 256, 12  0           ['conv2d_transpose_1[0][0]',     \n",
      "                                8)                                'conv2d_1[0][0]']               \n",
      "                                                                                                  \n",
      " conv2d_8 (Conv2D)              (None, 256, 256, 64  73792       ['concatenate_1[0][0]']          \n",
      "                                )                                                                 \n",
      "                                                                                                  \n",
      " conv2d_9 (Conv2D)              (None, 256, 256, 64  36928       ['conv2d_8[0][0]']               \n",
      "                                )                                                                 \n",
      "                                                                                                  \n",
      " conv2d_10 (Conv2D)             (None, 256, 256, 1)  65          ['conv2d_9[0][0]']               \n",
      "                                                                                                  \n",
      "==================================================================================================\n",
      "Total params: 1,861,697\n",
      "Trainable params: 1,861,697\n",
      "Non-trainable params: 0\n",
      "__________________________________________________________________________________________________\n"
     ]
    }
   ],
   "source": [
    "import tensorflow as tf\n",
    "\n",
    "model = tf.keras.models.load_model(r\"..\\model\\temp\\pixel_classifier_256.keras\")\n",
    "\n",
    "model.summary()"
   ]
  },
  {
   "cell_type": "code",
   "execution_count": 7,
   "metadata": {},
   "outputs": [
    {
     "name": "stdout",
     "output_type": "stream",
     "text": [
      "1/1 [==============================] - 6s 6s/step\n"
     ]
    }
   ],
   "source": [
    "sdata = read_zarr(r\"D:\\test\\2023_11_22_CelineEveraert_R1_B1_ROI1.zarr\")\n",
    "\n",
    "labels = extract_patches_skimage(sdata['annotations'].values) // 255\n",
    "images = extract_patches_skimage(sdata['C-001_S-000_B_APC_R-01_W-B-1_ROI-01_A-None.tif'].values.squeeze()) / 255\n",
    "\n",
    "input_image = images[0][..., np.newaxis]\n",
    "input_image = np.expand_dims(input_image, axis=0) \n",
    "\n",
    "predictions = model.predict(input_image)"
   ]
  },
  {
   "cell_type": "code",
   "execution_count": null,
   "metadata": {},
   "outputs": [],
   "source": [
    "def dice_coef(y_true, y_pred, smooth=1):\n",
    "    y_true_flat = y_true.flatten()\n",
    "    y_pred_flat = y_pred.flatten()\n",
    "\n",
    "    intersection = np.sum(y_true_flat * y_pred_flat)\n",
    "    return (2. * intersection + smooth) / (np.sum(y_true_flat) + np.sum(y_pred_flat) + smooth)\n",
    "\n",
    "def iou(y_true, y_pred, smooth=1):\n",
    "    y_true_flat = y_true.flatten()\n",
    "    y_pred_flat = y_pred.flatten()\n",
    "    intersection = np.sum(y_true_flat * y_pred_flat)\n",
    "    union = np.sum(y_true_flat) + np.sum(y_pred_flat) - intersection\n",
    "    return (intersection + smooth) / (union + smooth)\n",
    "\n",
    "def dice_loss(y_true, y_pred):\n",
    "    return 1 - dice_coef(y_true, y_pred)\n"
   ]
  },
  {
   "cell_type": "code",
   "execution_count": null,
   "metadata": {},
   "outputs": [],
   "source": [
    "dice_"
   ]
  },
  {
   "cell_type": "code",
   "execution_count": null,
   "metadata": {},
   "outputs": [
    {
     "name": "stderr",
     "output_type": "stream",
     "text": [
      "c:\\Users\\Mattias\\anaconda3\\envs\\classifier_env\\lib\\site-packages\\zarr\\creation.py:614: UserWarning: ignoring keyword argument 'read_only'\n",
      "  compressor, fill_value = _kwargs_compat(compressor, fill_value, kwargs)\n"
     ]
    },
    {
     "name": "stdout",
     "output_type": "stream",
     "text": [
      "1/1 [==============================] - 0s 20ms/step\n"
     ]
    }
   ],
   "source": [
    "predictions = model.predict(input_image)\n",
    "\n",
    "from PIL import Image\n",
    "import numpy as np\n",
    "\n",
    "img = Image.fromarray(predictions.squeeze(), 'L')\n",
    "lab = Image.fromarray(labels[0])\n",
    "lab.show()\n",
    "img.show()"
   ]
  },
  {
   "cell_type": "code",
   "execution_count": 29,
   "metadata": {},
   "outputs": [
    {
     "data": {
      "text/plain": [
       "['D:\\\\2024_03_15_CelineEveraert_2b_240321_001656_preprocessed\\\\2024_03_15_CelineEveraert_2b\\\\R01\\\\B01\\\\ROI1',\n",
       " 'D:\\\\2024_03_15_CelineEveraert_2b_240321_001656_preprocessed\\\\2024_03_15_CelineEveraert_2b\\\\R01\\\\D01\\\\ROI1',\n",
       " 'D:\\\\2024_03_15_CelineEveraert_3_240414_071301_preprocessed\\\\2024_03_15_CelineEveraert_3\\\\R01\\\\B01\\\\ROI1',\n",
       " 'D:\\\\2024_03_15_CelineEveraert_3_240414_071301_preprocessed\\\\2024_03_15_CelineEveraert_3\\\\R01\\\\D01\\\\ROI1',\n",
       " 'D:\\\\2024_03_15_CelineEveraert_3_240414_071301_preprocessed2\\\\2024_03_15_CelineEveraert_3\\\\R01\\\\B01\\\\ROI1',\n",
       " 'D:\\\\2024_03_15_CelineEveraert_3_240414_071301_preprocessed2\\\\2024_03_15_CelineEveraert_3\\\\R01\\\\D01\\\\ROI1',\n",
       " 'D:\\\\2024_08_29_M14_CelineEveraert_11_240911_171248_preprocessed\\\\2024_08_29_M14_CelineEveraert_11_240911_171248_preprocessed\\\\2024_08_29_M14_CelineEveraert_11\\\\R01\\\\B01\\\\ROI1',\n",
       " 'D:\\\\2024_08_29_M14_CelineEveraert_11_240911_171248_preprocessed\\\\2024_08_29_M14_CelineEveraert_11_240911_171248_preprocessed\\\\2024_08_29_M14_CelineEveraert_11\\\\R01\\\\B01\\\\ROI2',\n",
       " 'D:\\\\2024_08_29_M14_CelineEveraert_11_240911_171248_preprocessed\\\\2024_08_29_M14_CelineEveraert_11_240911_171248_preprocessed\\\\2024_08_29_M14_CelineEveraert_11\\\\R01\\\\B01\\\\ROI3',\n",
       " 'D:\\\\2024_09_12_M16_CellineEveraert_12_241021_411738_PPP\\\\2024_09_12_M16_CellineEveraert_12\\\\R01\\\\B01\\\\ROI1',\n",
       " 'D:\\\\2024_09_12_M16_CellineEveraert_12_241021_411738_PPP\\\\2024_09_12_M16_CellineEveraert_12\\\\R01\\\\B01\\\\ROI2',\n",
       " 'D:\\\\2024_09_12_M16_CellineEveraert_12_241021_411738_PPP\\\\2024_09_12_M16_CellineEveraert_12\\\\R01\\\\B01\\\\ROI3',\n",
       " 'D:\\\\2024_09_12_M16_CellineEveraert_12_241021_411738_PPP\\\\2024_09_12_M16_CellineEveraert_12\\\\R01\\\\B01\\\\ROI4',\n",
       " 'D:\\\\2024-09-25_exp38_SPC-036_CelineEveraert 1_241021_451443_PPP\\\\2024-09-25_exp38_SPC-036_CelineEveraert 1\\\\R01\\\\B01\\\\ROI1',\n",
       " 'D:\\\\2024-09-25_exp38_SPC-036_CelineEveraert 1_241021_451443_PPP\\\\2024-09-25_exp38_SPC-036_CelineEveraert 1\\\\R01\\\\B01\\\\ROI2',\n",
       " 'D:\\\\PPP MICS_2023-11-22_11-03-48_2023_11_hRCC_2023_11_22_CelineEveraert\\\\2023_11_22_CelineEveraert\\\\R1\\\\B1\\\\ROI1',\n",
       " 'D:\\\\PPP MICS_2023-11-22_11-03-48_2023_11_hRCC_2023_11_22_CelineEveraert\\\\2023_11_22_CelineEveraert\\\\R1\\\\D1\\\\ROI1',\n",
       " 'D:\\\\PPP_2024_09_06_M15_fixedraw\\\\2024_09_06_M15_Annelies_Van Hemelryk_UCSC_Neuroblastoma_2\\\\R01\\\\A01\\\\ROI1',\n",
       " 'D:\\\\PPP_2024_09_06_M15_fixedraw\\\\2024_09_06_M15_Annelies_Van Hemelryk_UCSC_Neuroblastoma_2\\\\R01\\\\A01\\\\ROI2',\n",
       " 'D:\\\\PPP_2024_09_06_M15_fixedraw\\\\2024_09_06_M15_Annelies_Van Hemelryk_UCSC_Neuroblastoma_2\\\\R01\\\\A01\\\\ROI3',\n",
       " 'D:\\\\PPP_2024_09_06_M15_fixedraw\\\\2024_09_06_M15_Annelies_Van Hemelryk_UCSC_Neuroblastoma_2\\\\R01\\\\A01\\\\ROI4',\n",
       " 'D:\\\\PPP_2024_09_06_M15_fixedraw\\\\2024_09_06_M15_Annelies_Van Hemelryk_UCSC_Neuroblastoma_2\\\\R01\\\\A01\\\\ROI5',\n",
       " 'D:\\\\PPP_M17_SPC-035-full2\\\\2024_09_20_M17_SPC-035_HelenaAegerter\\\\R01\\\\A01\\\\ROI1',\n",
       " 'D:\\\\PPP_M17_SPC-035-full2\\\\2024_09_20_M17_SPC-035_HelenaAegerter\\\\R01\\\\A01\\\\ROI2',\n",
       " 'D:\\\\PPP_M17_SPC-035-full2\\\\2024_09_20_M17_SPC-035_HelenaAegerter\\\\R01\\\\A01\\\\ROI3']"
      ]
     },
     "execution_count": 29,
     "metadata": {},
     "output_type": "execute_result"
    }
   ],
   "source": [
    "directories = open(r\"..\\model\\files.txt\", \"r\")\n",
    "\n",
    "directories.read().split(\"\\n\")"
   ]
  },
  {
   "cell_type": "code",
   "execution_count": 10,
   "metadata": {},
   "outputs": [
    {
     "name": "stdout",
     "output_type": "stream",
     "text": [
      "2024_09_12_M16_CellineEveraert_12_R01_B01_ROI2.zarr: 3854\n",
      "2024_09_12_M16_CellineEveraert_12_R01_B01_ROI1.zarr: 3939\n",
      "2024_09_06_M15_Annelies_Van Hemelryk_UCSC_Neuroblastoma_2_R01_A01_ROI1.zarr: 5596\n",
      "Testdata_CA.zarr: 5997\n",
      "2024_09_06_M15_Annelies_Van Hemelryk_UCSC_Neuroblastoma_2_R01_A01_ROI5.zarr: 6262\n",
      "2024_09_20_M17_SPC-035_HelenaAegerter_R01_A01_ROI3.zarr: 6731\n",
      "Testdata_CE.zarr: 7376\n",
      "2024_03_15_CelineEveraert_3_R01_D01_ROI1.zarr: 7418\n",
      "2024_09_12_M16_CellineEveraert_12_R01_B01_ROI3.zarr: 8077\n",
      "2024_09_12_M16_CellineEveraert_12_R01_B01_ROI4.zarr: 8467\n",
      "2024_03_15_CelineEveraert_3_R01_B01_ROI1.zarr: 9411\n",
      "2024_09_20_M17_SPC-035_HelenaAegerter_R01_A01_ROI2.zarr: 10057\n",
      "2024_09_06_M15_Annelies_Van Hemelryk_UCSC_Neuroblastoma_2_R01_A01_ROI4.zarr: 12542\n",
      "2024-09-25_exp38_SPC-036_CelineEveraert 1_R01_B01_ROI2.zarr: 14028\n",
      "2024_03_15_CelineEveraert_3_2_R01_D01_ROI1.zarr: 16447\n",
      "2024_03_15_CelineEveraert_3_2_R01_B01_ROI1.zarr: 21533\n",
      "2024_08_29_M14_CelineEveraert_11_R01_B01_ROI2.zarr: 22182\n",
      "2024_08_29_M14_CelineEveraert_11_R01_B01_ROI1.zarr: 22604\n",
      "2024_09_06_M15_Annelies_Van Hemelryk_UCSC_Neuroblastoma_2_R01_A01_ROI2.zarr: 23179\n",
      "2024_09_06_M15_Annelies_Van Hemelryk_UCSC_Neuroblastoma_2_R01_A01_ROI3.zarr: 24737\n",
      "2024_09_20_M17_SPC-035_HelenaAegerter_R01_A01_ROI1.zarr: 25138\n",
      "2024-09-25_exp38_SPC-036_CelineEveraert 1_R01_B01_ROI1.zarr: 27571\n",
      "2024_03_15_CelineEveraert_2b_R01_B01_ROI1.zarr: 40497\n",
      "2023_11_22_CelineEveraert_R1_B1_ROI1.zarr: 60972\n",
      "2023_11_22_CelineEveraert_R1_D1_ROI1.zarr: 62627\n"
     ]
    }
   ],
   "source": [
    "def get_size(start_path = '.'):\n",
    "    total_size = 0\n",
    "    for dirpath, dirnames, filenames in os.walk(start_path):\n",
    "        for f in filenames:\n",
    "            fp = os.path.join(dirpath, f)\n",
    "            # skip if it is symbolic link\n",
    "            if not os.path.islink(fp):\n",
    "                total_size += os.path.getsize(fp)\n",
    "\n",
    "    return total_size//1_000_000\n",
    "list = []\n",
    "dir = r\"D:\\data\\train\"\n",
    "for arg in os.listdir(dir):\n",
    "    size = get_size(os.path.join(dir, arg))\n",
    "    list.append((arg, size))\n",
    "\n",
    "def myFunc(e):\n",
    "  return e[1]\n",
    "\n",
    "list.sort(key=myFunc)\n",
    "\n",
    "for i in list:\n",
    "    print(f\"{i[0]}: {i[1]}\")"
   ]
  }
 ],
 "metadata": {
  "kernelspec": {
   "display_name": "classifier_env",
   "language": "python",
   "name": "python3"
  },
  "language_info": {
   "codemirror_mode": {
    "name": "ipython",
    "version": 3
   },
   "file_extension": ".py",
   "mimetype": "text/x-python",
   "name": "python",
   "nbconvert_exporter": "python",
   "pygments_lexer": "ipython3",
   "version": "3.10.17"
  }
 },
 "nbformat": 4,
 "nbformat_minor": 2
}
